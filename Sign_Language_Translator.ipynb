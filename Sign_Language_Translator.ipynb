{
  "nbformat": 4,
  "nbformat_minor": 0,
  "metadata": {
    "accelerator": "GPU",
    "colab": {
      "name": "Sign Language Translator.ipynb",
      "provenance": [],
      "include_colab_link": true
    },
    "kernelspec": {
      "display_name": "Python 3",
      "name": "python3"
    }
  },
  "cells": [
    {
      "cell_type": "markdown",
      "metadata": {
        "id": "view-in-github",
        "colab_type": "text"
      },
      "source": [
        "<a href=\"https://colab.research.google.com/github/vermamuskan/Sign-Language-Translator-using-Convolutional-Neural-Network/blob/main/Sign_Language_Translator.ipynb\" target=\"_parent\"><img src=\"https://colab.research.google.com/assets/colab-badge.svg\" alt=\"Open In Colab\"/></a>"
      ]
    },
    {
      "cell_type": "code",
      "metadata": {
        "colab": {
          "base_uri": "https://localhost:8080/"
        },
        "id": "2e1Qbsv1rok_",
        "outputId": "cf3f4a48-8120-4c0c-be8c-2bd7a417c031"
      },
      "source": [
        "from keras import regularizers\n",
        "from keras.models import Sequential\n",
        "from keras.layers import Conv2D\n",
        "from keras.layers import MaxPooling2D\n",
        "from keras.layers import Flatten\n",
        "from keras.layers import Dense\n",
        "from keras.layers import Dropout\n",
        "from keras.wrappers.scikit_learn import KerasClassifier\n",
        "import cv2 as cv\n",
        "import pandas as pd\n",
        "import os\n",
        "import numpy as np\n",
        "import imutils\n",
        "from sklearn.metrics import accuracy_score, classification_report, confusion_matrix\n",
        "from sklearn.model_selection import train_test_split\n",
        "from sklearn.neighbors import KNeighborsClassifier\n",
        "import sklearn.metrics\n",
        "import matplotlib.pyplot as plt\n",
        "from skimage.io import imread, imshow\n",
        "from skimage.filters import prewitt_h,prewitt_v\n",
        "from tensorflow.python.keras.layers import BatchNormalization\n",
        "from tensorflow.python.keras.utils.np_utils import to_categorical\n",
        "from google.colab import drive\n",
        "drive.mount('/gdrive')\n",
        "\n",
        "\n"
      ],
      "execution_count": null,
      "outputs": [
        {
          "output_type": "stream",
          "text": [
            "Mounted at /gdrive\n"
          ],
          "name": "stdout"
        }
      ]
    },
    {
      "cell_type": "code",
      "metadata": {
        "colab": {
          "base_uri": "https://localhost:8080/"
        },
        "id": "ZERZ4d0BZq-t",
        "outputId": "c85c9020-b2a4-4fc4-be8d-31731793523e"
      },
      "source": [
        "import tensorflow as tf\n",
        "device_name = tf.test.gpu_device_name()\n",
        "if device_name != '/device:GPU:0':\n",
        "  raise SystemError('GPU device not found')\n",
        "print('Found GPU at: {}'.format(device_name))\n"
      ],
      "execution_count": null,
      "outputs": [
        {
          "output_type": "stream",
          "text": [
            "Found GPU at: /device:GPU:0\n"
          ],
          "name": "stdout"
        }
      ]
    },
    {
      "cell_type": "code",
      "metadata": {
        "colab": {
          "base_uri": "https://localhost:8080/"
        },
        "id": "QH71dmwE8xs2",
        "outputId": "556eda0f-5e58-4f1e-83be-363a05806ced"
      },
      "source": [
        "def create_Train():\n",
        "    features = []\n",
        "    labels = []\n",
        "    letters = []\n",
        "\n",
        "    for i in os.listdir(r'/gdrive/MyDrive/ASL/dataset/Front_CAM'):\n",
        "        letters.append(i)\n",
        "\n",
        "    DIR = r'/gdrive/MyDrive/ASL/dataset/Front_CAM'\n",
        "    size = 200,200\n",
        "   # for view in os.listdir(DIR):\n",
        "    # v_path = os.path.join(DIR,view)\n",
        "    for l in letters:\n",
        "      path = os.path.join(DIR, l)\n",
        "      label = letters.index(l)\n",
        "\n",
        "      for j in os.listdir(path):\n",
        "        img_p = os.path.join(path, j)\n",
        "        img_array = cv.imread(img_p)\n",
        "        #img_array = cv.cvtColor(img_array, cv.COLOR_BGR2GRAY)\n",
        "        img_array = cv.resize(img_array,size)\n",
        "        img_array = cv.cvtColor(img_array, cv.COLOR_BGR2RGB)\n",
        "        features.append(img_array)\n",
        "        labels.append(label)\n",
        "\n",
        "    X = np.array(features)\n",
        "    y = to_categorical(labels)\n",
        "\n",
        "    return X, y\n",
        "\n",
        "X,y= create_Train()\n",
        "\n",
        "\n",
        "\n",
        "\n",
        "#print(labels)\n",
        "print(y)\n"
      ],
      "execution_count": null,
      "outputs": [
        {
          "output_type": "stream",
          "text": [
            "[[1. 0. 0. ... 0. 0. 0.]\n",
            " [1. 0. 0. ... 0. 0. 0.]\n",
            " [1. 0. 0. ... 0. 0. 0.]\n",
            " ...\n",
            " [0. 0. 0. ... 0. 0. 1.]\n",
            " [0. 0. 0. ... 0. 0. 1.]\n",
            " [0. 0. 0. ... 0. 0. 1.]]\n"
          ],
          "name": "stdout"
        }
      ]
    },
    {
      "cell_type": "code",
      "metadata": {
        "id": "EbQbfaNK7036"
      },
      "source": [
        "from tensorflow.keras.losses import sparse_categorical_crossentropy\n",
        "from keras import optimizers\n",
        "\n",
        "#X = X.astype('float32')\n",
        "#input_test = input_test.astype('float32')\n",
        "\n",
        "# Scale data\n",
        "#X = X / 255\n",
        "#input_test = input_test / 255\n",
        "from sklearn.utils import shuffle\n",
        "shuffle(X,y)\n",
        "\n",
        "X_train, X_test, y_train, y_test = train_test_split(X, y, test_size=0.2)\n",
        "\n",
        "\n",
        "\n",
        "# Create the model\n",
        "model = Sequential()\n",
        "model.add(Conv2D(32, kernel_size=(3, 3), activation='relu', input_shape=(200,200,3)))\n",
        "model.add(Conv2D(64, kernel_size=(3, 3), activation='relu'))\n",
        "model.add(Conv2D(128, kernel_size=(3, 3), activation='relu'))\n",
        "model.add(Flatten())\n",
        "model.add(Dense(64, activation='relu'))\n",
        "model.add(Dense(10, activation='softmax'))\n",
        "\n",
        "# Compile the model\n",
        "model.compile(loss='sparse_categorical_crossentropy',\n",
        "              optimizer='adam',\n",
        "              metrics=['accuracy'])\n",
        "\n",
        "# Fit data to model\n",
        "history = model.fit(X_train, y_train,batch_size=30,epochs=11, verbose=1)\n",
        "\n",
        "# Generate generalization metrics\n",
        "score = model.evaluate(X_test, y_test, verbose=0)\n",
        "print(f'Test loss: {score[0]} / Test accuracy: {score[1]}')\n"
      ],
      "execution_count": null,
      "outputs": []
    },
    {
      "cell_type": "code",
      "metadata": {
        "id": "xyECesEf70Xa"
      },
      "source": [
        ""
      ],
      "execution_count": null,
      "outputs": []
    },
    {
      "cell_type": "code",
      "metadata": {
        "colab": {
          "base_uri": "https://localhost:8080/"
        },
        "id": "q0dl5XtYVfkX",
        "outputId": "720bd0a1-180d-41a9-e6b7-ceacd075305a"
      },
      "source": [
        "print(len(y))"
      ],
      "execution_count": null,
      "outputs": [
        {
          "output_type": "stream",
          "text": [
            "4160\n"
          ],
          "name": "stdout"
        }
      ]
    },
    {
      "cell_type": "code",
      "metadata": {
        "colab": {
          "base_uri": "https://localhost:8080/",
          "height": 137
        },
        "id": "N_Gi0Z2D827G",
        "outputId": "ee813585-6c69-498d-d244-e30889337ea9"
      },
      "source": [
        "from sklearn.utils import shuffle\n",
        "from keras import optimizers\n",
        "from keras.callbacks import ModelCheckpoint\n",
        "shuffle(X,y)\n",
        "X_train, X_test, y_train, y_test = train_test_split(X, y, test_size=0.2)\n",
        "#print(X_test)\n",
        "#print(y_train)\n",
        "\n",
        "def create_model():\n",
        "  model = Sequential()\n",
        "  model.add(Conv2D(16, (2,2), input_shape=(200, 200, 3), activation='relu'))\n",
        "  model.add(MaxPooling2D(pool_size=(2, 2), strides=(2, 2), padding='same'))\n",
        "  model.add(Conv2D(32, (3,3), activation='relu'))\n",
        "  model.add(MaxPooling2D(pool_size=(3, 3), strides=(3, 3), padding='same'))\n",
        "  model.add(Conv2D(64, (5,5), activation='relu'))\n",
        "  model.add(MaxPooling2D(pool_size=(5, 5), strides=(5, 5), padding='same'))\n",
        "  model.add(Flatten())\n",
        "  model.add(Dense(128, activation='relu'))\n",
        "  model.add(Dropout(0.2))\n",
        "  model.add(Dense(26, activation='softmax'))\n",
        "  sgd = optimizers.SGD(lr=1e-2)\n",
        "  model.compile(loss='categorical_crossentropy', optimizer=sgd, metrics=['accuracy'])\n",
        "  filepath=\"cnn_model_keras2.h5\"\n",
        "  checkpoint1 = ModelCheckpoint(filepath, monitor='val_acc', verbose=1, save_best_only=True, mode='max')\n",
        "  callbacks_list = [checkpoint1]\n",
        "\t#from keras.utils import plot_model\n",
        "\t#plot_model(model, to_file='model.png', show_shapes=True)\n",
        "  return model, callbacks_list\n",
        "\n",
        "\n",
        "'''\n",
        "  model.add(Conv2D(64,kernel_size=[3,3],padding='same', input_shape=(200,200,3), activation='relu'))  # first hidden layer\n",
        "  model.add(Conv2D(64,kernel_size=[3,3],padding='same', activation='relu'))\n",
        "  model.add(MaxPooling2D(pool_size=[3,3]))\n",
        "\n",
        "  model.add(Conv2D(128,kernel_size=[5,5],padding='same', activation='relu'))\n",
        "  model.add(Conv2D(128,kernel_size=[5,5],padding='same', activation='relu'))\n",
        "  model.add(MaxPooling2D(pool_size=[3,3]))\n",
        "\n",
        "  model.add(Conv2D(256,kernel_size=[5,5],padding='same', activation='relu'))  # first hidden layer\n",
        "  model.add(Conv2D(256,kernel_size=[5,5],padding='same', activation='relu'))\n",
        "  model.add(Conv2D(256,kernel_size=[5,5],padding='same', activation='relu'))\n",
        "  model.add(MaxPooling2D(pool_size=[3,3]))\n",
        "\n",
        "\n",
        "  #model.add(Conv2D(512,kernel_size=[5,5],padding='same', activation='relu'))  # first hidden layer\n",
        "  #model.add(Conv2D(512,kernel_size=[5,5],padding='same', activation='relu'))\n",
        "  #model.add(MaxPooling2D(pool_size=[3,3]))\n",
        "\n",
        "  #model.add(Conv2D(512,kernel_size=[3,3],padding='same', activation='relu'))\n",
        "  #model.add(MaxPooling2D(pool_size=[2,2]))\n",
        "\n",
        "  model.add(BatchNormalization())\n",
        "  model.add(Flatten())\n",
        "  model.add(Dropout(0.6))\n",
        "\n",
        "  #model.add(Dense(1024, activation='relu',kernel_regularizer= regularizers.l2(0.001)))\n",
        "  #model.add(Dense(512, activation='relu',kernel_regularizer= regularizers.l2(0.001)))   \n",
        "  #model.add(Dense(512, activation='softmax'))   # output layer\n",
        "  #model.add(Dense(512, activation='softmax'))  \n",
        "  #model.add(Dense(512, activation='softmax'))  \n",
        "  model.add(Dense(26, activation='softmax'))   # output layer\n",
        "  #model.compile(loss='categorical_crossentropy', optimizer='adam', metrics=['accuracy'])\n",
        "'''\n",
        "  \n",
        "\n"
      ],
      "execution_count": null,
      "outputs": [
        {
          "output_type": "execute_result",
          "data": {
            "application/vnd.google.colaboratory.intrinsic+json": {
              "type": "string"
            },
            "text/plain": [
              "\"\\n  model.add(Conv2D(64,kernel_size=[3,3],padding='same', input_shape=(200,200,3), activation='relu'))  # first hidden layer\\n  model.add(Conv2D(64,kernel_size=[3,3],padding='same', activation='relu'))\\n  model.add(MaxPooling2D(pool_size=[3,3]))\\n\\n  model.add(Conv2D(128,kernel_size=[5,5],padding='same', activation='relu'))\\n  model.add(Conv2D(128,kernel_size=[5,5],padding='same', activation='relu'))\\n  model.add(MaxPooling2D(pool_size=[3,3]))\\n\\n  model.add(Conv2D(256,kernel_size=[5,5],padding='same', activation='relu'))  # first hidden layer\\n  model.add(Conv2D(256,kernel_size=[5,5],padding='same', activation='relu'))\\n  model.add(Conv2D(256,kernel_size=[5,5],padding='same', activation='relu'))\\n  model.add(MaxPooling2D(pool_size=[3,3]))\\n\\n\\n  #model.add(Conv2D(512,kernel_size=[5,5],padding='same', activation='relu'))  # first hidden layer\\n  #model.add(Conv2D(512,kernel_size=[5,5],padding='same', activation='relu'))\\n  #model.add(MaxPooling2D(pool_size=[3,3]))\\n\\n  #model.add(Conv2D(512,kernel_size=[3,3],padding='same', activation='relu'))\\n  #model.add(MaxPooling2D(pool_size=[2,2]))\\n\\n  model.add(BatchNormalization())\\n  model.add(Flatten())\\n  model.add(Dropout(0.6))\\n\\n  #model.add(Dense(1024, activation='relu',kernel_regularizer= regularizers.l2(0.001)))\\n  #model.add(Dense(512, activation='relu',kernel_regularizer= regularizers.l2(0.001)))   \\n  #model.add(Dense(512, activation='softmax'))   # output layer\\n  #model.add(Dense(512, activation='softmax'))  \\n  #model.add(Dense(512, activation='softmax'))  \\n  model.add(Dense(26, activation='softmax'))   # output layer\\n  #model.compile(loss='categorical_crossentropy', optimizer='adam', metrics=['accuracy'])\\n\""
            ]
          },
          "metadata": {
            "tags": []
          },
          "execution_count": 163
        }
      ]
    },
    {
      "cell_type": "code",
      "metadata": {
        "colab": {
          "base_uri": "https://localhost:8080/"
        },
        "id": "0ANdDCnqX8Rm",
        "outputId": "bb00616f-5a89-4c28-bbee-4a367b315247"
      },
      "source": [
        "model, callbacks_list = create_model()\n",
        "model.summary()\n",
        "X_train, val_images, y_train, val_labels = train_test_split(X_train, y_train, test_size=0.2)\n",
        "\n",
        "model.fit(X_train, y_train, validation_data=(val_images, val_labels), epochs=15, batch_size=500, callbacks=callbacks_list)\n",
        "scores = model.evaluate(val_images, val_labels, verbose=0)\n",
        "print(\"CNN Error: %.2f%%\" % (100-scores[1]*100))"
      ],
      "execution_count": null,
      "outputs": [
        {
          "output_type": "stream",
          "text": [
            "Model: \"sequential_87\"\n",
            "_________________________________________________________________\n",
            "Layer (type)                 Output Shape              Param #   \n",
            "=================================================================\n",
            "conv2d_585 (Conv2D)          (None, 199, 199, 16)      208       \n",
            "_________________________________________________________________\n",
            "max_pooling2d_304 (MaxPoolin (None, 100, 100, 16)      0         \n",
            "_________________________________________________________________\n",
            "conv2d_586 (Conv2D)          (None, 98, 98, 32)        4640      \n",
            "_________________________________________________________________\n",
            "max_pooling2d_305 (MaxPoolin (None, 33, 33, 32)        0         \n",
            "_________________________________________________________________\n",
            "conv2d_587 (Conv2D)          (None, 29, 29, 64)        51264     \n",
            "_________________________________________________________________\n",
            "max_pooling2d_306 (MaxPoolin (None, 6, 6, 64)          0         \n",
            "_________________________________________________________________\n",
            "flatten_87 (Flatten)         (None, 2304)              0         \n",
            "_________________________________________________________________\n",
            "dense_176 (Dense)            (None, 128)               295040    \n",
            "_________________________________________________________________\n",
            "dropout_51 (Dropout)         (None, 128)               0         \n",
            "_________________________________________________________________\n",
            "dense_177 (Dense)            (None, 26)                3354      \n",
            "=================================================================\n",
            "Total params: 354,506\n",
            "Trainable params: 354,506\n",
            "Non-trainable params: 0\n",
            "_________________________________________________________________\n",
            "Epoch 1/15\n",
            "2/2 [==============================] - 3s 970ms/step - loss: 8777.6151 - accuracy: 0.0477 - val_loss: 3240542.7500 - val_accuracy: 0.0479\n",
            "WARNING:tensorflow:Can save best model only with val_acc available, skipping.\n",
            "Epoch 2/15\n",
            "2/2 [==============================] - 0s 127ms/step - loss: 5188248355394.0000 - accuracy: 0.0464 - val_loss: 52746919763956289671004160.0000 - val_accuracy: 0.0419\n",
            "WARNING:tensorflow:Can save best model only with val_acc available, skipping.\n",
            "Epoch 3/15\n",
            "2/2 [==============================] - 0s 128ms/step - loss: 63117124342644912630530048.0000 - accuracy: 0.0304 - val_loss: 72308983866767818755219072082771968.0000 - val_accuracy: 0.0479\n",
            "WARNING:tensorflow:Can save best model only with val_acc available, skipping.\n",
            "Epoch 4/15\n",
            "2/2 [==============================] - 0s 128ms/step - loss: 83033266680030660238081338944520192.0000 - accuracy: 0.0327 - val_loss: 3.2580 - val_accuracy: 0.0359\n",
            "WARNING:tensorflow:Can save best model only with val_acc available, skipping.\n",
            "Epoch 5/15\n",
            "2/2 [==============================] - 0s 127ms/step - loss: 3.2582 - accuracy: 0.0414 - val_loss: 3.2580 - val_accuracy: 0.0359\n",
            "WARNING:tensorflow:Can save best model only with val_acc available, skipping.\n",
            "Epoch 6/15\n",
            "2/2 [==============================] - 0s 126ms/step - loss: 3.2582 - accuracy: 0.0414 - val_loss: 3.2580 - val_accuracy: 0.0359\n",
            "WARNING:tensorflow:Can save best model only with val_acc available, skipping.\n",
            "Epoch 7/15\n",
            "2/2 [==============================] - 0s 129ms/step - loss: 3.2582 - accuracy: 0.0394 - val_loss: 3.2581 - val_accuracy: 0.0359\n",
            "WARNING:tensorflow:Can save best model only with val_acc available, skipping.\n",
            "Epoch 8/15\n",
            "2/2 [==============================] - 0s 126ms/step - loss: 3.2582 - accuracy: 0.0407 - val_loss: 3.2581 - val_accuracy: 0.0359\n",
            "WARNING:tensorflow:Can save best model only with val_acc available, skipping.\n",
            "Epoch 9/15\n",
            "2/2 [==============================] - 0s 128ms/step - loss: 3.2582 - accuracy: 0.0434 - val_loss: 3.2581 - val_accuracy: 0.0359\n",
            "WARNING:tensorflow:Can save best model only with val_acc available, skipping.\n",
            "Epoch 10/15\n",
            "2/2 [==============================] - 0s 129ms/step - loss: 3.2582 - accuracy: 0.0407 - val_loss: 3.2582 - val_accuracy: 0.0359\n",
            "WARNING:tensorflow:Can save best model only with val_acc available, skipping.\n",
            "Epoch 11/15\n",
            "2/2 [==============================] - 0s 132ms/step - loss: 3.2582 - accuracy: 0.0427 - val_loss: 3.2582 - val_accuracy: 0.0359\n",
            "WARNING:tensorflow:Can save best model only with val_acc available, skipping.\n",
            "Epoch 12/15\n",
            "2/2 [==============================] - 0s 132ms/step - loss: 3.2582 - accuracy: 0.0414 - val_loss: 3.2582 - val_accuracy: 0.0359\n",
            "WARNING:tensorflow:Can save best model only with val_acc available, skipping.\n",
            "Epoch 13/15\n",
            "2/2 [==============================] - 0s 135ms/step - loss: 3.2581 - accuracy: 0.0401 - val_loss: 3.2582 - val_accuracy: 0.0359\n",
            "WARNING:tensorflow:Can save best model only with val_acc available, skipping.\n",
            "Epoch 14/15\n",
            "2/2 [==============================] - 0s 130ms/step - loss: 3.2581 - accuracy: 0.0414 - val_loss: 3.2583 - val_accuracy: 0.0359\n",
            "WARNING:tensorflow:Can save best model only with val_acc available, skipping.\n",
            "Epoch 15/15\n",
            "2/2 [==============================] - 0s 126ms/step - loss: 3.2581 - accuracy: 0.0441 - val_loss: 3.2583 - val_accuracy: 0.0359\n",
            "WARNING:tensorflow:Can save best model only with val_acc available, skipping.\n",
            "CNN Error: 96.41%\n"
          ],
          "name": "stdout"
        }
      ]
    },
    {
      "cell_type": "code",
      "metadata": {
        "id": "sSr3Q8r40bPW"
      },
      "source": [
        ""
      ],
      "execution_count": null,
      "outputs": []
    },
    {
      "cell_type": "code",
      "metadata": {
        "colab": {
          "base_uri": "https://localhost:8080/"
        },
        "id": "X14zdFwJW4AD",
        "outputId": "01996b18-7c58-4b40-d80d-6e69f222beba"
      },
      "source": [
        "model1 = create_model()\n",
        "H = model1.fit(X_train, y_train, epochs=14, batch_size=60, verbose=1)\n",
        "_, accuracy = model1.evaluate(X_test, y_test, verbose=0)\n",
        "print(accuracy)"
      ],
      "execution_count": null,
      "outputs": [
        {
          "output_type": "stream",
          "text": [
            "Epoch 1/14\n",
            "14/14 [==============================] - 1s 43ms/step - loss: nan - accuracy: 0.0317\n",
            "Epoch 2/14\n",
            "14/14 [==============================] - 0s 30ms/step - loss: nan - accuracy: 0.0419\n",
            "Epoch 3/14\n",
            "14/14 [==============================] - 0s 29ms/step - loss: nan - accuracy: 0.0292\n",
            "Epoch 4/14\n",
            "14/14 [==============================] - 0s 29ms/step - loss: nan - accuracy: 0.0512\n",
            "Epoch 5/14\n",
            "14/14 [==============================] - 0s 29ms/step - loss: nan - accuracy: 0.0443\n",
            "Epoch 6/14\n",
            "14/14 [==============================] - 0s 29ms/step - loss: nan - accuracy: 0.0357\n",
            "Epoch 7/14\n",
            "14/14 [==============================] - 0s 29ms/step - loss: nan - accuracy: 0.0433\n",
            "Epoch 8/14\n",
            "14/14 [==============================] - 0s 29ms/step - loss: nan - accuracy: 0.0387\n",
            "Epoch 9/14\n",
            "14/14 [==============================] - 0s 29ms/step - loss: nan - accuracy: 0.0457\n",
            "Epoch 10/14\n",
            "14/14 [==============================] - 0s 29ms/step - loss: nan - accuracy: 0.0407\n",
            "Epoch 11/14\n",
            "14/14 [==============================] - 0s 29ms/step - loss: nan - accuracy: 0.0364\n",
            "Epoch 12/14\n",
            "14/14 [==============================] - 0s 28ms/step - loss: nan - accuracy: 0.0372\n",
            "Epoch 13/14\n",
            "14/14 [==============================] - 0s 29ms/step - loss: nan - accuracy: 0.0345\n",
            "Epoch 14/14\n",
            "14/14 [==============================] - 0s 29ms/step - loss: nan - accuracy: 0.0317\n",
            "0.03846153989434242\n"
          ],
          "name": "stdout"
        }
      ]
    },
    {
      "cell_type": "code",
      "metadata": {
        "colab": {
          "base_uri": "https://localhost:8080/"
        },
        "id": "B0MhG2TVglJy",
        "outputId": "b17e88aa-eb55-4aa9-dadf-f2d0562bc015"
      },
      "source": [
        "model1 = create_model()\n",
        "model1.compile(loss='categorical_crossentropy', optimizer='adam', metrics=['accuracy'])\n",
        "H = model1.fit(X_train, y_train, epochs=14, batch_size=60, verbose=1)\n",
        "_, accuracy = model1.evaluate(X_test, y_test, verbose=0)\n",
        "print(accuracy)"
      ],
      "execution_count": null,
      "outputs": [
        {
          "output_type": "stream",
          "text": [
            "Epoch 1/14\n",
            "14/14 [==============================] - 5s 326ms/step - loss: 4.2422 - accuracy: 0.0360\n",
            "Epoch 2/14\n",
            "14/14 [==============================] - 5s 326ms/step - loss: 3.3796 - accuracy: 0.1053\n",
            "Epoch 3/14\n",
            "14/14 [==============================] - 5s 327ms/step - loss: 3.2644 - accuracy: 0.0796\n",
            "Epoch 4/14\n",
            "14/14 [==============================] - 5s 329ms/step - loss: 3.2087 - accuracy: 0.0834\n",
            "Epoch 5/14\n",
            "14/14 [==============================] - 5s 329ms/step - loss: 3.2649 - accuracy: 0.0904\n",
            "Epoch 6/14\n",
            "14/14 [==============================] - 5s 330ms/step - loss: 3.0343 - accuracy: 0.1577\n",
            "Epoch 7/14\n",
            "14/14 [==============================] - 5s 332ms/step - loss: 3.0041 - accuracy: 0.1302\n",
            "Epoch 8/14\n",
            "14/14 [==============================] - 5s 331ms/step - loss: 2.9835 - accuracy: 0.1432\n",
            "Epoch 9/14\n",
            "14/14 [==============================] - 5s 333ms/step - loss: 2.7289 - accuracy: 0.1987\n",
            "Epoch 10/14\n",
            "14/14 [==============================] - 5s 332ms/step - loss: 2.7195 - accuracy: 0.2009\n",
            "Epoch 11/14\n",
            "14/14 [==============================] - 5s 331ms/step - loss: 2.7401 - accuracy: 0.1854\n",
            "Epoch 12/14\n",
            "14/14 [==============================] - 5s 329ms/step - loss: 2.7076 - accuracy: 0.1782\n",
            "Epoch 13/14\n",
            "14/14 [==============================] - 5s 329ms/step - loss: 2.5962 - accuracy: 0.2217\n",
            "Epoch 14/14\n",
            "14/14 [==============================] - 5s 328ms/step - loss: 2.5167 - accuracy: 0.2421\n",
            "0.024038461968302727\n"
          ],
          "name": "stdout"
        }
      ]
    },
    {
      "cell_type": "code",
      "metadata": {
        "colab": {
          "base_uri": "https://localhost:8080/",
          "height": 598
        },
        "id": "IaDXBeaUPhpA",
        "outputId": "b3d59f51-5c30-499e-f835-34508f4590ea"
      },
      "source": [
        "from matplotlib import pyplot as plt\n",
        "model1 = create_model()\n",
        "model1.compile(loss='categorical_crossentropy', optimizer='adam', metrics=['accuracy'])\n",
        "H = model1.fit(X_train, y_train,validation_split = 0.3, epochs=9, batch_size=60)\n",
        "plt.plot(H.history['accuracy'])\n",
        "plt.plot(H.history['val_accuracy'])\n",
        "plt.title('model accuracy')\n",
        "plt.ylabel('accuracy')\n",
        "plt.xlabel('epoch')\n",
        "plt.legend(['train', 'val'], loc='upper left')\n",
        "plt.show()"
      ],
      "execution_count": null,
      "outputs": [
        {
          "output_type": "stream",
          "text": [
            "Epoch 1/9\n",
            "10/10 [==============================] - 4s 344ms/step - loss: 5.4712 - accuracy: 0.0446 - val_loss: 291.9341 - val_accuracy: 0.0360\n",
            "Epoch 2/9\n",
            "10/10 [==============================] - 3s 325ms/step - loss: 4.3866 - accuracy: 0.0840 - val_loss: 175.2785 - val_accuracy: 0.0440\n",
            "Epoch 3/9\n",
            "10/10 [==============================] - 3s 326ms/step - loss: 4.0797 - accuracy: 0.1181 - val_loss: 70.4420 - val_accuracy: 0.0440\n",
            "Epoch 4/9\n",
            "10/10 [==============================] - 3s 325ms/step - loss: 4.1210 - accuracy: 0.0843 - val_loss: 19.4333 - val_accuracy: 0.0360\n",
            "Epoch 5/9\n",
            "10/10 [==============================] - 3s 325ms/step - loss: 4.0071 - accuracy: 0.0674 - val_loss: 98.9994 - val_accuracy: 0.0440\n",
            "Epoch 6/9\n",
            "10/10 [==============================] - 3s 326ms/step - loss: 3.7155 - accuracy: 0.1096 - val_loss: 159.6153 - val_accuracy: 0.0440\n",
            "Epoch 7/9\n",
            "10/10 [==============================] - 3s 326ms/step - loss: 3.7262 - accuracy: 0.1183 - val_loss: 157.6038 - val_accuracy: 0.0240\n",
            "Epoch 8/9\n",
            "10/10 [==============================] - 3s 327ms/step - loss: 4.0105 - accuracy: 0.0814 - val_loss: 33.9256 - val_accuracy: 0.0280\n",
            "Epoch 9/9\n",
            "10/10 [==============================] - 3s 327ms/step - loss: 3.5933 - accuracy: 0.1424 - val_loss: 49.0503 - val_accuracy: 0.0320\n"
          ],
          "name": "stdout"
        },
        {
          "output_type": "display_data",
          "data": {
            "image/png": "[encoded data removed]",
            "text/plain": [
              "<Figure size 432x288 with 1 Axes>"
            ]
          },
          "metadata": {
            "tags": [],
            "needs_background": "light"
          }
        }
      ]
    },
    {
      "cell_type": "code",
      "metadata": {
        "colab": {
          "base_uri": "https://localhost:8080/"
        },
        "id": "LPiTiIEvReYP",
        "outputId": "d30d5143-ae70-4239-d798-5413d440984f"
      },
      "source": [
        "_, accuracy = model1.evaluate(X_test, y_test, verbose=0)\n",
        "print(accuracy)"
      ],
      "execution_count": null,
      "outputs": [
        {
          "output_type": "stream",
          "text": [
            "0.028846153989434242\n"
          ],
          "name": "stdout"
        }
      ]
    },
    {
      "cell_type": "code",
      "metadata": {
        "id": "jXRc4DpfO8lx"
      },
      "source": [
        "from keras.utils.vis_utils import plot_model\n",
        "plot_model(model1, to_file='model_plot.png', show_shapes=True, show_layer_names=True)"
      ],
      "execution_count": null,
      "outputs": []
    },
    {
      "cell_type": "code",
      "metadata": {
        "id": "FUBbGMUDOyaA"
      },
      "source": [
        "print(model1.summary())"
      ],
      "execution_count": null,
      "outputs": []
    },
    {
      "cell_type": "code",
      "metadata": {
        "colab": {
          "base_uri": "https://localhost:8080/"
        },
        "id": "sod3HDGr7oNr",
        "outputId": "476397d9-1dc1-4d44-c69d-4c81c97a7d92"
      },
      "source": [
        "model = create_model()\n",
        "model.compile(loss='categorical_crossentropy', optimizer='RMSprop', metrics=['accuracy'])\n",
        "H = model.fit(X_train, y_train, epochs=11, batch_size=60, verbose=1)\n",
        "_, accuracy = model.evaluate(X_test, y_test, verbose=0)\n",
        "print(accuracy)"
      ],
      "execution_count": null,
      "outputs": [
        {
          "output_type": "stream",
          "text": [
            "Epoch 1/11\n",
            "11/11 [==============================] - 4s 255ms/step - loss: 21.3020 - accuracy: 0.0490\n",
            "Epoch 2/11\n",
            "11/11 [==============================] - 3s 256ms/step - loss: 19.6660 - accuracy: 0.1244\n",
            "Epoch 3/11\n",
            "11/11 [==============================] - 3s 258ms/step - loss: 13.7644 - accuracy: 0.1568\n",
            "Epoch 4/11\n",
            "11/11 [==============================] - 3s 260ms/step - loss: 11.2631 - accuracy: 0.1693\n",
            "Epoch 5/11\n",
            "11/11 [==============================] - 3s 261ms/step - loss: 8.5268 - accuracy: 0.2217\n",
            "Epoch 6/11\n",
            "11/11 [==============================] - 3s 262ms/step - loss: 7.7173 - accuracy: 0.2475\n",
            "Epoch 7/11\n",
            "11/11 [==============================] - 3s 261ms/step - loss: 6.4943 - accuracy: 0.3266\n",
            "Epoch 8/11\n",
            "11/11 [==============================] - 3s 259ms/step - loss: 6.5554 - accuracy: 0.2935\n",
            "Epoch 9/11\n",
            "11/11 [==============================] - 3s 257ms/step - loss: 4.9541 - accuracy: 0.4067\n",
            "Epoch 10/11\n",
            "11/11 [==============================] - 3s 257ms/step - loss: 3.4732 - accuracy: 0.5156\n",
            "Epoch 11/11\n",
            "11/11 [==============================] - 3s 255ms/step - loss: 4.3108 - accuracy: 0.4923\n",
            "0.03846153989434242\n"
          ],
          "name": "stdout"
        }
      ]
    },
    {
      "cell_type": "code",
      "metadata": {
        "colab": {
          "base_uri": "https://localhost:8080/"
        },
        "id": "rJV-YDjt8VWo",
        "outputId": "7fab4682-7719-4ac2-b0fc-7157a6661cf0"
      },
      "source": [
        "_, accuracy = model1.evaluate(X_test, y_test, verbose=1)\n",
        "print(accuracy)"
      ],
      "execution_count": null,
      "outputs": [
        {
          "output_type": "stream",
          "text": [
            "7/7 [==============================] - 0s 53ms/step - loss: 537.0913 - accuracy: 0.0240\n",
            "0.024038461968302727\n"
          ],
          "name": "stdout"
        }
      ]
    },
    {
      "cell_type": "code",
      "metadata": {
        "id": "gTuUWqZrgul9"
      },
      "source": [
        "from sklearn.model_selection import GridSearchCV\n",
        "from keras.wrappers.scikit_learn import KerasClassifier\n",
        "model1 = KerasClassifier(build_fn=create_model, verbose=1)\n",
        "# define parameters and values for grid search \n",
        "param_grid = {\n",
        "    'batch_size': [16, 60],\n",
        "    'epochs': [7,11],\n",
        "   # 'dropout_rate': [0.0, 0.10, 0.20, 0.30],\n",
        "}\n",
        "grid = GridSearchCV(estimator=model1, param_grid=param_grid ,cv=3)\n",
        "grid_result = grid.fit(X_train, y_train) "
      ],
      "execution_count": null,
      "outputs": []
    },
    {
      "cell_type": "code",
      "metadata": {
        "id": "TmUOzI1zgy4y"
      },
      "source": [
        "best_params=grid_result.best_params_ \n",
        "accuracy=grid_result.best_score_ \n",
        "print(accuracy)\n",
        "print(best_params)"
      ],
      "execution_count": null,
      "outputs": []
    },
    {
      "cell_type": "code",
      "metadata": {
        "colab": {
          "base_uri": "https://localhost:8080/"
        },
        "id": "LC6_mIu8gxOF",
        "outputId": "b81bcc0c-c7f6-439b-b6c0-2ec419bae2e9"
      },
      "source": [
        "_, accuracy = model.evaluate(X_test, y_test, verbose=0)\n",
        "print(accuracy)"
      ],
      "execution_count": null,
      "outputs": [
        {
          "output_type": "stream",
          "text": [
            "0.03365384787321091\n"
          ],
          "name": "stdout"
        }
      ]
    },
    {
      "cell_type": "code",
      "metadata": {
        "id": "FpWZvQ0_0czp"
      },
      "source": [
        "from keras.utils import plot_model\n",
        "from keras.layers import Convolution2D, Dropout, Dense, Flatten, MaxPooling2D\n",
        "from keras.preprocessing.image import ImageDataGenerator, load_img\n",
        "from numpy import array\n",
        "from keras import regularizers\n",
        "from keras import regularizers\n",
        "from keras.models import Sequential\n",
        "from keras.layers import Conv2D\n",
        "from keras.wrappers.scikit_learn import KerasClassifier\n",
        "import cv2 as cv\n",
        "import pandas as pd\n",
        "import os\n",
        "import numpy as np\n",
        "import imutils\n",
        "from sklearn.metrics import accuracy_score, classification_report, confusion_matrix\n",
        "from sklearn.model_selection import train_test_split\n",
        "from sklearn.neighbors import KNeighborsClassifier\n",
        "import sklearn.metrics\n",
        "import matplotlib.pyplot as plt\n",
        "from skimage.io import imread, imshow\n",
        "from skimage.filters import prewitt_h,prewitt_v\n",
        "from tensorflow.python.keras.layers import BatchNormalization\n",
        "from tensorflow.python.keras.utils.np_utils import to_categorical\n",
        "\n",
        "def create_Train():\n",
        "    features = []\n",
        "    labels = []\n",
        "    letters = []\n",
        "\n",
        "    for i in os.listdir(r'/gdrive/MyDrive/ASL/dataset/Front_CAM'):\n",
        "        letters.append(i)\n",
        "\n",
        "    DIR = r'/gdrive/MyDrive/ASL/dataset/Front_CAM'\n",
        "    size = 500,500\n",
        "    #for view in os.listdir(DIR):\n",
        "     # v_path = os.path.join(DIR,view)\n",
        "    for l in letters:\n",
        "        path = os.path.join(DIR, l)\n",
        "        label = letters.index(l)\n",
        "        for j in os.listdir(path):\n",
        "            img_p = os.path.join(path, j)\n",
        "            img_array = cv.imread(img_p)\n",
        "            img_array = cv.resize(img_array,size)\n",
        "            #img_array = cv.cvtColor(img_array, cv.COLOR_BGR2RGB)\n",
        "            img_array = cv.cvtColor(img_array, cv.COLOR_BGR2GRAY)\n",
        "            features.append(img_array)\n",
        "            labels.append(label)\n",
        "\n",
        "    X = np.array(features)\n",
        "    y = to_categorical(labels)\n",
        "\n",
        "    return X, y\n",
        "\n",
        "X,y= create_Train()\n",
        "\n",
        "\n"
      ],
      "execution_count": null,
      "outputs": []
    },
    {
      "cell_type": "code",
      "metadata": {
        "id": "oonNPAgC39mf"
      },
      "source": [
        "from sklearn.utils import shuffle\n",
        "shuffle(X,y)\n",
        "X_train, X_test, y_train, y_test = train_test_split(X, y, test_size=0.2)\n",
        "#print(X_test)\n",
        "#print(y_train)\n",
        "shuffle(X_test,y_test)\n",
        "shuffle(X_train,y_train)\n",
        "\n",
        "\n",
        "\n",
        "\n",
        "#init the model\n",
        "model= Sequential()\n",
        "\n",
        "#add conv layers and pooling layers \n",
        "model.add(Convolution2D(32,3,3, input_shape=(200,200,3),activation='relu'))\n",
        "model.add(MaxPooling2D(pool_size=(2,2)))\n",
        "\n",
        "model.add(Convolution2D(64,5,5, input_shape=(200,200,3),activation='relu'))\n",
        "model.add(MaxPooling2D(pool_size=(2,2)))\n",
        "\n",
        "\n",
        "\n",
        "\n",
        "\n",
        "model.add(Dropout(0.4)) #to reduce overfitting\n",
        "\n",
        "model.add(Flatten())\n",
        "\n",
        "#Now two hidden(dense) layers:\n",
        "model.add(Dense( 150, activation = 'relu',\n",
        "                kernel_regularizer=regularizers.l2(0.01)))\n",
        "\n",
        "model.add(Dropout(0.6))#again for regularization\n",
        "\n",
        "model.add(Dense(150, activation = 'relu',\n",
        "                kernel_regularizer=regularizers.l2(0.01)))\n",
        "\n",
        "\n",
        "\n",
        "model.add(Dense(150, activation = 'swish',\n",
        "                kernel_regularizer=regularizers.l2(0.01)))\n",
        "\n",
        "model.add(Dense(150, activation = 'swish',\n",
        "                kernel_regularizer=regularizers.l2(0.01)))\n",
        "\n",
        "\n",
        "\n",
        "\n",
        "model.add(Dropout(0.4))#last one lol\n",
        "\n",
        "model.add(Dense(150, activation = 'relu',\n",
        "                kernel_regularizer=regularizers.l2(0.01)))\n",
        "\n",
        "#output layer\n",
        "model.add(Dense(26, activation = 'sigmoid'))\n",
        "\n",
        "\n",
        "#Now copile it\n",
        "model.compile(optimizer='RMSprop', loss='categorical_crossentropy', metrics=['accuracy'])\n",
        "\n",
        "#X_train, val_images, y_train, val_labels = train_test_split(X_train, y_train, test_size=0.2)\n",
        "'''\n",
        "dataAugmentaion = ImageDataGenerator(rotation_range = 30, zoom_range = 0.20, \n",
        "fill_mode = \"nearest\", shear_range = 0.20, horizontal_flip = True, \n",
        "width_shift_range = 0.1, height_shift_range = 0.1)\n",
        "model.fit_generator(dataAugmentaion.flow(X_train,y_train),\n",
        "                         samples_per_epoch = 1956,\n",
        "                         nb_epoch = 10,\n",
        "                         validation_data = (X_test,y_test),\n",
        "                         nb_val_samples = 320)\n",
        "\n",
        "'''\n",
        "\n",
        "H = model.fit(X_train, y_train, epochs=45, batch_size=70, verbose=1)\n",
        "\n",
        "\n",
        "\n",
        "scores = model.evaluate(X_test,y_test, verbose=0)\n",
        "print(\"CNN Error: %.2f%%\" % (100-scores[1]*100))\n",
        "print(scores[1])\n",
        "\n",
        "\n",
        "#after 10 epochs:\n",
        "    #training accuracy: 0.9005\n",
        "    #training loss:     0.4212\n",
        "    #test set accuracy: 0.8813\n",
        "    #test set loss:     0.5387\n",
        "\n",
        "\n",
        "\n",
        "\n",
        "\n"
      ],
      "execution_count": null,
      "outputs": []
    },
    {
      "cell_type": "code",
      "metadata": {
        "colab": {
          "base_uri": "https://localhost:8080/"
        },
        "id": "M_sBgYB_mpKV",
        "outputId": "d884fdc5-7fe0-4f45-a1fd-3e17951669a2"
      },
      "source": [
        "from keras import optimizers\n",
        "from keras.callbacks import ModelCheckpoint\n",
        "from sklearn.utils import shuffle\n",
        "shuffle(X,y)\n",
        "X_train, X_test, y_train, y_test = train_test_split(X, y, test_size=0.2)\n",
        "#print(X_test)\n",
        "#print(y_train)\n",
        "shuffle(X_test,y_test)\n",
        "shuffle(X_train,y_train)\n",
        "def model_cr():\n",
        "  model = Sequential()\n",
        "  model.add(Conv2D(16, (2,2), input_shape=(200, 200, 3), activation='relu'))\n",
        "  model.add(MaxPooling2D(pool_size=(2, 2), strides=(2, 2), padding='same'))\n",
        "  model.add(Conv2D(32, (3,3), activation='relu'))\n",
        "  model.add(Conv2D(64, (3,3), activation='swish'))\n",
        "  model.add(Conv2D(32, (3,3), activation='relu'))\n",
        "  model.add(Conv2D(64, (3,3), activation='swish'))\n",
        "  model.add(MaxPooling2D(pool_size=(3, 3), strides=(3, 3), padding='same'))\n",
        "  model.add(Conv2D(64, (5,5), activation='relu'))\n",
        "  model.add(MaxPooling2D(pool_size=(5, 5), strides=(5, 5), padding='same'))\n",
        "  model.add(Flatten())\n",
        "  model.add(Dense(128, activation='swish'))\n",
        "  model.add(Dropout(0.7))\n",
        "  model.add(Dense(26, activation='softmax'))\n",
        "  sgd = optimizers.SGD(lr=1e-2)\n",
        "  model.compile(loss='categorical_crossentropy', optimizer='RMSprop', metrics=['accuracy'])\n",
        "  filepath=\"cnn_model_keras2.h5\"\n",
        "  checkpoint1 = ModelCheckpoint(filepath, monitor='val_acc', verbose=1, save_best_only=True, mode='max')\n",
        "  callbacks_list = [checkpoint1]\n",
        "\t#from keras.utils import plot_model\n",
        "\t#plot_model(model, to_file='model.png', show_shapes=True)\n",
        "  return model, callbacks_list\n",
        "\n",
        "model, callbacks_list = model_cr()\n",
        "#model.summary()\n",
        "#X_train, val_images, y_train, val_labels = train_test_split(X_train, y_train, test_size=0.2)\n",
        "\n",
        "model.fit(X_train, y_train, epochs=75, batch_size=60, callbacks=callbacks_list)\n",
        "scores = model.evaluate(X_test, y_test, verbose=0)\n",
        "\n",
        "print(\"CNN acc: %.2f%%\" % (scores[1]*100))"
      ],
      "execution_count": null,
      "outputs": [
        {
          "output_type": "stream",
          "text": [
            "Epoch 1/75\n",
            "14/14 [==============================] - 2s 109ms/step - loss: 45.2444 - accuracy: 0.0256\n",
            "WARNING:tensorflow:Can save best model only with val_acc available, skipping.\n",
            "Epoch 2/75\n",
            "14/14 [==============================] - 2s 107ms/step - loss: 3.3802 - accuracy: 0.0330\n",
            "WARNING:tensorflow:Can save best model only with val_acc available, skipping.\n",
            "Epoch 3/75\n",
            "14/14 [==============================] - 2s 108ms/step - loss: 3.3410 - accuracy: 0.0401\n",
            "WARNING:tensorflow:Can save best model only with val_acc available, skipping.\n",
            "Epoch 4/75\n",
            "14/14 [==============================] - 2s 107ms/step - loss: 3.2887 - accuracy: 0.0482\n",
            "WARNING:tensorflow:Can save best model only with val_acc available, skipping.\n",
            "Epoch 5/75\n",
            "14/14 [==============================] - 1s 107ms/step - loss: 3.3253 - accuracy: 0.0777\n",
            "WARNING:tensorflow:Can save best model only with val_acc available, skipping.\n",
            "Epoch 6/75\n",
            "14/14 [==============================] - 1s 106ms/step - loss: 3.3195 - accuracy: 0.0460\n",
            "WARNING:tensorflow:Can save best model only with val_acc available, skipping.\n",
            "Epoch 7/75\n",
            "14/14 [==============================] - 2s 107ms/step - loss: 3.3247 - accuracy: 0.0634\n",
            "WARNING:tensorflow:Can save best model only with val_acc available, skipping.\n",
            "Epoch 8/75\n",
            "14/14 [==============================] - 2s 107ms/step - loss: 3.2554 - accuracy: 0.0590\n",
            "WARNING:tensorflow:Can save best model only with val_acc available, skipping.\n",
            "Epoch 9/75\n",
            "14/14 [==============================] - 1s 107ms/step - loss: 3.1653 - accuracy: 0.0806\n",
            "WARNING:tensorflow:Can save best model only with val_acc available, skipping.\n",
            "Epoch 10/75\n",
            "14/14 [==============================] - 2s 108ms/step - loss: 3.2394 - accuracy: 0.0790\n",
            "WARNING:tensorflow:Can save best model only with val_acc available, skipping.\n",
            "Epoch 11/75\n",
            "14/14 [==============================] - 2s 108ms/step - loss: 3.1599 - accuracy: 0.0962\n",
            "WARNING:tensorflow:Can save best model only with val_acc available, skipping.\n",
            "Epoch 12/75\n",
            "14/14 [==============================] - 2s 108ms/step - loss: 3.2021 - accuracy: 0.0771\n",
            "WARNING:tensorflow:Can save best model only with val_acc available, skipping.\n",
            "Epoch 13/75\n",
            "14/14 [==============================] - 2s 107ms/step - loss: 3.0674 - accuracy: 0.1313\n",
            "WARNING:tensorflow:Can save best model only with val_acc available, skipping.\n",
            "Epoch 14/75\n",
            "14/14 [==============================] - 2s 109ms/step - loss: 3.0434 - accuracy: 0.1286\n",
            "WARNING:tensorflow:Can save best model only with val_acc available, skipping.\n",
            "Epoch 15/75\n",
            "14/14 [==============================] - 2s 109ms/step - loss: 2.9010 - accuracy: 0.1716\n",
            "WARNING:tensorflow:Can save best model only with val_acc available, skipping.\n",
            "Epoch 16/75\n",
            "14/14 [==============================] - 2s 110ms/step - loss: 2.8016 - accuracy: 0.2224\n",
            "WARNING:tensorflow:Can save best model only with val_acc available, skipping.\n",
            "Epoch 17/75\n",
            "14/14 [==============================] - 2s 110ms/step - loss: 2.7611 - accuracy: 0.1984\n",
            "WARNING:tensorflow:Can save best model only with val_acc available, skipping.\n",
            "Epoch 18/75\n",
            "14/14 [==============================] - 2s 110ms/step - loss: 2.6470 - accuracy: 0.2537\n",
            "WARNING:tensorflow:Can save best model only with val_acc available, skipping.\n",
            "Epoch 19/75\n",
            "14/14 [==============================] - 2s 109ms/step - loss: 2.5387 - accuracy: 0.2894\n",
            "WARNING:tensorflow:Can save best model only with val_acc available, skipping.\n",
            "Epoch 20/75\n",
            "14/14 [==============================] - 2s 110ms/step - loss: 2.3891 - accuracy: 0.3117\n",
            "WARNING:tensorflow:Can save best model only with val_acc available, skipping.\n",
            "Epoch 21/75\n",
            "14/14 [==============================] - 2s 109ms/step - loss: 2.2787 - accuracy: 0.3456\n",
            "WARNING:tensorflow:Can save best model only with val_acc available, skipping.\n",
            "Epoch 22/75\n",
            "14/14 [==============================] - 2s 110ms/step - loss: 2.2103 - accuracy: 0.3483\n",
            "WARNING:tensorflow:Can save best model only with val_acc available, skipping.\n",
            "Epoch 23/75\n",
            "14/14 [==============================] - 2s 109ms/step - loss: 2.0292 - accuracy: 0.4081\n",
            "WARNING:tensorflow:Can save best model only with val_acc available, skipping.\n",
            "Epoch 24/75\n",
            "14/14 [==============================] - 2s 109ms/step - loss: 1.9845 - accuracy: 0.4468\n",
            "WARNING:tensorflow:Can save best model only with val_acc available, skipping.\n",
            "Epoch 25/75\n",
            "14/14 [==============================] - 2s 110ms/step - loss: 1.9446 - accuracy: 0.4094\n",
            "WARNING:tensorflow:Can save best model only with val_acc available, skipping.\n",
            "Epoch 26/75\n",
            "14/14 [==============================] - 2s 109ms/step - loss: 1.6904 - accuracy: 0.5126\n",
            "WARNING:tensorflow:Can save best model only with val_acc available, skipping.\n",
            "Epoch 27/75\n",
            "14/14 [==============================] - 2s 110ms/step - loss: 1.6616 - accuracy: 0.5121\n",
            "WARNING:tensorflow:Can save best model only with val_acc available, skipping.\n",
            "Epoch 28/75\n",
            "14/14 [==============================] - 2s 111ms/step - loss: 1.4962 - accuracy: 0.5632\n",
            "WARNING:tensorflow:Can save best model only with val_acc available, skipping.\n",
            "Epoch 29/75\n",
            "14/14 [==============================] - 2s 110ms/step - loss: 1.5984 - accuracy: 0.5048\n",
            "WARNING:tensorflow:Can save best model only with val_acc available, skipping.\n",
            "Epoch 30/75\n",
            "14/14 [==============================] - 2s 110ms/step - loss: 1.2958 - accuracy: 0.6097\n",
            "WARNING:tensorflow:Can save best model only with val_acc available, skipping.\n",
            "Epoch 31/75\n",
            "14/14 [==============================] - 2s 111ms/step - loss: 1.3489 - accuracy: 0.5868\n",
            "WARNING:tensorflow:Can save best model only with val_acc available, skipping.\n",
            "Epoch 32/75\n",
            "14/14 [==============================] - 2s 110ms/step - loss: 1.1989 - accuracy: 0.6320\n",
            "WARNING:tensorflow:Can save best model only with val_acc available, skipping.\n",
            "Epoch 33/75\n",
            "14/14 [==============================] - 2s 110ms/step - loss: 0.9990 - accuracy: 0.7007\n",
            "WARNING:tensorflow:Can save best model only with val_acc available, skipping.\n",
            "Epoch 34/75\n",
            "14/14 [==============================] - 2s 110ms/step - loss: 1.0249 - accuracy: 0.6989\n",
            "WARNING:tensorflow:Can save best model only with val_acc available, skipping.\n",
            "Epoch 35/75\n",
            "14/14 [==============================] - 2s 110ms/step - loss: 0.9417 - accuracy: 0.7231\n",
            "WARNING:tensorflow:Can save best model only with val_acc available, skipping.\n",
            "Epoch 36/75\n",
            "14/14 [==============================] - 2s 109ms/step - loss: 0.9924 - accuracy: 0.6954\n",
            "WARNING:tensorflow:Can save best model only with val_acc available, skipping.\n",
            "Epoch 37/75\n",
            "14/14 [==============================] - 2s 108ms/step - loss: 0.8877 - accuracy: 0.7538\n",
            "WARNING:tensorflow:Can save best model only with val_acc available, skipping.\n",
            "Epoch 38/75\n",
            "14/14 [==============================] - 2s 109ms/step - loss: 0.7538 - accuracy: 0.7599\n",
            "WARNING:tensorflow:Can save best model only with val_acc available, skipping.\n",
            "Epoch 39/75\n",
            "14/14 [==============================] - 2s 108ms/step - loss: 0.9255 - accuracy: 0.7371\n",
            "WARNING:tensorflow:Can save best model only with val_acc available, skipping.\n",
            "Epoch 40/75\n",
            "14/14 [==============================] - 2s 108ms/step - loss: 0.6191 - accuracy: 0.8184\n",
            "WARNING:tensorflow:Can save best model only with val_acc available, skipping.\n",
            "Epoch 41/75\n",
            "14/14 [==============================] - 2s 108ms/step - loss: 0.5751 - accuracy: 0.8023\n",
            "WARNING:tensorflow:Can save best model only with val_acc available, skipping.\n",
            "Epoch 42/75\n",
            "14/14 [==============================] - 2s 108ms/step - loss: 0.5632 - accuracy: 0.8261\n",
            "WARNING:tensorflow:Can save best model only with val_acc available, skipping.\n",
            "Epoch 43/75\n",
            "14/14 [==============================] - 2s 108ms/step - loss: 0.6870 - accuracy: 0.7922\n",
            "WARNING:tensorflow:Can save best model only with val_acc available, skipping.\n",
            "Epoch 44/75\n",
            "14/14 [==============================] - 2s 108ms/step - loss: 0.6294 - accuracy: 0.8175\n",
            "WARNING:tensorflow:Can save best model only with val_acc available, skipping.\n",
            "Epoch 45/75\n",
            "14/14 [==============================] - 2s 108ms/step - loss: 0.4191 - accuracy: 0.8741\n",
            "WARNING:tensorflow:Can save best model only with val_acc available, skipping.\n",
            "Epoch 46/75\n",
            "14/14 [==============================] - 2s 108ms/step - loss: 0.5304 - accuracy: 0.8359\n",
            "WARNING:tensorflow:Can save best model only with val_acc available, skipping.\n",
            "Epoch 47/75\n",
            "14/14 [==============================] - 2s 108ms/step - loss: 0.3657 - accuracy: 0.8910\n",
            "WARNING:tensorflow:Can save best model only with val_acc available, skipping.\n",
            "Epoch 48/75\n",
            "14/14 [==============================] - 1s 107ms/step - loss: 0.5169 - accuracy: 0.8553\n",
            "WARNING:tensorflow:Can save best model only with val_acc available, skipping.\n",
            "Epoch 49/75\n",
            "14/14 [==============================] - 2s 108ms/step - loss: 0.3606 - accuracy: 0.8983\n",
            "WARNING:tensorflow:Can save best model only with val_acc available, skipping.\n",
            "Epoch 50/75\n",
            "14/14 [==============================] - 2s 108ms/step - loss: 0.4879 - accuracy: 0.8485\n",
            "WARNING:tensorflow:Can save best model only with val_acc available, skipping.\n",
            "Epoch 51/75\n",
            "14/14 [==============================] - 2s 108ms/step - loss: 0.3882 - accuracy: 0.8886\n",
            "WARNING:tensorflow:Can save best model only with val_acc available, skipping.\n",
            "Epoch 52/75\n",
            "14/14 [==============================] - 2s 109ms/step - loss: 0.3431 - accuracy: 0.8882\n",
            "WARNING:tensorflow:Can save best model only with val_acc available, skipping.\n",
            "Epoch 53/75\n",
            "14/14 [==============================] - 2s 108ms/step - loss: 0.4218 - accuracy: 0.8604\n",
            "WARNING:tensorflow:Can save best model only with val_acc available, skipping.\n",
            "Epoch 54/75\n",
            "14/14 [==============================] - 2s 108ms/step - loss: 0.3020 - accuracy: 0.9165\n",
            "WARNING:tensorflow:Can save best model only with val_acc available, skipping.\n",
            "Epoch 55/75\n",
            "14/14 [==============================] - 2s 108ms/step - loss: 0.3834 - accuracy: 0.8731\n",
            "WARNING:tensorflow:Can save best model only with val_acc available, skipping.\n",
            "Epoch 56/75\n",
            "14/14 [==============================] - 2s 108ms/step - loss: 0.3393 - accuracy: 0.8982\n",
            "WARNING:tensorflow:Can save best model only with val_acc available, skipping.\n",
            "Epoch 57/75\n",
            "14/14 [==============================] - 2s 108ms/step - loss: 0.2962 - accuracy: 0.9048\n",
            "WARNING:tensorflow:Can save best model only with val_acc available, skipping.\n",
            "Epoch 58/75\n",
            "14/14 [==============================] - 2s 108ms/step - loss: 0.2970 - accuracy: 0.9240\n",
            "WARNING:tensorflow:Can save best model only with val_acc available, skipping.\n",
            "Epoch 59/75\n",
            "14/14 [==============================] - 2s 108ms/step - loss: 0.2435 - accuracy: 0.9329\n",
            "WARNING:tensorflow:Can save best model only with val_acc available, skipping.\n",
            "Epoch 60/75\n",
            "14/14 [==============================] - 2s 108ms/step - loss: 0.2523 - accuracy: 0.9293\n",
            "WARNING:tensorflow:Can save best model only with val_acc available, skipping.\n",
            "Epoch 61/75\n",
            "14/14 [==============================] - 2s 108ms/step - loss: 0.2506 - accuracy: 0.9282\n",
            "WARNING:tensorflow:Can save best model only with val_acc available, skipping.\n",
            "Epoch 62/75\n",
            "14/14 [==============================] - 2s 108ms/step - loss: 0.3765 - accuracy: 0.8819\n",
            "WARNING:tensorflow:Can save best model only with val_acc available, skipping.\n",
            "Epoch 63/75\n",
            "14/14 [==============================] - 2s 109ms/step - loss: 0.2065 - accuracy: 0.9454\n",
            "WARNING:tensorflow:Can save best model only with val_acc available, skipping.\n",
            "Epoch 64/75\n",
            "14/14 [==============================] - 2s 108ms/step - loss: 0.2506 - accuracy: 0.9172\n",
            "WARNING:tensorflow:Can save best model only with val_acc available, skipping.\n",
            "Epoch 65/75\n",
            "14/14 [==============================] - 2s 108ms/step - loss: 0.2749 - accuracy: 0.9219\n",
            "WARNING:tensorflow:Can save best model only with val_acc available, skipping.\n",
            "Epoch 66/75\n",
            "14/14 [==============================] - 2s 108ms/step - loss: 0.2333 - accuracy: 0.9347\n",
            "WARNING:tensorflow:Can save best model only with val_acc available, skipping.\n",
            "Epoch 67/75\n",
            "14/14 [==============================] - 2s 108ms/step - loss: 0.2114 - accuracy: 0.9425\n",
            "WARNING:tensorflow:Can save best model only with val_acc available, skipping.\n",
            "Epoch 68/75\n",
            "14/14 [==============================] - 2s 108ms/step - loss: 0.2250 - accuracy: 0.9461\n",
            "WARNING:tensorflow:Can save best model only with val_acc available, skipping.\n",
            "Epoch 69/75\n",
            "14/14 [==============================] - 2s 108ms/step - loss: 0.2037 - accuracy: 0.9397\n",
            "WARNING:tensorflow:Can save best model only with val_acc available, skipping.\n",
            "Epoch 70/75\n",
            "14/14 [==============================] - 2s 108ms/step - loss: 0.1266 - accuracy: 0.9588\n",
            "WARNING:tensorflow:Can save best model only with val_acc available, skipping.\n",
            "Epoch 71/75\n",
            "14/14 [==============================] - 2s 108ms/step - loss: 0.2768 - accuracy: 0.9139\n",
            "WARNING:tensorflow:Can save best model only with val_acc available, skipping.\n",
            "Epoch 72/75\n",
            "14/14 [==============================] - 2s 109ms/step - loss: 0.2364 - accuracy: 0.9363\n",
            "WARNING:tensorflow:Can save best model only with val_acc available, skipping.\n",
            "Epoch 73/75\n",
            "14/14 [==============================] - 2s 108ms/step - loss: 0.1965 - accuracy: 0.9382\n",
            "WARNING:tensorflow:Can save best model only with val_acc available, skipping.\n",
            "Epoch 74/75\n",
            "14/14 [==============================] - 2s 109ms/step - loss: 0.1921 - accuracy: 0.9383\n",
            "WARNING:tensorflow:Can save best model only with val_acc available, skipping.\n",
            "Epoch 75/75\n",
            "14/14 [==============================] - 2s 109ms/step - loss: 0.2400 - accuracy: 0.9346\n",
            "WARNING:tensorflow:Can save best model only with val_acc available, skipping.\n",
            "CNN acc: 27.88%\n"
          ],
          "name": "stdout"
        }
      ]
    },
    {
      "cell_type": "code",
      "metadata": {
        "colab": {
          "base_uri": "https://localhost:8080/"
        },
        "id": "e47upkkzEkcO",
        "outputId": "2b1b9d5b-c252-4908-d047-29398edcd3ab"
      },
      "source": [
        "from keras import optimizers\n",
        "from keras.callbacks import ModelCheckpoint\n",
        "from sklearn.utils import shuffle\n",
        "shuffle(X,y)\n",
        "X_train, X_test, y_train, y_test = train_test_split(X, y, test_size=0.2)\n",
        "#print(X_test)\n",
        "#print(y_train)\n",
        "shuffle(X_test,y_test)\n",
        "shuffle(X_train,y_train)\n",
        "def model_cr():\n",
        "  model = Sequential()\n",
        "  model.add(Conv2D(16, (2,2), input_shape=(200, 200, 3), activation='relu'))\n",
        "  model.add(MaxPooling2D(pool_size=(2, 2), strides=(2, 2), padding='same'))\n",
        "  model.add(Conv2D(32, (3,3), activation='relu'))\n",
        "  model.add(Conv2D(64, (3,3), activation='relu'))\n",
        "  model.add(Conv2D(32, (3,3), activation='relu'))\n",
        "  model.add(Conv2D(32, (3,3), activation='swish'))\n",
        "  model.add(Conv2D(32, (3,3), activation='relu'))\n",
        "  model.add(Conv2D(32, (3,3), activation='swish'))\n",
        "\n",
        "  model.add(Conv2D(64, (3,3), activation='swish'))\n",
        "  model.add(MaxPooling2D(pool_size=(3, 3), strides=(3, 3), padding='same'))\n",
        "  model.add(Conv2D(64, (5,5), activation='relu'))\n",
        "  model.add(MaxPooling2D(pool_size=(5, 5), strides=(5, 5), padding='same'))\n",
        "  model.add(Flatten())\n",
        "  model.add(Dense(128, activation='relu'))\n",
        "  #model.add(Dropout(0.4))\n",
        " \n",
        "  model.add(Dense(128, activation='swish'))\n",
        "  model.add(Dropout(0.7))\n",
        "  model.add(Dense(26, activation='softmax'))\n",
        "  sgd = optimizers.SGD(lr=1e-2)\n",
        "  model.compile(loss='categorical_crossentropy', optimizer='adam', metrics=['accuracy'])\n",
        "  #filepath=\"cnn_model_keras2.h5\"\n",
        "  #checkpoint1 = ModelCheckpoint(filepath, monitor='val_acc', verbose=1, save_best_only=True, mode='max')\n",
        "  #callbacks_list = [checkpoint1]\n",
        "\t#from keras.utils import plot_model\n",
        "\t#plot_model(model, to_file='model.png', show_shapes=True)\n",
        "  return model\n",
        "\n",
        "model = model_cr()\n",
        "#model.summary()\n",
        "#X_train, val_images, y_train, val_labels = train_test_split(X_train, y_train, test_size=0.2)\n",
        "\n",
        "model.fit(X_train, y_train, epochs=80, batch_size=60)\n",
        "scores = model.evaluate(X_test, y_test, verbose=0)\n",
        "\n",
        "print(\"CNN acc: %.2f%%\" % (scores[1]*100))"
      ],
      "execution_count": null,
      "outputs": [
        {
          "output_type": "stream",
          "text": [
            "Epoch 1/80\n",
            "11/11 [==============================] - 5s 213ms/step - loss: 4.4561 - accuracy: 0.0314\n",
            "Epoch 2/80\n",
            "11/11 [==============================] - 2s 172ms/step - loss: 3.2846 - accuracy: 0.0396\n",
            "Epoch 3/80\n",
            "11/11 [==============================] - 2s 172ms/step - loss: 3.2641 - accuracy: 0.0395\n",
            "Epoch 4/80\n",
            "11/11 [==============================] - 2s 172ms/step - loss: 3.2590 - accuracy: 0.0262\n",
            "Epoch 5/80\n",
            "11/11 [==============================] - 2s 173ms/step - loss: 3.2573 - accuracy: 0.0426\n",
            "Epoch 6/80\n",
            "11/11 [==============================] - 2s 173ms/step - loss: 3.2648 - accuracy: 0.0470\n",
            "Epoch 7/80\n",
            "11/11 [==============================] - 2s 172ms/step - loss: 3.2576 - accuracy: 0.0454\n",
            "Epoch 8/80\n",
            "11/11 [==============================] - 2s 173ms/step - loss: 3.2429 - accuracy: 0.0580\n",
            "Epoch 9/80\n",
            "11/11 [==============================] - 2s 172ms/step - loss: 3.2399 - accuracy: 0.0550\n",
            "Epoch 10/80\n",
            "11/11 [==============================] - 2s 172ms/step - loss: 3.2173 - accuracy: 0.0703\n",
            "Epoch 11/80\n",
            "11/11 [==============================] - 2s 172ms/step - loss: 3.1758 - accuracy: 0.0870\n",
            "Epoch 12/80\n",
            "11/11 [==============================] - 2s 172ms/step - loss: 3.1370 - accuracy: 0.0941\n",
            "Epoch 13/80\n",
            "11/11 [==============================] - 2s 173ms/step - loss: 3.0751 - accuracy: 0.1108\n",
            "Epoch 14/80\n",
            "11/11 [==============================] - 2s 174ms/step - loss: 2.9793 - accuracy: 0.1535\n",
            "Epoch 15/80\n",
            "11/11 [==============================] - 2s 174ms/step - loss: 2.9625 - accuracy: 0.1313\n",
            "Epoch 16/80\n",
            "11/11 [==============================] - 2s 173ms/step - loss: 2.8989 - accuracy: 0.1818\n",
            "Epoch 17/80\n",
            "11/11 [==============================] - 2s 174ms/step - loss: 2.9651 - accuracy: 0.1721\n",
            "Epoch 18/80\n",
            "11/11 [==============================] - 2s 174ms/step - loss: 2.7476 - accuracy: 0.2141\n",
            "Epoch 19/80\n",
            "11/11 [==============================] - 2s 172ms/step - loss: 2.7137 - accuracy: 0.2397\n",
            "Epoch 20/80\n",
            "11/11 [==============================] - 2s 172ms/step - loss: 2.6134 - accuracy: 0.2441\n",
            "Epoch 21/80\n",
            "11/11 [==============================] - 2s 172ms/step - loss: 2.5038 - accuracy: 0.2669\n",
            "Epoch 22/80\n",
            "11/11 [==============================] - 2s 172ms/step - loss: 2.3501 - accuracy: 0.2913\n",
            "Epoch 23/80\n",
            "11/11 [==============================] - 2s 172ms/step - loss: 2.2638 - accuracy: 0.3513\n",
            "Epoch 24/80\n",
            "11/11 [==============================] - 2s 172ms/step - loss: 2.1686 - accuracy: 0.3725\n",
            "Epoch 25/80\n",
            "11/11 [==============================] - 2s 172ms/step - loss: 2.0623 - accuracy: 0.4020\n",
            "Epoch 26/80\n",
            "11/11 [==============================] - 2s 171ms/step - loss: 2.0133 - accuracy: 0.4179\n",
            "Epoch 27/80\n",
            "11/11 [==============================] - 2s 170ms/step - loss: 1.8719 - accuracy: 0.4569\n",
            "Epoch 28/80\n",
            "11/11 [==============================] - 2s 172ms/step - loss: 1.7901 - accuracy: 0.4888\n",
            "Epoch 29/80\n",
            "11/11 [==============================] - 2s 170ms/step - loss: 1.6028 - accuracy: 0.4958\n",
            "Epoch 30/80\n",
            "11/11 [==============================] - 2s 170ms/step - loss: 1.6609 - accuracy: 0.5153\n",
            "Epoch 31/80\n",
            "11/11 [==============================] - 2s 171ms/step - loss: 1.4472 - accuracy: 0.5508\n",
            "Epoch 32/80\n",
            "11/11 [==============================] - 2s 170ms/step - loss: 1.3778 - accuracy: 0.5956\n",
            "Epoch 33/80\n",
            "11/11 [==============================] - 2s 170ms/step - loss: 1.3897 - accuracy: 0.5676\n",
            "Epoch 34/80\n",
            "11/11 [==============================] - 2s 170ms/step - loss: 1.2907 - accuracy: 0.6434\n",
            "Epoch 35/80\n",
            "11/11 [==============================] - 2s 169ms/step - loss: 1.2333 - accuracy: 0.6179\n",
            "Epoch 36/80\n",
            "11/11 [==============================] - 2s 169ms/step - loss: 1.1524 - accuracy: 0.6535\n",
            "Epoch 37/80\n",
            "11/11 [==============================] - 2s 168ms/step - loss: 1.0422 - accuracy: 0.6711\n",
            "Epoch 38/80\n",
            "11/11 [==============================] - 2s 169ms/step - loss: 0.9672 - accuracy: 0.6920\n",
            "Epoch 39/80\n",
            "11/11 [==============================] - 2s 169ms/step - loss: 0.9263 - accuracy: 0.7172\n",
            "Epoch 40/80\n",
            "11/11 [==============================] - 2s 168ms/step - loss: 0.9367 - accuracy: 0.7036\n",
            "Epoch 41/80\n",
            "11/11 [==============================] - 2s 169ms/step - loss: 0.7969 - accuracy: 0.7515\n",
            "Epoch 42/80\n",
            "11/11 [==============================] - 2s 169ms/step - loss: 0.6844 - accuracy: 0.7943\n",
            "Epoch 43/80\n",
            "11/11 [==============================] - 2s 168ms/step - loss: 0.6221 - accuracy: 0.8039\n",
            "Epoch 44/80\n",
            "11/11 [==============================] - 2s 169ms/step - loss: 0.6806 - accuracy: 0.7834\n",
            "Epoch 45/80\n",
            "11/11 [==============================] - 2s 169ms/step - loss: 0.6981 - accuracy: 0.7690\n",
            "Epoch 46/80\n",
            "11/11 [==============================] - 2s 169ms/step - loss: 0.5654 - accuracy: 0.8398\n",
            "Epoch 47/80\n",
            "11/11 [==============================] - 2s 169ms/step - loss: 0.5523 - accuracy: 0.8216\n",
            "Epoch 48/80\n",
            "11/11 [==============================] - 2s 169ms/step - loss: 0.5203 - accuracy: 0.8387\n",
            "Epoch 49/80\n",
            "11/11 [==============================] - 2s 170ms/step - loss: 0.5025 - accuracy: 0.8350\n",
            "Epoch 50/80\n",
            "11/11 [==============================] - 2s 170ms/step - loss: 0.4670 - accuracy: 0.8588\n",
            "Epoch 51/80\n",
            "11/11 [==============================] - 2s 170ms/step - loss: 0.4980 - accuracy: 0.8485\n",
            "Epoch 52/80\n",
            "11/11 [==============================] - 2s 171ms/step - loss: 0.4300 - accuracy: 0.8855\n",
            "Epoch 53/80\n",
            "11/11 [==============================] - 2s 171ms/step - loss: 0.4165 - accuracy: 0.8680\n",
            "Epoch 54/80\n",
            "11/11 [==============================] - 2s 171ms/step - loss: 0.4129 - accuracy: 0.8688\n",
            "Epoch 55/80\n",
            "11/11 [==============================] - 2s 171ms/step - loss: 0.4389 - accuracy: 0.8644\n",
            "Epoch 56/80\n",
            "11/11 [==============================] - 2s 172ms/step - loss: 0.3625 - accuracy: 0.9028\n",
            "Epoch 57/80\n",
            "11/11 [==============================] - 2s 170ms/step - loss: 0.3316 - accuracy: 0.8823\n",
            "Epoch 58/80\n",
            "11/11 [==============================] - 2s 172ms/step - loss: 0.3652 - accuracy: 0.8961\n",
            "Epoch 59/80\n",
            "11/11 [==============================] - 2s 172ms/step - loss: 0.2965 - accuracy: 0.9151\n",
            "Epoch 60/80\n",
            "11/11 [==============================] - 2s 172ms/step - loss: 0.3201 - accuracy: 0.9106\n",
            "Epoch 61/80\n",
            "11/11 [==============================] - 2s 171ms/step - loss: 0.2519 - accuracy: 0.9424\n",
            "Epoch 62/80\n",
            "11/11 [==============================] - 2s 172ms/step - loss: 0.2677 - accuracy: 0.9096\n",
            "Epoch 63/80\n",
            "11/11 [==============================] - 2s 172ms/step - loss: 0.2786 - accuracy: 0.9268\n",
            "Epoch 64/80\n",
            "11/11 [==============================] - 2s 172ms/step - loss: 0.2679 - accuracy: 0.9061\n",
            "Epoch 65/80\n",
            "11/11 [==============================] - 2s 172ms/step - loss: 0.2924 - accuracy: 0.9088\n",
            "Epoch 66/80\n",
            "11/11 [==============================] - 2s 172ms/step - loss: 0.2952 - accuracy: 0.9118\n",
            "Epoch 67/80\n",
            "11/11 [==============================] - 2s 171ms/step - loss: 0.2515 - accuracy: 0.9277\n",
            "Epoch 68/80\n",
            "11/11 [==============================] - 2s 172ms/step - loss: 0.3152 - accuracy: 0.9157\n",
            "Epoch 69/80\n",
            "11/11 [==============================] - 2s 172ms/step - loss: 0.2473 - accuracy: 0.9272\n",
            "Epoch 70/80\n",
            "11/11 [==============================] - 2s 171ms/step - loss: 0.2287 - accuracy: 0.9258\n",
            "Epoch 71/80\n",
            "11/11 [==============================] - 2s 171ms/step - loss: 0.1830 - accuracy: 0.9330\n",
            "Epoch 72/80\n",
            "11/11 [==============================] - 2s 170ms/step - loss: 0.2352 - accuracy: 0.9360\n",
            "Epoch 73/80\n",
            "11/11 [==============================] - 2s 172ms/step - loss: 0.1537 - accuracy: 0.9525\n",
            "Epoch 74/80\n",
            "11/11 [==============================] - 2s 170ms/step - loss: 0.2362 - accuracy: 0.9221\n",
            "Epoch 75/80\n",
            "11/11 [==============================] - 2s 170ms/step - loss: 0.1802 - accuracy: 0.9535\n",
            "Epoch 76/80\n",
            "11/11 [==============================] - 2s 169ms/step - loss: 0.1782 - accuracy: 0.9456\n",
            "Epoch 77/80\n",
            "11/11 [==============================] - 2s 170ms/step - loss: 0.1680 - accuracy: 0.9535\n",
            "Epoch 78/80\n",
            "11/11 [==============================] - 2s 170ms/step - loss: 0.1665 - accuracy: 0.9475\n",
            "Epoch 79/80\n",
            "11/11 [==============================] - 2s 170ms/step - loss: 0.1781 - accuracy: 0.9497\n",
            "Epoch 80/80\n",
            "11/11 [==============================] - 2s 170ms/step - loss: 0.1703 - accuracy: 0.9479\n",
            "CNN acc: 20.19%\n"
          ],
          "name": "stdout"
        }
      ]
    },
    {
      "cell_type": "code",
      "metadata": {
        "colab": {
          "base_uri": "https://localhost:8080/"
        },
        "id": "iIQiAQoE_c0K",
        "outputId": "7cf1512f-cd37-434c-ecd9-5f627133bde5"
      },
      "source": [
        "from keras import optimizers\n",
        "from keras.callbacks import ModelCheckpoint\n",
        "from sklearn.utils import shuffle\n",
        "shuffle(X,y)\n",
        "\n",
        "X = X/255.0\n",
        "X = np.asarray(X).astype('float32')\n",
        "# val_images = val_images/255.0\n",
        "\n",
        "\n",
        "X_train, X_test, y_train, y_test = train_test_split(X, y, test_size=0.2)\n",
        "#print(X_test)\n",
        "#print(y_train)\n",
        "#shuffle(X_test,y_test)\n",
        "#shuffle(X_train,y_train)\n",
        "def model_cr():\n",
        "  model = Sequential()\n",
        "  model.add(Conv2D(16, (5,5), input_shape=(200, 200, 3), activation='relu'))\n",
        "  #model.add(MaxPooling2D(pool_size=(2, 2), strides=(2, 2), padding='same'))\n",
        "  model.add(Conv2D(32, (5,5), activation='relu',padding='valid'))\n",
        "  model.add(Conv2D(64, (5,5), activation='relu', padding='valid'))\n",
        "  #model.add(Conv2D(32, (3,3), activation='relu'))\n",
        "  #model.add(Conv2D(32, (3,3), activation='swish'))\n",
        "  #model.add(Conv2D(64, (3,3), activation='relu'))\n",
        "  #model.add(Conv2D(48, (3,3), activation='swish'))\n",
        "\n",
        "  #model.add(Conv2D(64, (3,3), activation='swish'))\n",
        "  #model.add(MaxPooling2D(pool_size=(3, 3), strides=(3, 3), padding='same'))\n",
        "  #model.add(Conv2D(64, (5,5), activation='relu'))\n",
        "  #model.add(MaxPooling2D(pool_size=(5, 5), strides=(5, 5), padding='same'))\n",
        "  model.add(Flatten())\n",
        "  #model.add(Dense(128, activation='swish'))\n",
        "  #model.add(Dropout(0.5))\n",
        "  model.add(Dense(26, activation='softmax'))\n",
        "  sgd = optimizers.SGD(lr=1e-2)\n",
        "  model.compile(loss='categorical_crossentropy', optimizer='adam', metrics=['accuracy'])\n",
        "  #filepath=\"cnn_model_keras2.h5\"\n",
        "  #checkpoint1 = ModelCheckpoint(filepath, monitor='val_acc', verbose=1, save_best_only=True, mode='max')\n",
        "  #callbacks_list = [checkpoint1]\n",
        "\t#from keras.utils import plot_model\n",
        "\t#plot_model(model, to_file='model.png', show_shapes=True)\n",
        "  return model\n",
        "\n",
        "model = model_cr()\n",
        "model.summary()\n"
      ],
      "execution_count": null,
      "outputs": [
        {
          "output_type": "stream",
          "text": [
            "Model: \"sequential_18\"\n",
            "_________________________________________________________________\n",
            "Layer (type)                 Output Shape              Param #   \n",
            "=================================================================\n",
            "conv2d_105 (Conv2D)          (None, 196, 196, 16)      1216      \n",
            "_________________________________________________________________\n",
            "conv2d_106 (Conv2D)          (None, 192, 192, 32)      12832     \n",
            "_________________________________________________________________\n",
            "conv2d_107 (Conv2D)          (None, 188, 188, 64)      51264     \n",
            "_________________________________________________________________\n",
            "flatten_18 (Flatten)         (None, 2262016)           0         \n",
            "_________________________________________________________________\n",
            "dense_34 (Dense)             (None, 26)                58812442  \n",
            "=================================================================\n",
            "Total params: 58,877,754\n",
            "Trainable params: 58,877,754\n",
            "Non-trainable params: 0\n",
            "_________________________________________________________________\n"
          ],
          "name": "stdout"
        }
      ]
    },
    {
      "cell_type": "code",
      "metadata": {
        "colab": {
          "base_uri": "https://localhost:8080/",
          "height": 1000
        },
        "id": "sfaVlFlq_-CU",
        "outputId": "a4c15ca3-8f81-4126-bc48-6e1ac0cda37c"
      },
      "source": [
        "from matplotlib import pyplot as plt\n",
        "#model = create_model()\n",
        "model.compile(loss='categorical_crossentropy', optimizer='adam', metrics=['accuracy'])\n",
        "H = model.fit(X_train, y_train,validation_split = 0.2, epochs=80, batch_size=60)\n",
        "print(H.history.keys())\n",
        "#  \"Accuracy\"\n",
        "plt.plot(H.history['accuracy'])\n",
        "plt.plot(H.history['val_accuracy'])\n",
        "plt.title('model accuracy')\n",
        "plt.ylabel('accuracy')\n",
        "plt.xlabel('epoch')\n",
        "plt.legend(['train', 'validation'], loc='upper left')\n",
        "plt.show()\n",
        "# \"Loss\"\n",
        "plt.plot(H.history['loss'])\n",
        "plt.plot(H.history['val_loss'])\n",
        "plt.title('model loss')\n",
        "plt.ylabel('loss')\n",
        "plt.xlabel('epoch')\n",
        "plt.legend(['train', 'validation'], loc='upper left')\n",
        "plt.show()\n",
        "scores = model.evaluate(X_test, y_test, verbose=0)\n",
        "\n",
        "print(\"CNN acc: %.2f%%\" % (scores[1]*100))\n"
      ],
      "execution_count": null,
      "outputs": [
        {
          "output_type": "stream",
          "text": [
            "Epoch 1/80\n",
            "12/12 [==============================] - 4s 179ms/step - loss: 3.3404 - accuracy: 0.0371 - val_loss: 3.2584 - val_accuracy: 0.0419\n",
            "Epoch 2/80\n",
            "12/12 [==============================] - 2s 138ms/step - loss: 3.2579 - accuracy: 0.0268 - val_loss: 3.2590 - val_accuracy: 0.0359\n",
            "Epoch 3/80\n",
            "12/12 [==============================] - 2s 137ms/step - loss: 3.2575 - accuracy: 0.0487 - val_loss: 3.2591 - val_accuracy: 0.0359\n",
            "Epoch 4/80\n",
            "12/12 [==============================] - 2s 137ms/step - loss: 3.2572 - accuracy: 0.0450 - val_loss: 3.2593 - val_accuracy: 0.0359\n",
            "Epoch 5/80\n",
            "12/12 [==============================] - 2s 137ms/step - loss: 3.2573 - accuracy: 0.0248 - val_loss: 3.2595 - val_accuracy: 0.0299\n",
            "Epoch 6/80\n",
            "12/12 [==============================] - 2s 136ms/step - loss: 3.2576 - accuracy: 0.0504 - val_loss: 3.2599 - val_accuracy: 0.0240\n",
            "Epoch 7/80\n",
            "12/12 [==============================] - 2s 137ms/step - loss: 3.2572 - accuracy: 0.0486 - val_loss: 3.2600 - val_accuracy: 0.0240\n",
            "Epoch 8/80\n",
            "12/12 [==============================] - 2s 137ms/step - loss: 3.2575 - accuracy: 0.0481 - val_loss: 3.2602 - val_accuracy: 0.0240\n",
            "Epoch 9/80\n",
            "12/12 [==============================] - 2s 135ms/step - loss: 3.2572 - accuracy: 0.0433 - val_loss: 3.2606 - val_accuracy: 0.0299\n",
            "Epoch 10/80\n",
            "12/12 [==============================] - 2s 139ms/step - loss: 3.2570 - accuracy: 0.0504 - val_loss: 3.2609 - val_accuracy: 0.0299\n",
            "Epoch 11/80\n",
            "12/12 [==============================] - 2s 136ms/step - loss: 3.2564 - accuracy: 0.0467 - val_loss: 3.2611 - val_accuracy: 0.0299\n",
            "Epoch 12/80\n",
            "12/12 [==============================] - 2s 137ms/step - loss: 3.2561 - accuracy: 0.0489 - val_loss: 3.2616 - val_accuracy: 0.0299\n",
            "Epoch 13/80\n",
            "12/12 [==============================] - 2s 139ms/step - loss: 3.2563 - accuracy: 0.0472 - val_loss: 3.2618 - val_accuracy: 0.0299\n",
            "Epoch 14/80\n",
            "12/12 [==============================] - 2s 150ms/step - loss: 3.2564 - accuracy: 0.0485 - val_loss: 3.2622 - val_accuracy: 0.0299\n",
            "Epoch 15/80\n",
            "12/12 [==============================] - 2s 136ms/step - loss: 3.2555 - accuracy: 0.0489 - val_loss: 3.2625 - val_accuracy: 0.0299\n",
            "Epoch 16/80\n",
            "12/12 [==============================] - 2s 135ms/step - loss: 3.2577 - accuracy: 0.0356 - val_loss: 3.2626 - val_accuracy: 0.0299\n",
            "Epoch 17/80\n",
            "12/12 [==============================] - 2s 136ms/step - loss: 3.2557 - accuracy: 0.0425 - val_loss: 3.2630 - val_accuracy: 0.0299\n",
            "Epoch 18/80\n",
            "12/12 [==============================] - 2s 134ms/step - loss: 3.2553 - accuracy: 0.0456 - val_loss: 3.2635 - val_accuracy: 0.0180\n",
            "Epoch 19/80\n",
            "12/12 [==============================] - 2s 137ms/step - loss: 3.2549 - accuracy: 0.0300 - val_loss: 3.2638 - val_accuracy: 0.0299\n",
            "Epoch 20/80\n",
            "12/12 [==============================] - 2s 137ms/step - loss: 3.2558 - accuracy: 0.0486 - val_loss: 3.2640 - val_accuracy: 0.0299\n",
            "Epoch 21/80\n",
            "12/12 [==============================] - 2s 136ms/step - loss: 3.2548 - accuracy: 0.0438 - val_loss: 3.2645 - val_accuracy: 0.0299\n",
            "Epoch 22/80\n",
            " 9/12 [=====================>........] - ETA: 0s - loss: 3.2549 - accuracy: 0.0380"
          ],
          "name": "stdout"
        },
        {
          "output_type": "error",
          "ename": "KeyboardInterrupt",
          "evalue": "ignored",
          "traceback": [
            "\u001b[0;31m---------------------------------------------------------------------------\u001b[0m",
            "\u001b[0;31mKeyboardInterrupt\u001b[0m                         Traceback (most recent call last)",
            "\u001b[0;32m<ipython-input-27-c4293fa65531>\u001b[0m in \u001b[0;36m<module>\u001b[0;34m()\u001b[0m\n\u001b[1;32m      2\u001b[0m \u001b[0;31m#model = create_model()\u001b[0m\u001b[0;34m\u001b[0m\u001b[0;34m\u001b[0m\u001b[0;34m\u001b[0m\u001b[0m\n\u001b[1;32m      3\u001b[0m \u001b[0mmodel\u001b[0m\u001b[0;34m.\u001b[0m\u001b[0mcompile\u001b[0m\u001b[0;34m(\u001b[0m\u001b[0mloss\u001b[0m\u001b[0;34m=\u001b[0m\u001b[0;34m'categorical_crossentropy'\u001b[0m\u001b[0;34m,\u001b[0m \u001b[0moptimizer\u001b[0m\u001b[0;34m=\u001b[0m\u001b[0;34m'adam'\u001b[0m\u001b[0;34m,\u001b[0m \u001b[0mmetrics\u001b[0m\u001b[0;34m=\u001b[0m\u001b[0;34m[\u001b[0m\u001b[0;34m'accuracy'\u001b[0m\u001b[0;34m]\u001b[0m\u001b[0;34m)\u001b[0m\u001b[0;34m\u001b[0m\u001b[0;34m\u001b[0m\u001b[0m\n\u001b[0;32m----> 4\u001b[0;31m \u001b[0mH\u001b[0m \u001b[0;34m=\u001b[0m \u001b[0mmodel\u001b[0m\u001b[0;34m.\u001b[0m\u001b[0mfit\u001b[0m\u001b[0;34m(\u001b[0m\u001b[0mX_train\u001b[0m\u001b[0;34m,\u001b[0m \u001b[0my_train\u001b[0m\u001b[0;34m,\u001b[0m\u001b[0mvalidation_split\u001b[0m \u001b[0;34m=\u001b[0m \u001b[0;36m0.2\u001b[0m\u001b[0;34m,\u001b[0m \u001b[0mepochs\u001b[0m\u001b[0;34m=\u001b[0m\u001b[0;36m80\u001b[0m\u001b[0;34m,\u001b[0m \u001b[0mbatch_size\u001b[0m\u001b[0;34m=\u001b[0m\u001b[0;36m60\u001b[0m\u001b[0;34m)\u001b[0m\u001b[0;34m\u001b[0m\u001b[0;34m\u001b[0m\u001b[0m\n\u001b[0m\u001b[1;32m      5\u001b[0m \u001b[0mprint\u001b[0m\u001b[0;34m(\u001b[0m\u001b[0mH\u001b[0m\u001b[0;34m.\u001b[0m\u001b[0mhistory\u001b[0m\u001b[0;34m.\u001b[0m\u001b[0mkeys\u001b[0m\u001b[0;34m(\u001b[0m\u001b[0;34m)\u001b[0m\u001b[0;34m)\u001b[0m\u001b[0;34m\u001b[0m\u001b[0;34m\u001b[0m\u001b[0m\n\u001b[1;32m      6\u001b[0m \u001b[0;31m#  \"Accuracy\"\u001b[0m\u001b[0;34m\u001b[0m\u001b[0;34m\u001b[0m\u001b[0;34m\u001b[0m\u001b[0m\n",
            "\u001b[0;32m/usr/local/lib/python3.6/dist-packages/tensorflow/python/keras/engine/training.py\u001b[0m in \u001b[0;36mfit\u001b[0;34m(self, x, y, batch_size, epochs, verbose, callbacks, validation_split, validation_data, shuffle, class_weight, sample_weight, initial_epoch, steps_per_epoch, validation_steps, validation_batch_size, validation_freq, max_queue_size, workers, use_multiprocessing)\u001b[0m\n\u001b[1;32m   1098\u001b[0m                 _r=1):\n\u001b[1;32m   1099\u001b[0m               \u001b[0mcallbacks\u001b[0m\u001b[0;34m.\u001b[0m\u001b[0mon_train_batch_begin\u001b[0m\u001b[0;34m(\u001b[0m\u001b[0mstep\u001b[0m\u001b[0;34m)\u001b[0m\u001b[0;34m\u001b[0m\u001b[0;34m\u001b[0m\u001b[0m\n\u001b[0;32m-> 1100\u001b[0;31m               \u001b[0mtmp_logs\u001b[0m \u001b[0;34m=\u001b[0m \u001b[0mself\u001b[0m\u001b[0;34m.\u001b[0m\u001b[0mtrain_function\u001b[0m\u001b[0;34m(\u001b[0m\u001b[0miterator\u001b[0m\u001b[0;34m)\u001b[0m\u001b[0;34m\u001b[0m\u001b[0;34m\u001b[0m\u001b[0m\n\u001b[0m\u001b[1;32m   1101\u001b[0m               \u001b[0;32mif\u001b[0m \u001b[0mdata_handler\u001b[0m\u001b[0;34m.\u001b[0m\u001b[0mshould_sync\u001b[0m\u001b[0;34m:\u001b[0m\u001b[0;34m\u001b[0m\u001b[0;34m\u001b[0m\u001b[0m\n\u001b[1;32m   1102\u001b[0m                 \u001b[0mcontext\u001b[0m\u001b[0;34m.\u001b[0m\u001b[0masync_wait\u001b[0m\u001b[0;34m(\u001b[0m\u001b[0;34m)\u001b[0m\u001b[0;34m\u001b[0m\u001b[0;34m\u001b[0m\u001b[0m\n",
            "\u001b[0;32m/usr/local/lib/python3.6/dist-packages/tensorflow/python/eager/def_function.py\u001b[0m in \u001b[0;36m__call__\u001b[0;34m(self, *args, **kwds)\u001b[0m\n\u001b[1;32m    826\u001b[0m     \u001b[0mtracing_count\u001b[0m \u001b[0;34m=\u001b[0m \u001b[0mself\u001b[0m\u001b[0;34m.\u001b[0m\u001b[0mexperimental_get_tracing_count\u001b[0m\u001b[0;34m(\u001b[0m\u001b[0;34m)\u001b[0m\u001b[0;34m\u001b[0m\u001b[0;34m\u001b[0m\u001b[0m\n\u001b[1;32m    827\u001b[0m     \u001b[0;32mwith\u001b[0m \u001b[0mtrace\u001b[0m\u001b[0;34m.\u001b[0m\u001b[0mTrace\u001b[0m\u001b[0;34m(\u001b[0m\u001b[0mself\u001b[0m\u001b[0;34m.\u001b[0m\u001b[0m_name\u001b[0m\u001b[0;34m)\u001b[0m \u001b[0;32mas\u001b[0m \u001b[0mtm\u001b[0m\u001b[0;34m:\u001b[0m\u001b[0;34m\u001b[0m\u001b[0;34m\u001b[0m\u001b[0m\n\u001b[0;32m--> 828\u001b[0;31m       \u001b[0mresult\u001b[0m \u001b[0;34m=\u001b[0m \u001b[0mself\u001b[0m\u001b[0;34m.\u001b[0m\u001b[0m_call\u001b[0m\u001b[0;34m(\u001b[0m\u001b[0;34m*\u001b[0m\u001b[0margs\u001b[0m\u001b[0;34m,\u001b[0m \u001b[0;34m**\u001b[0m\u001b[0mkwds\u001b[0m\u001b[0;34m)\u001b[0m\u001b[0;34m\u001b[0m\u001b[0;34m\u001b[0m\u001b[0m\n\u001b[0m\u001b[1;32m    829\u001b[0m       \u001b[0mcompiler\u001b[0m \u001b[0;34m=\u001b[0m \u001b[0;34m\"xla\"\u001b[0m \u001b[0;32mif\u001b[0m \u001b[0mself\u001b[0m\u001b[0;34m.\u001b[0m\u001b[0m_experimental_compile\u001b[0m \u001b[0;32melse\u001b[0m \u001b[0;34m\"nonXla\"\u001b[0m\u001b[0;34m\u001b[0m\u001b[0;34m\u001b[0m\u001b[0m\n\u001b[1;32m    830\u001b[0m       \u001b[0mnew_tracing_count\u001b[0m \u001b[0;34m=\u001b[0m \u001b[0mself\u001b[0m\u001b[0;34m.\u001b[0m\u001b[0mexperimental_get_tracing_count\u001b[0m\u001b[0;34m(\u001b[0m\u001b[0;34m)\u001b[0m\u001b[0;34m\u001b[0m\u001b[0;34m\u001b[0m\u001b[0m\n",
            "\u001b[0;32m/usr/local/lib/python3.6/dist-packages/tensorflow/python/eager/def_function.py\u001b[0m in \u001b[0;36m_call\u001b[0;34m(self, *args, **kwds)\u001b[0m\n\u001b[1;32m    853\u001b[0m       \u001b[0;31m# In this case we have created variables on the first call, so we run the\u001b[0m\u001b[0;34m\u001b[0m\u001b[0;34m\u001b[0m\u001b[0;34m\u001b[0m\u001b[0m\n\u001b[1;32m    854\u001b[0m       \u001b[0;31m# defunned version which is guaranteed to never create variables.\u001b[0m\u001b[0;34m\u001b[0m\u001b[0;34m\u001b[0m\u001b[0;34m\u001b[0m\u001b[0m\n\u001b[0;32m--> 855\u001b[0;31m       \u001b[0;32mreturn\u001b[0m \u001b[0mself\u001b[0m\u001b[0;34m.\u001b[0m\u001b[0m_stateless_fn\u001b[0m\u001b[0;34m(\u001b[0m\u001b[0;34m*\u001b[0m\u001b[0margs\u001b[0m\u001b[0;34m,\u001b[0m \u001b[0;34m**\u001b[0m\u001b[0mkwds\u001b[0m\u001b[0;34m)\u001b[0m  \u001b[0;31m# pylint: disable=not-callable\u001b[0m\u001b[0;34m\u001b[0m\u001b[0;34m\u001b[0m\u001b[0m\n\u001b[0m\u001b[1;32m    856\u001b[0m     \u001b[0;32melif\u001b[0m \u001b[0mself\u001b[0m\u001b[0;34m.\u001b[0m\u001b[0m_stateful_fn\u001b[0m \u001b[0;32mis\u001b[0m \u001b[0;32mnot\u001b[0m \u001b[0;32mNone\u001b[0m\u001b[0;34m:\u001b[0m\u001b[0;34m\u001b[0m\u001b[0;34m\u001b[0m\u001b[0m\n\u001b[1;32m    857\u001b[0m       \u001b[0;31m# Release the lock early so that multiple threads can perform the call\u001b[0m\u001b[0;34m\u001b[0m\u001b[0;34m\u001b[0m\u001b[0;34m\u001b[0m\u001b[0m\n",
            "\u001b[0;32m/usr/local/lib/python3.6/dist-packages/tensorflow/python/eager/function.py\u001b[0m in \u001b[0;36m__call__\u001b[0;34m(self, *args, **kwargs)\u001b[0m\n\u001b[1;32m   2941\u001b[0m        filtered_flat_args) = self._maybe_define_function(args, kwargs)\n\u001b[1;32m   2942\u001b[0m     return graph_function._call_flat(\n\u001b[0;32m-> 2943\u001b[0;31m         filtered_flat_args, captured_inputs=graph_function.captured_inputs)  # pylint: disable=protected-access\n\u001b[0m\u001b[1;32m   2944\u001b[0m \u001b[0;34m\u001b[0m\u001b[0m\n\u001b[1;32m   2945\u001b[0m   \u001b[0;34m@\u001b[0m\u001b[0mproperty\u001b[0m\u001b[0;34m\u001b[0m\u001b[0;34m\u001b[0m\u001b[0m\n",
            "\u001b[0;32m/usr/local/lib/python3.6/dist-packages/tensorflow/python/eager/function.py\u001b[0m in \u001b[0;36m_call_flat\u001b[0;34m(self, args, captured_inputs, cancellation_manager)\u001b[0m\n\u001b[1;32m   1917\u001b[0m       \u001b[0;31m# No tape is watching; skip to running the function.\u001b[0m\u001b[0;34m\u001b[0m\u001b[0;34m\u001b[0m\u001b[0;34m\u001b[0m\u001b[0m\n\u001b[1;32m   1918\u001b[0m       return self._build_call_outputs(self._inference_function.call(\n\u001b[0;32m-> 1919\u001b[0;31m           ctx, args, cancellation_manager=cancellation_manager))\n\u001b[0m\u001b[1;32m   1920\u001b[0m     forward_backward = self._select_forward_and_backward_functions(\n\u001b[1;32m   1921\u001b[0m         \u001b[0margs\u001b[0m\u001b[0;34m,\u001b[0m\u001b[0;34m\u001b[0m\u001b[0;34m\u001b[0m\u001b[0m\n",
            "\u001b[0;32m/usr/local/lib/python3.6/dist-packages/tensorflow/python/eager/function.py\u001b[0m in \u001b[0;36mcall\u001b[0;34m(self, ctx, args, cancellation_manager)\u001b[0m\n\u001b[1;32m    558\u001b[0m               \u001b[0minputs\u001b[0m\u001b[0;34m=\u001b[0m\u001b[0margs\u001b[0m\u001b[0;34m,\u001b[0m\u001b[0;34m\u001b[0m\u001b[0;34m\u001b[0m\u001b[0m\n\u001b[1;32m    559\u001b[0m               \u001b[0mattrs\u001b[0m\u001b[0;34m=\u001b[0m\u001b[0mattrs\u001b[0m\u001b[0;34m,\u001b[0m\u001b[0;34m\u001b[0m\u001b[0;34m\u001b[0m\u001b[0m\n\u001b[0;32m--> 560\u001b[0;31m               ctx=ctx)\n\u001b[0m\u001b[1;32m    561\u001b[0m         \u001b[0;32melse\u001b[0m\u001b[0;34m:\u001b[0m\u001b[0;34m\u001b[0m\u001b[0;34m\u001b[0m\u001b[0m\n\u001b[1;32m    562\u001b[0m           outputs = execute.execute_with_cancellation(\n",
            "\u001b[0;32m/usr/local/lib/python3.6/dist-packages/tensorflow/python/eager/execute.py\u001b[0m in \u001b[0;36mquick_execute\u001b[0;34m(op_name, num_outputs, inputs, attrs, ctx, name)\u001b[0m\n\u001b[1;32m     58\u001b[0m     \u001b[0mctx\u001b[0m\u001b[0;34m.\u001b[0m\u001b[0mensure_initialized\u001b[0m\u001b[0;34m(\u001b[0m\u001b[0;34m)\u001b[0m\u001b[0;34m\u001b[0m\u001b[0;34m\u001b[0m\u001b[0m\n\u001b[1;32m     59\u001b[0m     tensors = pywrap_tfe.TFE_Py_Execute(ctx._handle, device_name, op_name,\n\u001b[0;32m---> 60\u001b[0;31m                                         inputs, attrs, num_outputs)\n\u001b[0m\u001b[1;32m     61\u001b[0m   \u001b[0;32mexcept\u001b[0m \u001b[0mcore\u001b[0m\u001b[0;34m.\u001b[0m\u001b[0m_NotOkStatusException\u001b[0m \u001b[0;32mas\u001b[0m \u001b[0me\u001b[0m\u001b[0;34m:\u001b[0m\u001b[0;34m\u001b[0m\u001b[0;34m\u001b[0m\u001b[0m\n\u001b[1;32m     62\u001b[0m     \u001b[0;32mif\u001b[0m \u001b[0mname\u001b[0m \u001b[0;32mis\u001b[0m \u001b[0;32mnot\u001b[0m \u001b[0;32mNone\u001b[0m\u001b[0;34m:\u001b[0m\u001b[0;34m\u001b[0m\u001b[0;34m\u001b[0m\u001b[0m\n",
            "\u001b[0;31mKeyboardInterrupt\u001b[0m: "
          ]
        }
      ]
    },
    {
      "cell_type": "code",
      "metadata": {
        "colab": {
          "base_uri": "https://localhost:8080/",
          "height": 1000
        },
        "id": "7kcm1G97Umqm",
        "outputId": "4616c847-4c2b-4da5-832f-aaf9eee06689"
      },
      "source": [
        "from keras import optimizers\n",
        "from keras.callbacks import ModelCheckpoint\n",
        "from sklearn.utils import shuffle\n",
        "shuffle(X,y)\n",
        "\n",
        "X = X/255.0\n",
        "X = np.asarray(X).astype('float32')\n",
        "# val_images = val_images/255.0\n",
        "\n",
        "\n",
        "X_train, X_test, y_train, y_test = train_test_split(X, y, test_size=0.2)\n",
        "#print(X_test)\n",
        "#print(y_train)\n",
        "#shuffle(X_test,y_test)\n",
        "#shuffle(X_train,y_train)\n",
        "def model_cr():\n",
        "  model = Sequential()\n",
        "  model.add(Conv2D(12, (2,2), input_shape=(200, 200, 3), activation='relu'))\n",
        "  model.add(MaxPooling2D(pool_size=(2, 2), strides=(2, 2), padding='same'))\n",
        "  model.add(Conv2D(24, (3,3), activation='relu',padding='valid'))\n",
        "  model.add(Conv2D(36, (3,3), activation='relu'))\n",
        "  #model.add(Conv2D(32, (3,3), activation='relu'))\n",
        "  #model.add(Conv2D(32, (3,3), activation='swish'))\n",
        "  #model.add(Conv2D(64, (3,3), activation='relu'))\n",
        "  #model.add(Conv2D(48, (3,3), activation='swish'))\n",
        "\n",
        "  #model.add(Conv2D(64, (3,3), activation='swish'))\n",
        "  #model.add(MaxPooling2D(pool_size=(3, 3), strides=(3, 3), padding='same'))\n",
        "  #model.add(Conv2D(64, (5,5), activation='relu'))\n",
        "  #model.add(MaxPooling2D(pool_size=(5, 5), strides=(5, 5), padding='same'))\n",
        "  model.add(Flatten())\n",
        "  model.add(Dense(128, activation='swish'))\n",
        "  model.add(Dropout(0.5))\n",
        "  model.add(Dense(26, activation='softmax'))\n",
        "  sgd = optimizers.SGD(lr=1e-2)\n",
        "  model.compile(loss='categorical_crossentropy', optimizer='adam', metrics=['accuracy'])\n",
        "  #filepath=\"cnn_model_keras2.h5\"\n",
        "  #checkpoint1 = ModelCheckpoint(filepath, monitor='val_acc', verbose=1, save_best_only=True, mode='max')\n",
        "  #callbacks_list = [checkpoint1]\n",
        "\t#from keras.utils import plot_model\n",
        "\t#plot_model(model, to_file='model.png', show_shapes=True)\n",
        "  return model\n",
        "\n",
        "model = model_cr()\n",
        "model.summary()\n",
        "#X_train, val_images, y_train, val_labels = train_test_split(X_train, y_train, test_size=0.2)\n",
        "\n",
        "#model.fit(X_train, y_train, epochs=80, batch_size=60)\n",
        "\n",
        "from matplotlib import pyplot as plt\n",
        "#model = create_model()\n",
        "model.compile(loss='categorical_crossentropy', optimizer='adam', metrics=['accuracy'])\n",
        "H = model.fit(X_train, y_train,validation_split = 0.2, epochs=80, batch_size=60)\n",
        "print(H.history.keys())\n",
        "#  \"Accuracy\"\n",
        "plt.plot(H.history['accuracy'])\n",
        "plt.plot(H.history['val_accuracy'])\n",
        "plt.title('model accuracy')\n",
        "plt.ylabel('accuracy')\n",
        "plt.xlabel('epoch')\n",
        "plt.legend(['train', 'validation'], loc='upper left')\n",
        "plt.show()\n",
        "# \"Loss\"\n",
        "plt.plot(H.history['loss'])\n",
        "plt.plot(H.history['val_loss'])\n",
        "plt.title('model loss')\n",
        "plt.ylabel('loss')\n",
        "plt.xlabel('epoch')\n",
        "plt.legend(['train', 'validation'], loc='upper left')\n",
        "plt.show()\n",
        "scores = model.evaluate(X_test, y_test, verbose=0)\n",
        "\n",
        "print(\"CNN acc: %.2f%%\" % (scores[1]*100))\n"
      ],
      "execution_count": null,
      "outputs": [
        {
          "output_type": "stream",
          "text": [
            "Model: \"sequential_10\"\n",
            "_________________________________________________________________\n",
            "Layer (type)                 Output Shape              Param #   \n",
            "=================================================================\n",
            "conv2d_78 (Conv2D)           (None, 199, 199, 16)      208       \n",
            "_________________________________________________________________\n",
            "max_pooling2d_30 (MaxPooling (None, 100, 100, 16)      0         \n",
            "_________________________________________________________________\n",
            "conv2d_79 (Conv2D)           (None, 98, 98, 32)        4640      \n",
            "_________________________________________________________________\n",
            "conv2d_80 (Conv2D)           (None, 96, 96, 64)        18496     \n",
            "_________________________________________________________________\n",
            "conv2d_81 (Conv2D)           (None, 94, 94, 32)        18464     \n",
            "_________________________________________________________________\n",
            "conv2d_82 (Conv2D)           (None, 92, 92, 64)        18496     \n",
            "_________________________________________________________________\n",
            "max_pooling2d_31 (MaxPooling (None, 31, 31, 64)        0         \n",
            "_________________________________________________________________\n",
            "conv2d_83 (Conv2D)           (None, 27, 27, 64)        102464    \n",
            "_________________________________________________________________\n",
            "max_pooling2d_32 (MaxPooling (None, 6, 6, 64)          0         \n",
            "_________________________________________________________________\n",
            "flatten_10 (Flatten)         (None, 2304)              0         \n",
            "_________________________________________________________________\n",
            "dense_20 (Dense)             (None, 128)               295040    \n",
            "_________________________________________________________________\n",
            "dropout_10 (Dropout)         (None, 128)               0         \n",
            "_________________________________________________________________\n",
            "dense_21 (Dense)             (None, 26)                3354      \n",
            "=================================================================\n",
            "Total params: 461,162\n",
            "Trainable params: 461,162\n",
            "Non-trainable params: 0\n",
            "_________________________________________________________________\n",
            "Epoch 1/80\n",
            "12/12 [==============================] - 2s 104ms/step - loss: 3.2586 - accuracy: 0.0440 - val_loss: 3.2603 - val_accuracy: 0.0419\n",
            "Epoch 2/80\n",
            "12/12 [==============================] - 1s 72ms/step - loss: 3.2578 - accuracy: 0.0502 - val_loss: 3.2628 - val_accuracy: 0.0240\n",
            "Epoch 3/80\n",
            "12/12 [==============================] - 1s 72ms/step - loss: 3.2572 - accuracy: 0.0328 - val_loss: 3.2641 - val_accuracy: 0.0299\n",
            "Epoch 4/80\n",
            "12/12 [==============================] - 1s 71ms/step - loss: 3.2532 - accuracy: 0.0521 - val_loss: 3.2681 - val_accuracy: 0.0359\n",
            "Epoch 5/80\n",
            "12/12 [==============================] - 1s 72ms/step - loss: 3.2614 - accuracy: 0.0433 - val_loss: 3.2667 - val_accuracy: 0.0419\n",
            "Epoch 6/80\n",
            "12/12 [==============================] - 1s 71ms/step - loss: 3.2555 - accuracy: 0.0406 - val_loss: 3.2691 - val_accuracy: 0.0240\n",
            "Epoch 7/80\n",
            "12/12 [==============================] - 1s 72ms/step - loss: 3.2547 - accuracy: 0.0249 - val_loss: 3.2729 - val_accuracy: 0.0419\n",
            "Epoch 8/80\n",
            "12/12 [==============================] - 1s 72ms/step - loss: 3.2598 - accuracy: 0.0485 - val_loss: 3.2773 - val_accuracy: 0.0419\n",
            "Epoch 9/80\n",
            "12/12 [==============================] - 1s 72ms/step - loss: 3.2511 - accuracy: 0.0495 - val_loss: 3.2720 - val_accuracy: 0.0419\n",
            "Epoch 10/80\n",
            "12/12 [==============================] - 1s 70ms/step - loss: 3.2507 - accuracy: 0.0617 - val_loss: 3.2721 - val_accuracy: 0.0240\n",
            "Epoch 11/80\n",
            "12/12 [==============================] - 1s 72ms/step - loss: 3.2551 - accuracy: 0.0388 - val_loss: 3.2708 - val_accuracy: 0.0240\n",
            "Epoch 12/80\n",
            "12/12 [==============================] - 1s 73ms/step - loss: 3.2539 - accuracy: 0.0392 - val_loss: 3.2699 - val_accuracy: 0.0419\n",
            "Epoch 13/80\n",
            "12/12 [==============================] - 1s 72ms/step - loss: 3.2515 - accuracy: 0.0570 - val_loss: 3.2703 - val_accuracy: 0.0240\n",
            "Epoch 14/80\n",
            "12/12 [==============================] - 1s 70ms/step - loss: 3.2562 - accuracy: 0.0457 - val_loss: 3.2663 - val_accuracy: 0.0240\n",
            "Epoch 15/80\n",
            "12/12 [==============================] - 1s 72ms/step - loss: 3.2571 - accuracy: 0.0432 - val_loss: 3.2663 - val_accuracy: 0.0240\n",
            "Epoch 16/80\n",
            "12/12 [==============================] - 1s 72ms/step - loss: 3.2537 - accuracy: 0.0561 - val_loss: 3.2660 - val_accuracy: 0.0240\n",
            "Epoch 17/80\n",
            "12/12 [==============================] - 1s 72ms/step - loss: 3.2537 - accuracy: 0.0497 - val_loss: 3.2678 - val_accuracy: 0.0240\n",
            "Epoch 18/80\n",
            "12/12 [==============================] - 1s 72ms/step - loss: 3.2561 - accuracy: 0.0484 - val_loss: 3.2714 - val_accuracy: 0.0240\n",
            "Epoch 19/80\n",
            "12/12 [==============================] - 1s 72ms/step - loss: 3.2525 - accuracy: 0.0509 - val_loss: 3.2757 - val_accuracy: 0.0240\n",
            "Epoch 20/80\n",
            "12/12 [==============================] - 1s 71ms/step - loss: 3.2531 - accuracy: 0.0602 - val_loss: 3.2708 - val_accuracy: 0.0240\n",
            "Epoch 21/80\n",
            "12/12 [==============================] - 1s 71ms/step - loss: 3.2551 - accuracy: 0.0352 - val_loss: 3.2704 - val_accuracy: 0.0240\n",
            "Epoch 22/80\n",
            "12/12 [==============================] - 1s 71ms/step - loss: 3.2547 - accuracy: 0.0487 - val_loss: 3.2706 - val_accuracy: 0.0240\n",
            "Epoch 23/80\n",
            "12/12 [==============================] - 1s 72ms/step - loss: 3.2566 - accuracy: 0.0426 - val_loss: 3.2719 - val_accuracy: 0.0240\n",
            "Epoch 24/80\n",
            "12/12 [==============================] - 1s 73ms/step - loss: 3.2571 - accuracy: 0.0432 - val_loss: 3.2713 - val_accuracy: 0.0240\n",
            "Epoch 25/80\n",
            "12/12 [==============================] - 1s 72ms/step - loss: 3.2543 - accuracy: 0.0404 - val_loss: 3.2731 - val_accuracy: 0.0240\n",
            "Epoch 26/80\n",
            "12/12 [==============================] - 1s 72ms/step - loss: 3.2530 - accuracy: 0.0495 - val_loss: 3.2750 - val_accuracy: 0.0240\n",
            "Epoch 27/80\n",
            "12/12 [==============================] - 1s 72ms/step - loss: 3.2551 - accuracy: 0.0437 - val_loss: 3.2762 - val_accuracy: 0.0240\n",
            "Epoch 28/80\n",
            "12/12 [==============================] - 1s 72ms/step - loss: 3.2532 - accuracy: 0.0413 - val_loss: 3.2818 - val_accuracy: 0.0240\n",
            "Epoch 29/80\n",
            "12/12 [==============================] - 1s 71ms/step - loss: 3.2568 - accuracy: 0.0542 - val_loss: 3.2790 - val_accuracy: 0.0419\n",
            "Epoch 30/80\n",
            "12/12 [==============================] - 1s 70ms/step - loss: 3.2504 - accuracy: 0.0541 - val_loss: 3.2799 - val_accuracy: 0.0240\n",
            "Epoch 31/80\n",
            "12/12 [==============================] - 1s 73ms/step - loss: 3.2573 - accuracy: 0.0487 - val_loss: 3.2784 - val_accuracy: 0.0240\n",
            "Epoch 32/80\n",
            "12/12 [==============================] - 1s 73ms/step - loss: 3.2586 - accuracy: 0.0394 - val_loss: 3.3032 - val_accuracy: 0.0240\n",
            "Epoch 33/80\n",
            "12/12 [==============================] - 1s 71ms/step - loss: 3.2574 - accuracy: 0.0476 - val_loss: 3.2793 - val_accuracy: 0.0240\n",
            "Epoch 34/80\n",
            "12/12 [==============================] - 1s 72ms/step - loss: 3.2557 - accuracy: 0.0579 - val_loss: 3.2754 - val_accuracy: 0.0240\n",
            "Epoch 35/80\n",
            "12/12 [==============================] - 1s 72ms/step - loss: 3.2547 - accuracy: 0.0533 - val_loss: 3.2956 - val_accuracy: 0.0240\n",
            "Epoch 36/80\n",
            "12/12 [==============================] - 1s 73ms/step - loss: 3.2691 - accuracy: 0.0551 - val_loss: 3.2731 - val_accuracy: 0.0240\n",
            "Epoch 37/80\n",
            "12/12 [==============================] - 1s 71ms/step - loss: 3.2553 - accuracy: 0.0343 - val_loss: 3.2927 - val_accuracy: 0.0419\n",
            "Epoch 38/80\n",
            "12/12 [==============================] - 1s 72ms/step - loss: 3.2479 - accuracy: 0.0417 - val_loss: 3.2793 - val_accuracy: 0.0240\n",
            "Epoch 39/80\n",
            "12/12 [==============================] - 1s 70ms/step - loss: 3.2507 - accuracy: 0.0415 - val_loss: 3.2729 - val_accuracy: 0.0240\n",
            "Epoch 40/80\n",
            "12/12 [==============================] - 1s 73ms/step - loss: 3.2538 - accuracy: 0.0321 - val_loss: 3.2726 - val_accuracy: 0.0240\n",
            "Epoch 41/80\n",
            "12/12 [==============================] - 1s 71ms/step - loss: 3.2568 - accuracy: 0.0378 - val_loss: 3.2735 - val_accuracy: 0.0240\n",
            "Epoch 42/80\n",
            "12/12 [==============================] - 1s 81ms/step - loss: 3.2529 - accuracy: 0.0578 - val_loss: 3.2746 - val_accuracy: 0.0240\n",
            "Epoch 43/80\n",
            "12/12 [==============================] - 1s 70ms/step - loss: 3.2535 - accuracy: 0.0438 - val_loss: 3.2754 - val_accuracy: 0.0240\n",
            "Epoch 44/80\n",
            "12/12 [==============================] - 1s 72ms/step - loss: 3.2540 - accuracy: 0.0575 - val_loss: 3.2766 - val_accuracy: 0.0240\n",
            "Epoch 45/80\n",
            "12/12 [==============================] - 1s 72ms/step - loss: 3.2513 - accuracy: 0.0441 - val_loss: 3.2776 - val_accuracy: 0.0240\n",
            "Epoch 46/80\n",
            "12/12 [==============================] - 1s 71ms/step - loss: 3.2507 - accuracy: 0.0558 - val_loss: 3.2778 - val_accuracy: 0.0240\n",
            "Epoch 47/80\n",
            "12/12 [==============================] - 1s 73ms/step - loss: 3.2539 - accuracy: 0.0473 - val_loss: 3.2783 - val_accuracy: 0.0240\n",
            "Epoch 48/80\n",
            "12/12 [==============================] - 1s 71ms/step - loss: 3.2522 - accuracy: 0.0415 - val_loss: 3.2785 - val_accuracy: 0.0240\n",
            "Epoch 49/80\n",
            "12/12 [==============================] - 1s 70ms/step - loss: 3.2574 - accuracy: 0.0360 - val_loss: 3.2782 - val_accuracy: 0.0240\n",
            "Epoch 50/80\n",
            "12/12 [==============================] - 1s 71ms/step - loss: 3.2547 - accuracy: 0.0333 - val_loss: 3.2781 - val_accuracy: 0.0240\n",
            "Epoch 51/80\n",
            "12/12 [==============================] - 1s 72ms/step - loss: 3.2555 - accuracy: 0.0416 - val_loss: 3.2779 - val_accuracy: 0.0240\n",
            "Epoch 52/80\n",
            "12/12 [==============================] - 1s 72ms/step - loss: 3.2542 - accuracy: 0.0478 - val_loss: 3.2780 - val_accuracy: 0.0240\n",
            "Epoch 53/80\n",
            "12/12 [==============================] - 1s 72ms/step - loss: 3.2566 - accuracy: 0.0490 - val_loss: 3.2781 - val_accuracy: 0.0240\n",
            "Epoch 54/80\n",
            "12/12 [==============================] - 1s 70ms/step - loss: 3.2553 - accuracy: 0.0500 - val_loss: 3.2787 - val_accuracy: 0.0299\n",
            "Epoch 55/80\n",
            "12/12 [==============================] - 1s 71ms/step - loss: 3.2538 - accuracy: 0.0444 - val_loss: 3.2795 - val_accuracy: 0.0299\n",
            "Epoch 56/80\n",
            "12/12 [==============================] - 1s 73ms/step - loss: 3.2539 - accuracy: 0.0550 - val_loss: 3.2803 - val_accuracy: 0.0240\n",
            "Epoch 57/80\n",
            "12/12 [==============================] - 1s 73ms/step - loss: 3.2517 - accuracy: 0.0335 - val_loss: 3.2813 - val_accuracy: 0.0240\n",
            "Epoch 58/80\n",
            "12/12 [==============================] - 1s 71ms/step - loss: 3.2552 - accuracy: 0.0461 - val_loss: 3.2818 - val_accuracy: 0.0240\n",
            "Epoch 59/80\n",
            "12/12 [==============================] - 1s 72ms/step - loss: 3.2544 - accuracy: 0.0433 - val_loss: 3.2823 - val_accuracy: 0.0240\n",
            "Epoch 60/80\n",
            "12/12 [==============================] - 1s 73ms/step - loss: 3.2535 - accuracy: 0.0453 - val_loss: 3.2826 - val_accuracy: 0.0240\n",
            "Epoch 61/80\n",
            "12/12 [==============================] - 1s 73ms/step - loss: 3.2495 - accuracy: 0.0495 - val_loss: 3.2830 - val_accuracy: 0.0240\n",
            "Epoch 62/80\n",
            "12/12 [==============================] - 1s 72ms/step - loss: 3.2527 - accuracy: 0.0454 - val_loss: 3.2829 - val_accuracy: 0.0240\n",
            "Epoch 63/80\n",
            "12/12 [==============================] - 1s 71ms/step - loss: 3.2527 - accuracy: 0.0409 - val_loss: 3.2817 - val_accuracy: 0.0240\n",
            "Epoch 64/80\n",
            "12/12 [==============================] - 1s 72ms/step - loss: 3.2472 - accuracy: 0.0653 - val_loss: 3.2820 - val_accuracy: 0.0240\n",
            "Epoch 65/80\n",
            "12/12 [==============================] - 1s 71ms/step - loss: 3.2573 - accuracy: 0.0342 - val_loss: 3.2817 - val_accuracy: 0.0240\n",
            "Epoch 66/80\n",
            "12/12 [==============================] - 1s 73ms/step - loss: 3.2504 - accuracy: 0.0463 - val_loss: 3.2823 - val_accuracy: 0.0240\n",
            "Epoch 67/80\n",
            "12/12 [==============================] - 1s 74ms/step - loss: 3.2509 - accuracy: 0.0436 - val_loss: 3.2824 - val_accuracy: 0.0240\n",
            "Epoch 68/80\n",
            "12/12 [==============================] - 1s 72ms/step - loss: 3.2538 - accuracy: 0.0399 - val_loss: 3.2828 - val_accuracy: 0.0240\n",
            "Epoch 69/80\n",
            "12/12 [==============================] - 1s 73ms/step - loss: 3.2509 - accuracy: 0.0433 - val_loss: 3.2823 - val_accuracy: 0.0240\n",
            "Epoch 70/80\n",
            "12/12 [==============================] - 1s 73ms/step - loss: 3.2542 - accuracy: 0.0510 - val_loss: 3.2816 - val_accuracy: 0.0240\n",
            "Epoch 71/80\n",
            "12/12 [==============================] - 1s 73ms/step - loss: 3.2525 - accuracy: 0.0485 - val_loss: 3.2806 - val_accuracy: 0.0240\n",
            "Epoch 72/80\n",
            "12/12 [==============================] - 1s 71ms/step - loss: 3.2519 - accuracy: 0.0478 - val_loss: 3.2798 - val_accuracy: 0.0240\n",
            "Epoch 73/80\n",
            "12/12 [==============================] - 1s 73ms/step - loss: 3.2500 - accuracy: 0.0524 - val_loss: 3.2801 - val_accuracy: 0.0240\n",
            "Epoch 74/80\n",
            "12/12 [==============================] - 1s 71ms/step - loss: 3.2512 - accuracy: 0.0379 - val_loss: 3.2799 - val_accuracy: 0.0240\n",
            "Epoch 75/80\n",
            "12/12 [==============================] - 1s 72ms/step - loss: 3.2573 - accuracy: 0.0383 - val_loss: 3.2790 - val_accuracy: 0.0240\n",
            "Epoch 76/80\n",
            "12/12 [==============================] - 1s 72ms/step - loss: 3.2481 - accuracy: 0.0501 - val_loss: 3.2786 - val_accuracy: 0.0240\n",
            "Epoch 77/80\n",
            "12/12 [==============================] - 1s 83ms/step - loss: 3.2551 - accuracy: 0.0466 - val_loss: 3.2786 - val_accuracy: 0.0240\n",
            "Epoch 78/80\n",
            "12/12 [==============================] - 1s 72ms/step - loss: 3.2518 - accuracy: 0.0499 - val_loss: 3.2790 - val_accuracy: 0.0240\n",
            "Epoch 79/80\n",
            "12/12 [==============================] - 1s 72ms/step - loss: 3.2499 - accuracy: 0.0536 - val_loss: 3.2796 - val_accuracy: 0.0240\n",
            "Epoch 80/80\n",
            "12/12 [==============================] - 1s 70ms/step - loss: 3.2545 - accuracy: 0.0389 - val_loss: 3.2794 - val_accuracy: 0.0240\n",
            "dict_keys(['loss', 'accuracy', 'val_loss', 'val_accuracy'])\n"
          ],
          "name": "stdout"
        },
        {
          "output_type": "display_data",
          "data": {
            "image/png": "[encoded data removed]",
            "text/plain": [
              "<Figure size 432x288 with 1 Axes>"
            ]
          },
          "metadata": {
            "tags": [],
            "needs_background": "light"
          }
        },
        {
          "output_type": "display_data",
          "data": {
            "image/png": "[encoded data removed]",
            "text/plain": [
              "<Figure size 432x288 with 1 Axes>"
            ]
          },
          "metadata": {
            "tags": [],
            "needs_background": "light"
          }
        },
        {
          "output_type": "stream",
          "text": [
            "CNN acc: 2.40%\n"
          ],
          "name": "stdout"
        }
      ]
    },
    {
      "cell_type": "code",
      "metadata": {
        "colab": {
          "base_uri": "https://localhost:8080/"
        },
        "id": "XaE-Cv_TXsPC",
        "outputId": "72544a81-b971-454a-9fee-196021f17a48"
      },
      "source": [
        "from keras import optimizers\n",
        "from keras.callbacks import ModelCheckpoint\n",
        "from sklearn.utils import shuffle\n",
        "shuffle(X,y)\n",
        "X_train, X_test, y_train, y_test = train_test_split(X, y, test_size=0.2)\n",
        "#print(X_test)\n",
        "#print(y_train)\n",
        "shuffle(X_test,y_test)\n",
        "shuffle(X_train,y_train)\n",
        "def model_cr():\n",
        "  model = Sequential()\n",
        "  model.add(Conv2D(16, (2,2), input_shape=(500, 500, 3), activation='relu'))\n",
        "  model.add(MaxPooling2D(pool_size=(2, 2), strides=(2, 2), padding='same'))\n",
        "  model.add(Conv2D(32, (3,3), activation='relu'))\n",
        "  model.add(Conv2D(64, (3,3), activation='relu'))\n",
        "  model.add(Conv2D(32, (3,3), activation='swish'))\n",
        "  model.add(Conv2D(32, (3,3), activation='relu'))\n",
        "  model.add(Conv2D(64, (3,3), activation='swish'))\n",
        "\n",
        "  model.add(Conv2D(64, (3,3), activation='relu'))\n",
        "  model.add(MaxPooling2D(pool_size=(3, 3), strides=(3, 3), padding='same'))\n",
        "  model.add(Conv2D(64, (5,5), activation='relu'))\n",
        "  model.add(MaxPooling2D(pool_size=(5, 5), strides=(5, 5), padding='same'))\n",
        "  model.add(Flatten())\n",
        "  model.add(Dense(128, activation='swish'))\n",
        "  model.add(Dropout(0.6))\n",
        "  model.add(Dense(26, activation='softmax'))\n",
        "  sgd = optimizers.SGD(lr=1e-2)\n",
        "  model.compile(loss='categorical_crossentropy', optimizer='adam', metrics=['accuracy'])\n",
        "  #filepath=\"cnn_model_keras2.h5\"\n",
        "  #checkpoint1 = ModelCheckpoint(filepath, monitor='val_acc', verbose=1, save_best_only=True, mode='max')\n",
        "  #callbacks_list = [checkpoint1]\n",
        "\t#from keras.utils import plot_model\n",
        "\t#plot_model(model, to_file='model.png', show_shapes=True)\n",
        "  return model\n",
        "\n",
        "model = model_cr()\n",
        "#model.summary()\n",
        "#X_train, val_images, y_train, val_labels = train_test_split(X_train, y_train, test_size=0.2)\n",
        "\n",
        "model.fit(X_train, y_train, epochs=11, batch_size=60)\n",
        "scores = model.evaluate(X_test, y_test, verbose=0)\n",
        "\n",
        "print(\"CNN acc: %.2f%%\" % (scores[1]*100))"
      ],
      "execution_count": null,
      "outputs": [
        {
          "output_type": "stream",
          "text": [
            "Epoch 1/11\n",
            "14/14 [==============================] - 14s 976ms/step - loss: 8.8434 - accuracy: 0.0367\n",
            "Epoch 2/11\n",
            "14/14 [==============================] - 14s 1s/step - loss: 3.2815 - accuracy: 0.0319\n",
            "Epoch 3/11\n",
            "14/14 [==============================] - 14s 1s/step - loss: 3.2555 - accuracy: 0.0370\n",
            "Epoch 4/11\n",
            "14/14 [==============================] - 14s 974ms/step - loss: 3.2575 - accuracy: 0.0364\n",
            "Epoch 5/11\n",
            "14/14 [==============================] - 13s 960ms/step - loss: 3.2559 - accuracy: 0.0447\n",
            "Epoch 6/11\n",
            "14/14 [==============================] - 13s 958ms/step - loss: 3.2574 - accuracy: 0.0316\n",
            "Epoch 7/11\n",
            "14/14 [==============================] - 14s 969ms/step - loss: 3.2555 - accuracy: 0.0463\n",
            "Epoch 8/11\n",
            "14/14 [==============================] - 14s 984ms/step - loss: 3.2551 - accuracy: 0.0399\n",
            "Epoch 9/11\n",
            "14/14 [==============================] - 14s 987ms/step - loss: 3.2640 - accuracy: 0.0483\n",
            "Epoch 10/11\n",
            "14/14 [==============================] - 14s 983ms/step - loss: 3.2554 - accuracy: 0.0481\n",
            "Epoch 11/11\n",
            "14/14 [==============================] - 14s 975ms/step - loss: 3.2538 - accuracy: 0.0675\n",
            "CNN acc: 1.92%\n"
          ],
          "name": "stdout"
        }
      ]
    },
    {
      "cell_type": "code",
      "metadata": {
        "id": "n56POCAkiVPj"
      },
      "source": [
        "from sklearn.utils import shuffle\n",
        "shuffle(X,y)\n",
        "X_train, X_test, y_train, y_test = train_test_split(X, y, test_size=0.2)"
      ],
      "execution_count": null,
      "outputs": []
    },
    {
      "cell_type": "code",
      "metadata": {
        "id": "QrB_fazYiJRM"
      },
      "source": [
        "from keras import optimizers\n",
        "from keras.callbacks import ModelCheckpoint\n",
        "#print(X_test)\n",
        "#print(y_train)\n",
        "shuffle(X_test,y_test)\n",
        "shuffle(X_train,y_train)\n",
        "def model_cr():\n",
        "  model = Sequential()\n",
        "  model.add(Conv2D(16, (2,2), input_shape=(500, 500, 1), activation='relu'))\n",
        "  model.add(MaxPooling2D(pool_size=(2, 2)))\n",
        "  model.add(Conv2D(32, (3,3), activation='relu'))\n",
        "  model.add(MaxPooling2D(pool_size=(3, 3)))\n",
        "  model.add(Conv2D(64, (5,5), activation='relu'))\n",
        "  model.add(MaxPooling2D(pool_size=(3, 3)))\n",
        "  \n",
        "\n"
      ],
      "execution_count": null,
      "outputs": []
    },
    {
      "cell_type": "code",
      "metadata": {
        "id": "zM8z7VE9E0hb"
      },
      "source": [
        "import pandas as pd\n",
        "import numpy as np\n",
        "import matplotlib.pyplot as plt\n",
        "import matplotlib.image as mpimg\n",
        "import seaborn as sns\n",
        "\n",
        "from sklearn.model_selection import train_test_split\n",
        "\n",
        "from keras.utils.np_utils import to_categorical\n",
        "from keras.models import Sequential\n",
        "from keras.layers import Dense, Dropout, Flatten, Conv2D, MaxPool2D\n",
        "from keras.optimizers import RMSprop\n",
        "from keras.preprocessing.image import ImageDataGenerator\n",
        "from keras.callbacks import ReduceLROnPlateau"
      ],
      "execution_count": null,
      "outputs": []
    },
    {
      "cell_type": "code",
      "metadata": {
        "id": "7T3YxuKPHRte"
      },
      "source": [
        "def create_Train():\n",
        "    features = []\n",
        "    labels = []\n",
        "    letters = []\n",
        "\n",
        "    for i in os.listdir(r'/gdrive/MyDrive/ASL/dataset/Front_CAM'):\n",
        "        letters.append(i)\n",
        "\n",
        "    DIR = r'/gdrive/MyDrive/ASL/dataset/Front_CAM'\n",
        "    size = 500,500\n",
        "    #for view in os.listdir(DIR):\n",
        "     # v_path = os.path.join(DIR,view)\n",
        "    for l in letters:\n",
        "        path = os.path.join(DIR, l)\n",
        "        label = letters.index(l)\n",
        "        for j in os.listdir(path):\n",
        "            img_p = os.path.join(path, j)\n",
        "            img_array = cv.imread(img_p)\n",
        "            img_array = cv.resize(img_array,size)\n",
        "            #img_array = cv.cvtColor(img_array, cv.COLOR_BGR2RGB)\n",
        "            img_array = cv.cvtColor(img_array, cv.COLOR_BGR2GRAY)\n",
        "            features.append(img_array)\n",
        "            labels.append(label)\n",
        "\n",
        "    X = np.array(features)\n",
        "    y = to_categorical(labels)\n",
        "\n",
        "    return X, y\n",
        "\n",
        "X,y= create_Train()\n",
        "\n",
        "\n"
      ],
      "execution_count": null,
      "outputs": []
    },
    {
      "cell_type": "code",
      "metadata": {
        "id": "T-S4It4RSIB_"
      },
      "source": [
        ""
      ],
      "execution_count": null,
      "outputs": []
    },
    {
      "cell_type": "code",
      "metadata": {
        "id": "im-ry5ezwS-Y"
      },
      "source": [
        ""
      ],
      "execution_count": null,
      "outputs": []
    },
    {
      "cell_type": "code",
      "metadata": {
        "id": "GchAaxiEwS7A"
      },
      "source": [
        ""
      ],
      "execution_count": null,
      "outputs": []
    },
    {
      "cell_type": "code",
      "metadata": {
        "id": "DZsQBDoywS4G"
      },
      "source": [
        ""
      ],
      "execution_count": null,
      "outputs": []
    },
    {
      "cell_type": "code",
      "metadata": {
        "id": "haTVVgsowS2B"
      },
      "source": [
        ""
      ],
      "execution_count": null,
      "outputs": []
    },
    {
      "cell_type": "code",
      "metadata": {
        "id": "kh_vxGWBwSy1"
      },
      "source": [
        ""
      ],
      "execution_count": null,
      "outputs": []
    },
    {
      "cell_type": "markdown",
      "metadata": {
        "id": "lI9AmQtjSJyB"
      },
      "source": [
        "**kaggle csv**"
      ]
    },
    {
      "cell_type": "code",
      "metadata": {
        "id": "HaeVdULCE4XS"
      },
      "source": [
        "# Load files and assign variables to X and Y\n",
        "train = pd.read_csv(\"/gdrive/MyDrive/ASL/sign_mnist_train/sign_mnist_train.csv\")\n",
        "test = pd.read_csv(\"/gdrive/MyDrive/ASL/sign_mnist_test/sign_mnist_test.csv\")\n",
        "\n",
        "# Define train and test set\n",
        "#X_train, X_test, Y_train, Y_test = train_test_split(X, y, test_size=0.2)\n",
        "\n",
        "X_train = train.drop(labels=['label'], axis=1)\n",
        "Y_train = train['label']\n",
        "X_test = test.drop(labels=['label'], axis=1)\n",
        "Y_test = test['label']"
      ],
      "execution_count": null,
      "outputs": []
    },
    {
      "cell_type": "code",
      "metadata": {
        "id": "fAFEJVMuFNeI"
      },
      "source": [
        "# Show image from dataset\n",
        "def gen_image(image):\n",
        "    \"\"\"Return 28x28 image given grayscale values\"\"\"\n",
        "    pixels = image.reshape((28,28))\n",
        "    plt.imshow(pixels, cmap='gray')\n",
        "    plt.show()\n"
      ],
      "execution_count": null,
      "outputs": []
    },
    {
      "cell_type": "code",
      "metadata": {
        "colab": {
          "base_uri": "https://localhost:8080/"
        },
        "id": "Xsk6sOlFf_qe",
        "outputId": "9f98ae1f-80f8-49cc-b3ad-94b882c5d248"
      },
      "source": [
        "print(Y_test.shape)"
      ],
      "execution_count": null,
      "outputs": [
        {
          "output_type": "stream",
          "text": [
            "(7172,)\n"
          ],
          "name": "stdout"
        }
      ]
    },
    {
      "cell_type": "code",
      "metadata": {
        "id": "5nhzq3JkFQv3",
        "colab": {
          "base_uri": "https://localhost:8080/",
          "height": 265
        },
        "outputId": "e76d448c-e3c3-4bae-f91c-a9b46645b807"
      },
      "source": [
        "# Get image from training set\n",
        "gen_image(np.array(X_train.iloc[0]))"
      ],
      "execution_count": null,
      "outputs": [
        {
          "output_type": "display_data",
          "data": {
            "image/png": "[encoded data removed]",
            "text/plain": [
              "<Figure size 432x288 with 1 Axes>"
            ]
          },
          "metadata": {
            "tags": [],
            "needs_background": "light"
          }
        }
      ]
    },
    {
      "cell_type": "code",
      "metadata": {
        "id": "qv-RBbDPFSYR"
      },
      "source": [
        "label_dict = {0:'A',1:'B',2:'C',3:'D',4:'E',5:'F',6:'G',7:'H',8:'I',10:'K',11:'L',12:'M',13:'N',14:'O',15:'P',16:'Q',17:'R',\\\n",
        "             18:'S',19:'T',20:'U',21:'V',22:'W',23:'X',24:'Y'}\n",
        "label_dict_rev = {'A':0,'B':1,'C':2,'D':3,'E':4,'F':5,'G':6,'H':7,'I':8,'K':9,'L':10,'M':11,'N':12,'O':13,'P':14,'Q':15,'R':16,\\\n",
        "                 'S':17,'T':18,'U':19,'V':20,'W':21,'X':22,'Y':23}\n",
        "\n",
        "Y_test1 = []\n",
        "for i in Y_test:\n",
        "    Y_test1.append(label_dict_rev.get(label_dict.get(i)))\n",
        "\n",
        "Y_test2 = to_categorical(Y_test1, num_classes = 24)\n",
        "Y_train = train['label']\n",
        "\n",
        "Y_train1 = []\n",
        "for i in Y_train:\n",
        "    Y_train1.append(label_dict_rev.get(label_dict.get(i)))\n",
        "    \n",
        "# Classes labeled as 1-24; Need to change to 0-23 for to_categorical\n",
        "Y_train2 = to_categorical(Y_train1, num_classes = 24)\n",
        "X_train = train.drop(labels=['label'], axis=1)"
      ],
      "execution_count": null,
      "outputs": []
    },
    {
      "cell_type": "code",
      "metadata": {
        "id": "XSJTVI_IFXTn"
      },
      "source": [
        "# Normalize pixels\n",
        "X_train1 = X_train/255\n",
        "X_test1 = X_test/255"
      ],
      "execution_count": null,
      "outputs": []
    },
    {
      "cell_type": "code",
      "metadata": {
        "colab": {
          "base_uri": "https://localhost:8080/"
        },
        "id": "3KAN_WrPidNl",
        "outputId": "237cdeb1-7c3e-4c0a-881f-5cb07917ab26"
      },
      "source": [
        "print(X_test1)"
      ],
      "execution_count": null,
      "outputs": [
        {
          "output_type": "stream",
          "text": [
            "        pixel1    pixel2    pixel3  ...  pixel782  pixel783  pixel784\n",
            "0     0.584314  0.584314  0.588235  ...  0.439216  0.470588  0.419608\n",
            "1     0.494118  0.501961  0.513725  ...  0.721569  0.713725  0.705882\n",
            "2     0.333333  0.345098  0.360784  ...  0.882353  0.878431  0.870588\n",
            "3     0.796078  0.803922  0.811765  ...  0.941176  0.992157  1.000000\n",
            "4     0.737255  0.749020  0.756863  ...  0.180392  0.180392  0.207843\n",
            "...        ...       ...       ...  ...       ...       ...       ...\n",
            "7167  0.529412  0.466667  0.423529  ...  0.690196  0.654902  0.639216\n",
            "7168  0.615686  0.623529  0.631373  ...  0.823529  0.819608  0.815686\n",
            "7169  0.745098  0.749020  0.745098  ...  0.827451  0.819608  0.815686\n",
            "7170  0.788235  0.803922  0.815686  ...  0.262745  0.274510  0.247059\n",
            "7171  0.678431  0.682353  0.678431  ...  0.764706  0.756863  0.752941\n",
            "\n",
            "[7172 rows x 784 columns]\n"
          ],
          "name": "stdout"
        }
      ]
    },
    {
      "cell_type": "code",
      "metadata": {
        "colab": {
          "base_uri": "https://localhost:8080/"
        },
        "id": "-mM1E0EcFdHg",
        "outputId": "bafd79b7-51ad-49b7-864f-451df845fde2"
      },
      "source": [
        "# Convert data to 2D form to represent height x width\n",
        "'''for i in range(1,len(X_train1)):\n",
        "  X_train1[i]=cv.resize(X_train1[i],(100,100))\n",
        "for i in range(1,len(X_test1)):\n",
        "  X_test1[i]=cv.resize(X_test1[i],(100,100))\n",
        "'''\n",
        "\n",
        "'''X_train2 = np.arange(21524720).reshape(52, 23120 )\n",
        "X_train2 = data3.reshape((data3.shape[0]*3, 28, 28))\n",
        "X_test2 = np.arange(21524720).reshape(52, 2352 )\n",
        "X_test2 = data3.reshape((data3.shape[0]*3, 28, 28))'''\n",
        "\n",
        "X_train2 = X_train1.values.reshape(-1,28,28,1)\n",
        "X_test2 = X_test1.values.reshape(-1,28,28,1)\n",
        "print(X_train2.shape)\n",
        "# print(len(X_train2))\n",
        "X_train5=[]\n",
        "X_test5=[]\n",
        "for i in range(len(X_train2)):\n",
        "  X_train5.append(cv.resize(X_train2[i],(100,100)))\n",
        "for i in range(len(X_test2)):\n",
        "  X_test5.append(cv.resize(X_test2[i],(100,100)))\n",
        "X_train5 = np.array( X_train5)\n",
        "X_test5 = np.array(X_test5)\n",
        "X_train2= X_train5.reshape(-1,100,100,1)\n",
        "X_test2 = X_test5.reshape(-1,100,100,1)\n",
        "print(X_train2.shape)\n",
        "print(X_test2.shape)\n",
        "\n",
        "\n",
        "'''\n",
        "X_train2 = X_train1.values.reshape(-1,28,28,1)\n",
        "X_test2 = X_test1.values.reshape(-1,28,28,1)'''\n",
        "# Split training set into 10% validation and 90% training\n",
        "X_tr, X_val, Y_tr, Y_val = train_test_split(X_train2, Y_train2, test_size = 0.3, random_state=2, stratify=Y_train2)\n",
        "print(X_tr.shape)\n",
        "print(Y_tr.shape)\n",
        "print(X_val.shape)\n",
        "print(Y_val.shape)"
      ],
      "execution_count": null,
      "outputs": [
        {
          "output_type": "stream",
          "text": [
            "(27455, 28, 28, 1)\n",
            "(27455, 100, 100, 1)\n",
            "(7172, 100, 100, 1)\n",
            "(19218, 100, 100, 1)\n",
            "(19218, 24)\n",
            "(8237, 100, 100, 1)\n",
            "(8237, 24)\n"
          ],
          "name": "stdout"
        }
      ]
    },
    {
      "cell_type": "code",
      "metadata": {
        "id": "44m7LSZMcmIY"
      },
      "source": [
        "def gen_image(image):\n",
        "    \"\"\"Return 28x28 image given grayscale values\"\"\"\n",
        "    pixels = image.reshape((100,100))\n",
        "    #pixels = image\n",
        "    plt.imshow(pixels, cmap='gray')\n",
        "    plt.show()\n"
      ],
      "execution_count": null,
      "outputs": []
    },
    {
      "cell_type": "code",
      "metadata": {
        "colab": {
          "base_uri": "https://localhost:8080/"
        },
        "id": "N06ASEXbcyks",
        "outputId": "54d2da7b-0797-4842-fed4-87c8ba12a1e7"
      },
      "source": [
        "print(Y_test2.shape)"
      ],
      "execution_count": null,
      "outputs": [
        {
          "output_type": "stream",
          "text": [
            "(7172, 24)\n"
          ],
          "name": "stdout"
        }
      ]
    },
    {
      "cell_type": "code",
      "metadata": {
        "colab": {
          "base_uri": "https://localhost:8080/",
          "height": 268
        },
        "id": "lFc4BBumcvno",
        "outputId": "32f65415-f0e2-436b-8666-b155fe65e24f"
      },
      "source": [
        "for i in range(len(X_train2)):\n",
        "  if(Y_train2[i][17]==1):\n",
        "    gen_image(X_train2[i])\n",
        "    break\n"
      ],
      "execution_count": null,
      "outputs": [
        {
          "output_type": "display_data",
          "data": {
            "image/png": "[encoded data removed]",
            "text/plain": [
              "<Figure size 432x288 with 1 Axes>"
            ]
          },
          "metadata": {
            "tags": [],
            "needs_background": "light"
          }
        }
      ]
    },
    {
      "cell_type": "code",
      "metadata": {
        "id": "EtKwNp6yFlRs"
      },
      "source": [
        "from keras.optimizers import SGD, RMSprop\n",
        "from keras.layers import MaxPool2D\n",
        "from keras.callbacks import TensorBoard\n",
        "from keras.callbacks import ReduceLROnPlateau\n",
        "# First 4 layers of model\n",
        "model = Sequential()\n",
        "# Layer 1\n",
        "model.add(Conv2D(filters=32, kernel_size=(5,5), padding='Same', activation='relu', input_shape=(100,100,1)))\n",
        "model.add(MaxPool2D(pool_size=(2,2))) # downsampling\n",
        "model.add(Dropout(0.25)) # Dropout reduces overfitting\n",
        "# Layer 2\n",
        "model.add(Conv2D(filters=64,kernel_size=(3,3),padding='Same',activation='relu'))\n",
        "model.add(MaxPool2D(pool_size=(2,2),strides=(2,2)))\n",
        "\n",
        "model.add(Conv2D(filters=64,kernel_size=(3,3),padding='Same',activation='swish'))\n",
        "model.add(MaxPool2D(pool_size=(2,2),strides=(2,2)))\n",
        "model.add(Dropout(0.25))\n",
        "model.add(Conv2D(filters=64,kernel_size=(3,3),padding='Same',activation='swish'))\n",
        "model.add(MaxPool2D(pool_size=(2,2),strides=(2,2)))\n",
        "model.add(Conv2D(filters=64,kernel_size=(3,3),padding='Same',activation='relu'))\n",
        "model.add(MaxPool2D(pool_size=(2,2),strides=(2,2)))\n",
        "model.add(Dropout(0.25))\n",
        "# Fully connected layers\n",
        "model.add(Flatten())\n",
        "model.add(Dense(256,activation='relu'))\n",
        "model.add(Dense(256,activation='relu'))\n",
        "model.add(Dropout(0.5))\n",
        "model.add(Dense(24, activation='softmax'))\n",
        "\n",
        "optimizer = RMSprop(lr=0.001, rho=0.9, epsilon=1e-08, decay=0.0)\n",
        "\n",
        "# use categorical crossentropy as loss function\n",
        "model.compile(optimizer=optimizer, loss='categorical_crossentropy', metrics=['accuracy'])\n",
        "\n",
        "# Define model parameters\n",
        "epochs = 50\n",
        "batch_size = 80\n",
        "learning_rate_reduction = ReduceLROnPlateau(monitor='val_acc', patience=3, verbose=1, factor=0.5, min_lr=0.00001)"
      ],
      "execution_count": null,
      "outputs": []
    },
    {
      "cell_type": "code",
      "metadata": {
        "id": "xlY8UHmzFoqX",
        "colab": {
          "base_uri": "https://localhost:8080/"
        },
        "outputId": "c0ba1f7b-307e-48e0-82c0-97eedd804163"
      },
      "source": [
        "model.summary() # get model architecture"
      ],
      "execution_count": null,
      "outputs": [
        {
          "output_type": "stream",
          "text": [
            "Model: \"sequential\"\n",
            "_________________________________________________________________\n",
            "Layer (type)                 Output Shape              Param #   \n",
            "=================================================================\n",
            "conv2d (Conv2D)              (None, 28, 28, 32)        832       \n",
            "_________________________________________________________________\n",
            "max_pooling2d (MaxPooling2D) (None, 14, 14, 32)        0         \n",
            "_________________________________________________________________\n",
            "dropout (Dropout)            (None, 14, 14, 32)        0         \n",
            "_________________________________________________________________\n",
            "conv2d_1 (Conv2D)            (None, 14, 14, 64)        18496     \n",
            "_________________________________________________________________\n",
            "max_pooling2d_1 (MaxPooling2 (None, 7, 7, 64)          0         \n",
            "_________________________________________________________________\n",
            "dropout_1 (Dropout)          (None, 7, 7, 64)          0         \n",
            "_________________________________________________________________\n",
            "conv2d_2 (Conv2D)            (None, 7, 7, 64)          36928     \n",
            "_________________________________________________________________\n",
            "max_pooling2d_2 (MaxPooling2 (None, 3, 3, 64)          0         \n",
            "_________________________________________________________________\n",
            "conv2d_3 (Conv2D)            (None, 3, 3, 64)          36928     \n",
            "_________________________________________________________________\n",
            "max_pooling2d_3 (MaxPooling2 (None, 1, 1, 64)          0         \n",
            "_________________________________________________________________\n",
            "dropout_2 (Dropout)          (None, 1, 1, 64)          0         \n",
            "_________________________________________________________________\n",
            "flatten (Flatten)            (None, 64)                0         \n",
            "_________________________________________________________________\n",
            "dense (Dense)                (None, 256)               16640     \n",
            "_________________________________________________________________\n",
            "dropout_3 (Dropout)          (None, 256)               0         \n",
            "_________________________________________________________________\n",
            "dense_1 (Dense)              (None, 24)                6168      \n",
            "=================================================================\n",
            "Total params: 115,992\n",
            "Trainable params: 115,992\n",
            "Non-trainable params: 0\n",
            "_________________________________________________________________\n"
          ],
          "name": "stdout"
        }
      ]
    },
    {
      "cell_type": "code",
      "metadata": {
        "colab": {
          "base_uri": "https://localhost:8080/"
        },
        "id": "8HWErPFiCmfp",
        "outputId": "4c1f6288-ca6d-4326-9e5a-490ae7528f0e"
      },
      "source": [
        "print(X_train2[0].shape)"
      ],
      "execution_count": null,
      "outputs": [
        {
          "output_type": "stream",
          "text": [
            "(100, 100, 1)\n"
          ],
          "name": "stdout"
        }
      ]
    },
    {
      "cell_type": "code",
      "metadata": {
        "colab": {
          "base_uri": "https://localhost:8080/"
        },
        "id": "bvZpkJ0dFqGb",
        "outputId": "8a07fd2c-acb5-4e8f-d35d-c2d73d44780d"
      },
      "source": [
        "# Fit model - Use first line when predicting and second \"final\" line when using validation set to find # of epochs\n",
        "\n",
        "model.fit(X_train2, Y_train2, batch_size=batch_size, epochs=epochs, validation_data=(X_val,Y_val), callbacks=[learning_rate_reduction])\n",
        "#final = model.fit(X_train2, Y_train2, batch_size=batch_size, epochs=epochs, validation_data=(X_val,Y_val), callbacks=[learning_rate_reduction])"
      ],
      "execution_count": null,
      "outputs": [
        {
          "output_type": "stream",
          "text": [
            "Epoch 1/50\n",
            "344/344 [==============================] - 19s 33ms/step - loss: 2.8983 - accuracy: 0.1252 - val_loss: 0.6966 - val_accuracy: 0.7578\n",
            "WARNING:tensorflow:Learning rate reduction is conditioned on metric `val_acc` which is not available. Available metrics are: loss,accuracy,val_loss,val_accuracy,lr\n",
            "Epoch 2/50\n",
            "344/344 [==============================] - 11s 31ms/step - loss: 0.5784 - accuracy: 0.7989 - val_loss: 0.1976 - val_accuracy: 0.9461\n",
            "WARNING:tensorflow:Learning rate reduction is conditioned on metric `val_acc` which is not available. Available metrics are: loss,accuracy,val_loss,val_accuracy,lr\n",
            "Epoch 3/50\n",
            "344/344 [==============================] - 11s 31ms/step - loss: 0.1208 - accuracy: 0.9604 - val_loss: 0.0030 - val_accuracy: 0.9996\n",
            "WARNING:tensorflow:Learning rate reduction is conditioned on metric `val_acc` which is not available. Available metrics are: loss,accuracy,val_loss,val_accuracy,lr\n",
            "Epoch 4/50\n",
            "344/344 [==============================] - 11s 31ms/step - loss: 0.0580 - accuracy: 0.9833 - val_loss: 7.0051e-04 - val_accuracy: 0.9998\n",
            "WARNING:tensorflow:Learning rate reduction is conditioned on metric `val_acc` which is not available. Available metrics are: loss,accuracy,val_loss,val_accuracy,lr\n",
            "Epoch 5/50\n",
            "344/344 [==============================] - 11s 31ms/step - loss: 0.0372 - accuracy: 0.9886 - val_loss: 3.8040e-04 - val_accuracy: 1.0000\n",
            "WARNING:tensorflow:Learning rate reduction is conditioned on metric `val_acc` which is not available. Available metrics are: loss,accuracy,val_loss,val_accuracy,lr\n",
            "Epoch 6/50\n",
            "344/344 [==============================] - 11s 31ms/step - loss: 0.0312 - accuracy: 0.9906 - val_loss: 1.1218e-04 - val_accuracy: 1.0000\n",
            "WARNING:tensorflow:Learning rate reduction is conditioned on metric `val_acc` which is not available. Available metrics are: loss,accuracy,val_loss,val_accuracy,lr\n",
            "Epoch 7/50\n",
            "344/344 [==============================] - 11s 31ms/step - loss: 0.0229 - accuracy: 0.9926 - val_loss: 6.7474e-04 - val_accuracy: 1.0000\n",
            "WARNING:tensorflow:Learning rate reduction is conditioned on metric `val_acc` which is not available. Available metrics are: loss,accuracy,val_loss,val_accuracy,lr\n",
            "Epoch 8/50\n",
            "344/344 [==============================] - 10s 30ms/step - loss: 0.0198 - accuracy: 0.9942 - val_loss: 0.0070 - val_accuracy: 0.9976\n",
            "WARNING:tensorflow:Learning rate reduction is conditioned on metric `val_acc` which is not available. Available metrics are: loss,accuracy,val_loss,val_accuracy,lr\n",
            "Epoch 9/50\n",
            "344/344 [==============================] - 11s 31ms/step - loss: 0.0221 - accuracy: 0.9941 - val_loss: 2.2985e-05 - val_accuracy: 1.0000\n",
            "WARNING:tensorflow:Learning rate reduction is conditioned on metric `val_acc` which is not available. Available metrics are: loss,accuracy,val_loss,val_accuracy,lr\n",
            "Epoch 10/50\n",
            "344/344 [==============================] - 11s 31ms/step - loss: 0.0180 - accuracy: 0.9949 - val_loss: 5.8538e-06 - val_accuracy: 1.0000\n",
            "WARNING:tensorflow:Learning rate reduction is conditioned on metric `val_acc` which is not available. Available metrics are: loss,accuracy,val_loss,val_accuracy,lr\n",
            "Epoch 11/50\n",
            "344/344 [==============================] - 11s 31ms/step - loss: 0.0158 - accuracy: 0.9959 - val_loss: 0.0024 - val_accuracy: 0.9987\n",
            "WARNING:tensorflow:Learning rate reduction is conditioned on metric `val_acc` which is not available. Available metrics are: loss,accuracy,val_loss,val_accuracy,lr\n",
            "Epoch 12/50\n",
            "344/344 [==============================] - 11s 31ms/step - loss: 0.0143 - accuracy: 0.9961 - val_loss: 6.4390e-04 - val_accuracy: 0.9999\n",
            "WARNING:tensorflow:Learning rate reduction is conditioned on metric `val_acc` which is not available. Available metrics are: loss,accuracy,val_loss,val_accuracy,lr\n",
            "Epoch 13/50\n",
            "344/344 [==============================] - 11s 31ms/step - loss: 0.0223 - accuracy: 0.9943 - val_loss: 4.0659e-04 - val_accuracy: 1.0000\n",
            "WARNING:tensorflow:Learning rate reduction is conditioned on metric `val_acc` which is not available. Available metrics are: loss,accuracy,val_loss,val_accuracy,lr\n",
            "Epoch 14/50\n",
            "344/344 [==============================] - 11s 32ms/step - loss: 0.0127 - accuracy: 0.9964 - val_loss: 5.2290e-05 - val_accuracy: 1.0000\n",
            "WARNING:tensorflow:Learning rate reduction is conditioned on metric `val_acc` which is not available. Available metrics are: loss,accuracy,val_loss,val_accuracy,lr\n",
            "Epoch 15/50\n",
            "344/344 [==============================] - 11s 31ms/step - loss: 0.0128 - accuracy: 0.9972 - val_loss: 3.6693e-06 - val_accuracy: 1.0000\n",
            "WARNING:tensorflow:Learning rate reduction is conditioned on metric `val_acc` which is not available. Available metrics are: loss,accuracy,val_loss,val_accuracy,lr\n",
            "Epoch 16/50\n",
            "344/344 [==============================] - 11s 31ms/step - loss: 0.0114 - accuracy: 0.9970 - val_loss: 2.1936e-05 - val_accuracy: 1.0000\n",
            "WARNING:tensorflow:Learning rate reduction is conditioned on metric `val_acc` which is not available. Available metrics are: loss,accuracy,val_loss,val_accuracy,lr\n",
            "Epoch 17/50\n",
            "344/344 [==============================] - 11s 31ms/step - loss: 0.0218 - accuracy: 0.9960 - val_loss: 7.3453e-05 - val_accuracy: 1.0000\n",
            "WARNING:tensorflow:Learning rate reduction is conditioned on metric `val_acc` which is not available. Available metrics are: loss,accuracy,val_loss,val_accuracy,lr\n",
            "Epoch 18/50\n",
            "344/344 [==============================] - 11s 31ms/step - loss: 0.0152 - accuracy: 0.9968 - val_loss: 9.0166e-07 - val_accuracy: 1.0000\n",
            "WARNING:tensorflow:Learning rate reduction is conditioned on metric `val_acc` which is not available. Available metrics are: loss,accuracy,val_loss,val_accuracy,lr\n",
            "Epoch 19/50\n",
            "344/344 [==============================] - 11s 31ms/step - loss: 0.0201 - accuracy: 0.9958 - val_loss: 0.0027 - val_accuracy: 0.9995\n",
            "WARNING:tensorflow:Learning rate reduction is conditioned on metric `val_acc` which is not available. Available metrics are: loss,accuracy,val_loss,val_accuracy,lr\n",
            "Epoch 20/50\n",
            "344/344 [==============================] - 11s 31ms/step - loss: 0.0105 - accuracy: 0.9979 - val_loss: 3.3416e-08 - val_accuracy: 1.0000\n",
            "WARNING:tensorflow:Learning rate reduction is conditioned on metric `val_acc` which is not available. Available metrics are: loss,accuracy,val_loss,val_accuracy,lr\n",
            "Epoch 21/50\n",
            "344/344 [==============================] - 11s 31ms/step - loss: 0.0143 - accuracy: 0.9971 - val_loss: 1.6280e-04 - val_accuracy: 0.9999\n",
            "WARNING:tensorflow:Learning rate reduction is conditioned on metric `val_acc` which is not available. Available metrics are: loss,accuracy,val_loss,val_accuracy,lr\n",
            "Epoch 22/50\n",
            "344/344 [==============================] - 11s 31ms/step - loss: 0.0105 - accuracy: 0.9979 - val_loss: 2.5103e-06 - val_accuracy: 1.0000\n",
            "WARNING:tensorflow:Learning rate reduction is conditioned on metric `val_acc` which is not available. Available metrics are: loss,accuracy,val_loss,val_accuracy,lr\n",
            "Epoch 23/50\n",
            "344/344 [==============================] - 11s 31ms/step - loss: 0.0095 - accuracy: 0.9983 - val_loss: 2.6212e-04 - val_accuracy: 0.9999\n",
            "WARNING:tensorflow:Learning rate reduction is conditioned on metric `val_acc` which is not available. Available metrics are: loss,accuracy,val_loss,val_accuracy,lr\n",
            "Epoch 24/50\n",
            "344/344 [==============================] - 11s 31ms/step - loss: 0.0166 - accuracy: 0.9973 - val_loss: 1.2689e-04 - val_accuracy: 1.0000\n",
            "WARNING:tensorflow:Learning rate reduction is conditioned on metric `val_acc` which is not available. Available metrics are: loss,accuracy,val_loss,val_accuracy,lr\n",
            "Epoch 25/50\n",
            "344/344 [==============================] - 11s 31ms/step - loss: 0.0108 - accuracy: 0.9975 - val_loss: 3.4498e-06 - val_accuracy: 1.0000\n",
            "WARNING:tensorflow:Learning rate reduction is conditioned on metric `val_acc` which is not available. Available metrics are: loss,accuracy,val_loss,val_accuracy,lr\n",
            "Epoch 26/50\n",
            "344/344 [==============================] - 11s 31ms/step - loss: 0.0141 - accuracy: 0.9973 - val_loss: 2.6907e-05 - val_accuracy: 1.0000\n",
            "WARNING:tensorflow:Learning rate reduction is conditioned on metric `val_acc` which is not available. Available metrics are: loss,accuracy,val_loss,val_accuracy,lr\n",
            "Epoch 27/50\n",
            "344/344 [==============================] - 11s 31ms/step - loss: 0.0158 - accuracy: 0.9972 - val_loss: 0.0058 - val_accuracy: 0.9988\n",
            "WARNING:tensorflow:Learning rate reduction is conditioned on metric `val_acc` which is not available. Available metrics are: loss,accuracy,val_loss,val_accuracy,lr\n",
            "Epoch 28/50\n",
            "344/344 [==============================] - 11s 31ms/step - loss: 0.0120 - accuracy: 0.9975 - val_loss: 2.4645e-06 - val_accuracy: 1.0000\n",
            "WARNING:tensorflow:Learning rate reduction is conditioned on metric `val_acc` which is not available. Available metrics are: loss,accuracy,val_loss,val_accuracy,lr\n",
            "Epoch 29/50\n",
            "344/344 [==============================] - 11s 31ms/step - loss: 0.0164 - accuracy: 0.9974 - val_loss: 1.5580e-07 - val_accuracy: 1.0000\n",
            "WARNING:tensorflow:Learning rate reduction is conditioned on metric `val_acc` which is not available. Available metrics are: loss,accuracy,val_loss,val_accuracy,lr\n",
            "Epoch 30/50\n",
            "344/344 [==============================] - 11s 31ms/step - loss: 0.0110 - accuracy: 0.9979 - val_loss: 0.0020 - val_accuracy: 0.9990\n",
            "WARNING:tensorflow:Learning rate reduction is conditioned on metric `val_acc` which is not available. Available metrics are: loss,accuracy,val_loss,val_accuracy,lr\n",
            "Epoch 31/50\n",
            "344/344 [==============================] - 11s 31ms/step - loss: 0.0153 - accuracy: 0.9975 - val_loss: 4.1976e-07 - val_accuracy: 1.0000\n",
            "WARNING:tensorflow:Learning rate reduction is conditioned on metric `val_acc` which is not available. Available metrics are: loss,accuracy,val_loss,val_accuracy,lr\n",
            "Epoch 32/50\n",
            "344/344 [==============================] - 11s 31ms/step - loss: 0.0085 - accuracy: 0.9983 - val_loss: 1.0027e-04 - val_accuracy: 1.0000\n",
            "WARNING:tensorflow:Learning rate reduction is conditioned on metric `val_acc` which is not available. Available metrics are: loss,accuracy,val_loss,val_accuracy,lr\n",
            "Epoch 33/50\n",
            "344/344 [==============================] - 11s 31ms/step - loss: 0.0195 - accuracy: 0.9969 - val_loss: 0.0012 - val_accuracy: 0.9999\n",
            "WARNING:tensorflow:Learning rate reduction is conditioned on metric `val_acc` which is not available. Available metrics are: loss,accuracy,val_loss,val_accuracy,lr\n",
            "Epoch 34/50\n",
            "344/344 [==============================] - 11s 31ms/step - loss: 0.0142 - accuracy: 0.9975 - val_loss: 4.6333e-06 - val_accuracy: 1.0000\n",
            "WARNING:tensorflow:Learning rate reduction is conditioned on metric `val_acc` which is not available. Available metrics are: loss,accuracy,val_loss,val_accuracy,lr\n",
            "Epoch 35/50\n",
            "344/344 [==============================] - 11s 31ms/step - loss: 0.0148 - accuracy: 0.9975 - val_loss: 1.1351e-05 - val_accuracy: 1.0000\n",
            "WARNING:tensorflow:Learning rate reduction is conditioned on metric `val_acc` which is not available. Available metrics are: loss,accuracy,val_loss,val_accuracy,lr\n",
            "Epoch 36/50\n",
            "344/344 [==============================] - 11s 31ms/step - loss: 0.0144 - accuracy: 0.9980 - val_loss: 5.3765e-04 - val_accuracy: 0.9996\n",
            "WARNING:tensorflow:Learning rate reduction is conditioned on metric `val_acc` which is not available. Available metrics are: loss,accuracy,val_loss,val_accuracy,lr\n",
            "Epoch 37/50\n",
            "344/344 [==============================] - 11s 31ms/step - loss: 0.0164 - accuracy: 0.9977 - val_loss: 0.0031 - val_accuracy: 0.9993\n",
            "WARNING:tensorflow:Learning rate reduction is conditioned on metric `val_acc` which is not available. Available metrics are: loss,accuracy,val_loss,val_accuracy,lr\n",
            "Epoch 38/50\n",
            "344/344 [==============================] - 11s 31ms/step - loss: 0.0122 - accuracy: 0.9979 - val_loss: 2.2211e-05 - val_accuracy: 1.0000\n",
            "WARNING:tensorflow:Learning rate reduction is conditioned on metric `val_acc` which is not available. Available metrics are: loss,accuracy,val_loss,val_accuracy,lr\n",
            "Epoch 39/50\n",
            "344/344 [==============================] - 11s 31ms/step - loss: 0.0119 - accuracy: 0.9977 - val_loss: 3.3482e-05 - val_accuracy: 1.0000\n",
            "WARNING:tensorflow:Learning rate reduction is conditioned on metric `val_acc` which is not available. Available metrics are: loss,accuracy,val_loss,val_accuracy,lr\n",
            "Epoch 40/50\n",
            "344/344 [==============================] - 11s 31ms/step - loss: 0.0115 - accuracy: 0.9977 - val_loss: 9.2126e-05 - val_accuracy: 1.0000\n",
            "WARNING:tensorflow:Learning rate reduction is conditioned on metric `val_acc` which is not available. Available metrics are: loss,accuracy,val_loss,val_accuracy,lr\n",
            "Epoch 41/50\n",
            "344/344 [==============================] - 11s 31ms/step - loss: 0.0134 - accuracy: 0.9981 - val_loss: 2.0661e-04 - val_accuracy: 0.9999\n",
            "WARNING:tensorflow:Learning rate reduction is conditioned on metric `val_acc` which is not available. Available metrics are: loss,accuracy,val_loss,val_accuracy,lr\n",
            "Epoch 42/50\n",
            "344/344 [==============================] - 11s 31ms/step - loss: 0.0105 - accuracy: 0.9982 - val_loss: 5.1943e-04 - val_accuracy: 0.9999\n",
            "WARNING:tensorflow:Learning rate reduction is conditioned on metric `val_acc` which is not available. Available metrics are: loss,accuracy,val_loss,val_accuracy,lr\n",
            "Epoch 43/50\n",
            "344/344 [==============================] - 11s 31ms/step - loss: 0.0131 - accuracy: 0.9981 - val_loss: 7.1062e-06 - val_accuracy: 1.0000\n",
            "WARNING:tensorflow:Learning rate reduction is conditioned on metric `val_acc` which is not available. Available metrics are: loss,accuracy,val_loss,val_accuracy,lr\n",
            "Epoch 44/50\n",
            "344/344 [==============================] - 11s 31ms/step - loss: 0.0098 - accuracy: 0.9983 - val_loss: 1.1071e-08 - val_accuracy: 1.0000\n",
            "WARNING:tensorflow:Learning rate reduction is conditioned on metric `val_acc` which is not available. Available metrics are: loss,accuracy,val_loss,val_accuracy,lr\n",
            "Epoch 45/50\n",
            "344/344 [==============================] - 11s 31ms/step - loss: 0.0151 - accuracy: 0.9982 - val_loss: 2.7982e-07 - val_accuracy: 1.0000\n",
            "WARNING:tensorflow:Learning rate reduction is conditioned on metric `val_acc` which is not available. Available metrics are: loss,accuracy,val_loss,val_accuracy,lr\n",
            "Epoch 46/50\n",
            "344/344 [==============================] - 11s 31ms/step - loss: 0.0076 - accuracy: 0.9988 - val_loss: 1.4472e-11 - val_accuracy: 1.0000\n",
            "WARNING:tensorflow:Learning rate reduction is conditioned on metric `val_acc` which is not available. Available metrics are: loss,accuracy,val_loss,val_accuracy,lr\n",
            "Epoch 47/50\n",
            "344/344 [==============================] - 11s 31ms/step - loss: 0.0090 - accuracy: 0.9987 - val_loss: 9.1312e-04 - val_accuracy: 0.9996\n",
            "WARNING:tensorflow:Learning rate reduction is conditioned on metric `val_acc` which is not available. Available metrics are: loss,accuracy,val_loss,val_accuracy,lr\n",
            "Epoch 48/50\n",
            "344/344 [==============================] - 11s 31ms/step - loss: 0.0112 - accuracy: 0.9983 - val_loss: 6.0131e-06 - val_accuracy: 1.0000\n",
            "WARNING:tensorflow:Learning rate reduction is conditioned on metric `val_acc` which is not available. Available metrics are: loss,accuracy,val_loss,val_accuracy,lr\n",
            "Epoch 49/50\n",
            "344/344 [==============================] - 11s 31ms/step - loss: 0.0138 - accuracy: 0.9985 - val_loss: 7.8366e-08 - val_accuracy: 1.0000\n",
            "WARNING:tensorflow:Learning rate reduction is conditioned on metric `val_acc` which is not available. Available metrics are: loss,accuracy,val_loss,val_accuracy,lr\n",
            "Epoch 50/50\n",
            "344/344 [==============================] - 11s 31ms/step - loss: 0.0089 - accuracy: 0.9988 - val_loss: 1.0799e-06 - val_accuracy: 1.0000\n",
            "WARNING:tensorflow:Learning rate reduction is conditioned on metric `val_acc` which is not available. Available metrics are: loss,accuracy,val_loss,val_accuracy,lr\n"
          ],
          "name": "stdout"
        },
        {
          "output_type": "execute_result",
          "data": {
            "text/plain": [
              "<tensorflow.python.keras.callbacks.History at 0x7fcbcb7e9590>"
            ]
          },
          "metadata": {
            "tags": []
          },
          "execution_count": 11
        }
      ]
    },
    {
      "cell_type": "code",
      "metadata": {
        "colab": {
          "base_uri": "https://localhost:8080/"
        },
        "id": "Vl9t_f-BF0b9",
        "outputId": "a21f3e61-ed51-443e-8178-225bd0a6fd2c"
      },
      "source": [
        "model.evaluate(X_test2, Y_test2)"
      ],
      "execution_count": null,
      "outputs": [
        {
          "output_type": "stream",
          "text": [
            "225/225 [==============================] - 1s 6ms/step - loss: 0.4911 - accuracy: 0.9580\n"
          ],
          "name": "stdout"
        },
        {
          "output_type": "execute_result",
          "data": {
            "text/plain": [
              "[0.49108147621154785, 0.9580312371253967]"
            ]
          },
          "metadata": {
            "tags": []
          },
          "execution_count": 12
        }
      ]
    },
    {
      "cell_type": "code",
      "metadata": {
        "id": "3kwWPz8A42Wv"
      },
      "source": [
        ""
      ],
      "execution_count": null,
      "outputs": []
    },
    {
      "cell_type": "code",
      "metadata": {
        "colab": {
          "base_uri": "https://localhost:8080/"
        },
        "id": "GFNOFDqu42TV",
        "outputId": "b0d309eb-1c98-4293-8a64-dba05bf7e828"
      },
      "source": [
        "# serialize to JSON\n",
        "json_file = model.to_json()\n",
        "with open(\"/gdrive/MyDrive/ASL/model.js\", \"w\") as file:\n",
        "   file.write(json_file)\n",
        "# serialize weights to HDF5\n",
        "model.save_weights(\"/gdrive/MyDrive/ASL/model_weights.h5\")\n",
        "print(\"saved\")"
      ],
      "execution_count": null,
      "outputs": [
        {
          "output_type": "stream",
          "text": [
            "saved\n"
          ],
          "name": "stdout"
        }
      ]
    },
    {
      "cell_type": "code",
      "metadata": {
        "id": "QAvuaSWU0hDR"
      },
      "source": [
        ""
      ],
      "execution_count": null,
      "outputs": []
    },
    {
      "cell_type": "code",
      "metadata": {
        "id": "agKH1LOTAB8V"
      },
      "source": [
        "import cv2\n",
        "import numpy as np\n",
        "#import onnxruntime as ort\n",
        "from keras_preprocessing import image\n",
        "#from google.colab.patches import cv2_imshow\n",
        "from google.colab import files\n",
        "from io import BytesIO\n",
        "from PIL import Image\n",
        "from google.colab.patches import cv2_imshow\n",
        "'''\n",
        "uploaded = files.upload()\n",
        "im = Image.open(BytesIO(uploaded['eg.jpg']))\n",
        "import matplotlib.pyplot as plt\n",
        "plt.imshow(im)\n",
        "plt.show()\n",
        "frame = im\n",
        "'''\n",
        "\n",
        "def center_crop(frame):\n",
        "    h, w, _ = frame.shape\n",
        "    start = abs(h - w) // 2\n",
        "    if h > w:\n",
        "        return frame[start: start + w]\n",
        "    return frame[:, start: start + h]\n",
        "\n",
        "\n",
        "\n"
      ],
      "execution_count": null,
      "outputs": []
    },
    {
      "cell_type": "code",
      "metadata": {
        "id": "kcDRLCxExX11",
        "colab": {
          "base_uri": "https://localhost:8080/",
          "height": 387
        },
        "outputId": "64703c6e-9bdc-4be3-e61c-fe85d225ee82"
      },
      "source": [
        "!pip install anvil-uplink"
      ],
      "execution_count": null,
      "outputs": [
        {
          "output_type": "stream",
          "text": [
            "Collecting anvil-uplink\n",
            "\u001b[?25l  Downloading https://files.pythonhosted.org/packages/a1/e7/4eb5859dd68eab5baf07e91e38eebd0fa7fa87aef4f2ebc5ca00490c8bbc/anvil_uplink-0.3.34-py2.py3-none-any.whl (58kB)\n",
            "\r\u001b[K     |█████▋                          | 10kB 20.8MB/s eta 0:00:01\r\u001b[K     |███████████▏                    | 20kB 25.9MB/s eta 0:00:01\r\u001b[K     |████████████████▉               | 30kB 22.1MB/s eta 0:00:01\r\u001b[K     |██████████████████████▍         | 40kB 20.6MB/s eta 0:00:01\r\u001b[K     |████████████████████████████    | 51kB 22.5MB/s eta 0:00:01\r\u001b[K     |████████████████████████████████| 61kB 7.0MB/s \n",
            "\u001b[?25hRequirement already satisfied: six in /usr/local/lib/python3.7/dist-packages (from anvil-uplink) (1.15.0)\n",
            "Requirement already satisfied: future in /usr/local/lib/python3.7/dist-packages (from anvil-uplink) (0.16.0)\n",
            "Collecting ws4py\n",
            "\u001b[?25l  Downloading https://files.pythonhosted.org/packages/53/20/4019a739b2eefe9282d3822ef6a225250af964b117356971bd55e274193c/ws4py-0.5.1.tar.gz (51kB)\n",
            "\r\u001b[K     |██████▍                         | 10kB 15.2MB/s eta 0:00:01\r\u001b[K     |████████████▊                   | 20kB 13.1MB/s eta 0:00:01\r\u001b[K     |███████████████████▏            | 30kB 10.2MB/s eta 0:00:01\r\u001b[K     |█████████████████████████▌      | 40kB 10.8MB/s eta 0:00:01\r\u001b[K     |███████████████████████████████▉| 51kB 10.0MB/s eta 0:00:01\r\u001b[K     |████████████████████████████████| 61kB 6.0MB/s \n",
            "\u001b[?25hCollecting argparse\n",
            "  Downloading https://files.pythonhosted.org/packages/f2/94/3af39d34be01a24a6e65433d19e107099374224905f1e0cc6bbe1fd22a2f/argparse-1.4.0-py2.py3-none-any.whl\n",
            "Building wheels for collected packages: ws4py\n",
            "  Building wheel for ws4py (setup.py) ... \u001b[?25l\u001b[?25hdone\n",
            "  Created wheel for ws4py: filename=ws4py-0.5.1-cp37-none-any.whl size=45216 sha256=54fecd3b58c03d4f2e88fa7e1236e596e49020df1602db5fe19a730dd20c5075\n",
            "  Stored in directory: /root/.cache/pip/wheels/a2/6e/4e/8b0ae12fb9b8a05715256952cf7609a8ab86285fab99b88c68\n",
            "Successfully built ws4py\n",
            "Installing collected packages: ws4py, argparse, anvil-uplink\n",
            "Successfully installed anvil-uplink-0.3.34 argparse-1.4.0 ws4py-0.5.1\n"
          ],
          "name": "stdout"
        },
        {
          "output_type": "display_data",
          "data": {
            "application/vnd.colab-display-data+json": {
              "pip_warning": {
                "packages": [
                  "argparse",
                  "google"
                ]
              }
            }
          },
          "metadata": {
            "tags": []
          }
        }
      ]
    },
    {
      "cell_type": "code",
      "metadata": {
        "id": "C7Cd-JB4xXv-"
      },
      "source": [
        "import anvil.server\n",
        "@anvil.server.callable\n",
        "\n",
        "def main(im):\n",
        "    # constants\n",
        "  #im=im.astype(float)\n",
        "  im=np.array(im)\n",
        "  index_to_letter = list('ABCDEFGHIKLMNOPQRSTUVWXY')\n",
        "  mean = 0.485 * 255.\n",
        "  std = 0.229 * 255.\n",
        "\n",
        "    # create runnable session with exported model\n",
        "    #ort_session = ort.InferenceSession(\"signlanguage.onnx\")\n",
        "\n",
        "  #cap = cv2.VideoCapture(0)\n",
        "\n",
        "  #while True:\n",
        "        # Capture frame-by-frame\n",
        "    #ret, frame = cap.read()\n",
        "\n",
        "        # preprocess data\n",
        "  #frame = cv2.imread(\"/gdrive/MyDrive/ASL/eg.jpg\");\n",
        "  #im = cv2.imread(r'/gdrive/MyDrive/ASL/eg.jpg')\n",
        "  #frame=image.img_to_array(im)\n",
        "  frame = center_crop(im)\n",
        "  frame = cv2.cvtColor(frame, cv2.COLOR_BGR2GRAY)\n",
        "  x = cv2.resize(frame, (100, 100))\n",
        "  #x = (x - mean) / std\n",
        "  x = x.reshape(1,100,100,1).astype(np.float32)\n",
        "  print(x.shape)\n",
        "  y = model.predict(x)\n",
        "       # y = ort_session.run(None, {'input': x})[0]\n",
        "\n",
        "\n",
        "  index = np.argmax(y, axis=1)\n",
        "  letter = index_to_letter[int(index)]\n",
        "  print(letter)\n",
        "  #cv2.putText(frame, letter, (100, 100), cv2.FONT_HERSHEY_SIMPLEX, 2.0, (0, 255, 0), thickness=2)\n",
        "  #cv2_imshow(frame)\n",
        "\n",
        " \n",
        "  #cv2.waitKey(0)\n",
        "\n",
        "  return letter\n"
      ],
      "execution_count": null,
      "outputs": []
    },
    {
      "cell_type": "code",
      "metadata": {
        "id": "2yfCFCjjxXuQ"
      },
      "source": [
        "anvil.server.connect(\"RU5OWHXXWXYYRRCUS2VLGKUO-PAPOUF4M37VS7FL7\")"
      ],
      "execution_count": null,
      "outputs": []
    },
    {
      "cell_type": "code",
      "metadata": {
        "id": "kojoo8c_xXsZ"
      },
      "source": [
        ""
      ],
      "execution_count": null,
      "outputs": []
    },
    {
      "cell_type": "code",
      "metadata": {
        "id": "-5JOfy6HxXqz",
        "colab": {
          "base_uri": "https://localhost:8080/",
          "height": 246
        },
        "outputId": "0ac4ce23-1ff1-4603-aa67-922a26baf214"
      },
      "source": [
        "anvil.server.wait_forever()"
      ],
      "execution_count": null,
      "outputs": [
        {
          "output_type": "error",
          "ename": "KeyboardInterrupt",
          "evalue": "ignored",
          "traceback": [
            "\u001b[0;31m---------------------------------------------------------------------------\u001b[0m",
            "\u001b[0;31mKeyboardInterrupt\u001b[0m                         Traceback (most recent call last)",
            "\u001b[0;32m<ipython-input-53-95cac3476493>\u001b[0m in \u001b[0;36m<module>\u001b[0;34m()\u001b[0m\n\u001b[0;32m----> 1\u001b[0;31m \u001b[0manvil\u001b[0m\u001b[0;34m.\u001b[0m\u001b[0mserver\u001b[0m\u001b[0;34m.\u001b[0m\u001b[0mwait_forever\u001b[0m\u001b[0;34m(\u001b[0m\u001b[0;34m)\u001b[0m\u001b[0;34m\u001b[0m\u001b[0;34m\u001b[0m\u001b[0m\n\u001b[0m",
            "\u001b[0;32m/usr/local/lib/python3.7/dist-packages/anvil/server.py\u001b[0m in \u001b[0;36mwait_forever\u001b[0;34m()\u001b[0m\n\u001b[1;32m    333\u001b[0m     \u001b[0m_get_connection\u001b[0m\u001b[0;34m(\u001b[0m\u001b[0;34m)\u001b[0m\u001b[0;34m\u001b[0m\u001b[0;34m\u001b[0m\u001b[0m\n\u001b[1;32m    334\u001b[0m     \u001b[0;32mwhile\u001b[0m \u001b[0;32mTrue\u001b[0m\u001b[0;34m:\u001b[0m\u001b[0;34m\u001b[0m\u001b[0;34m\u001b[0m\u001b[0m\n\u001b[0;32m--> 335\u001b[0;31m         \u001b[0mtime\u001b[0m\u001b[0;34m.\u001b[0m\u001b[0msleep\u001b[0m\u001b[0;34m(\u001b[0m\u001b[0;36m1\u001b[0m\u001b[0;34m)\u001b[0m\u001b[0;34m\u001b[0m\u001b[0;34m\u001b[0m\u001b[0m\n\u001b[0m",
            "\u001b[0;31mKeyboardInterrupt\u001b[0m: "
          ]
        }
      ]
    },
    {
      "cell_type": "code",
      "metadata": {
        "id": "kz19LhyaxXon"
      },
      "source": [
        ""
      ],
      "execution_count": null,
      "outputs": []
    },
    {
      "cell_type": "code",
      "metadata": {
        "id": "y7vNO2VFxXke"
      },
      "source": [
        ""
      ],
      "execution_count": null,
      "outputs": []
    },
    {
      "cell_type": "code",
      "metadata": {
        "id": "uwHP2KAuxXiE"
      },
      "source": [
        ""
      ],
      "execution_count": null,
      "outputs": []
    },
    {
      "cell_type": "code",
      "metadata": {
        "id": "vvKzSAShxXVW"
      },
      "source": [
        ""
      ],
      "execution_count": null,
      "outputs": []
    },
    {
      "cell_type": "markdown",
      "metadata": {
        "id": "GINMlEZwZAvZ"
      },
      "source": [
        "**jup**"
      ]
    },
    {
      "cell_type": "code",
      "metadata": {
        "id": "rnq97akbnBU4"
      },
      "source": [
        "! pip install jupyter-dash"
      ],
      "execution_count": null,
      "outputs": []
    },
    {
      "cell_type": "code",
      "metadata": {
        "id": "8lmQEyIInGmA"
      },
      "source": [
        "import plotly.express as px\n",
        "from jupyter_dash import JupyterDash\n",
        "import dash_core_components as dcc\n",
        "import dash_html_components as html\n",
        "from dash.dependencies import Input, Output# Load Data"
      ],
      "execution_count": null,
      "outputs": []
    },
    {
      "cell_type": "code",
      "metadata": {
        "id": "jdQJ_J90nKyg"
      },
      "source": [
        "df = px.data.tips()# Build App\n",
        "app = JupyterDash(__name__)\n",
        "app.layout = html.Div([\n",
        "    html.H1(\"Sign Language Convertor\"),\n",
        "    dcc.Upload(\"image\"),\n",
        "    html.Label([\n",
        "        \"Alphabet\",\n",
        "\n",
        "       ''' dcc.Dropdown(\n",
        "            id='colorscale-dropdown', clearable=False,\n",
        "            value='plasma', options=[\n",
        "                {'label': c, 'value': c}\n",
        "                for c in px.colors.named_colorscales()\n",
        "            ])'''\n",
        "    ]),\n",
        "])# Define callback to update graph\n",
        "@app.callback(\n",
        "    Output('graph', 'figure'),\n",
        "    [Input(\"colorscale-dropdown\", \"value\")]\n",
        ")\n",
        "def update_figure(Alphabet):\n",
        "    letter = main(Alphabet)\n",
        "    return px.scatter(\n",
        "        df, x=\"total_bill\", y=\"tip\", color=\"size\",\n",
        "        color_continuous_scale=colorscale,\n",
        "        render_mode=\"webgl\", title=\"Tips\"\n",
        "    )# Run app and display result inline in the notebook"
      ],
      "execution_count": null,
      "outputs": []
    },
    {
      "cell_type": "code",
      "metadata": {
        "id": "HQFRicurnPN1",
        "colab": {
          "base_uri": "https://localhost:8080/",
          "height": 50
        },
        "outputId": "7d6b518f-9faa-4df1-9939-99e32218d730"
      },
      "source": [
        "app.run_server(mode='external')\n"
      ],
      "execution_count": null,
      "outputs": [
        {
          "output_type": "stream",
          "text": [
            "Dash app running on:\n"
          ],
          "name": "stdout"
        },
        {
          "output_type": "display_data",
          "data": {
            "application/javascript": [
              "(async (port, path, text, element) => {\n",
              "    if (!google.colab.kernel.accessAllowed) {\n",
              "      return;\n",
              "    }\n",
              "    element.appendChild(document.createTextNode(''));\n",
              "    const url = await google.colab.kernel.proxyPort(port);\n",
              "    const anchor = document.createElement('a');\n",
              "    anchor.href = url + path;\n",
              "    anchor.target = '_blank';\n",
              "    anchor.setAttribute('data-href', url + path);\n",
              "    anchor.textContent = text;\n",
              "    element.appendChild(anchor);\n",
              "  })(8050, \"/\", \"http://127.0.0.1:8050/\", window.element)"
            ],
            "text/plain": [
              "<IPython.core.display.Javascript object>"
            ]
          },
          "metadata": {
            "tags": []
          }
        }
      ]
    },
    {
      "cell_type": "code",
      "metadata": {
        "id": "gS0BmLLdkIHp"
      },
      "source": [
        "import matplotlib\n",
        "matplotlib.use('Agg')\n",
        "import tkinter as tk\n",
        "\n",
        "\n",
        "import matplotlib.pyplot as plt\n",
        "from matplotlib.backends.backend_tkagg import FigureCanvasTkAgg\n",
        "root=tk.Tk()\n",
        "canvas1 = tk.Canvas(root,width=500, height = 300)\n",
        "canvas1.pack()\n"
      ],
      "execution_count": null,
      "outputs": []
    },
    {
      "cell_type": "markdown",
      "metadata": {
        "id": "ai_t448PqHwH"
      },
      "source": [
        "**gradio**"
      ]
    },
    {
      "cell_type": "code",
      "metadata": {
        "id": "WRDGqEdyqO9k",
        "colab": {
          "base_uri": "https://localhost:8080/"
        },
        "outputId": "a86bab7b-8047-48b7-fce2-94205b865de9"
      },
      "source": [
        "!pip install --quiet gradio"
      ],
      "execution_count": null,
      "outputs": [
        {
          "output_type": "stream",
          "text": [
            "\u001b[K     |████████████████████████████████| 1.1MB 8.7MB/s \n",
            "\u001b[K     |████████████████████████████████| 215kB 27.7MB/s \n",
            "\u001b[K     |████████████████████████████████| 3.2MB 35.4MB/s \n",
            "\u001b[K     |████████████████████████████████| 71kB 11.5MB/s \n",
            "\u001b[K     |████████████████████████████████| 962kB 42.5MB/s \n",
            "\u001b[?25h  Building wheel for ffmpy (setup.py) ... \u001b[?25l\u001b[?25hdone\n",
            "  Building wheel for flask-cachebuster (setup.py) ... \u001b[?25l\u001b[?25hdone\n",
            "  Building wheel for Flask-BasicAuth (setup.py) ... \u001b[?25l\u001b[?25hdone\n"
          ],
          "name": "stdout"
        }
      ]
    },
    {
      "cell_type": "code",
      "metadata": {
        "id": "UvR6FkorqD3u",
        "colab": {
          "base_uri": "https://localhost:8080/",
          "height": 588
        },
        "outputId": "14201703-00c9-4fc2-daaa-cd660694149a"
      },
      "source": [
        "import gradio as gr\n",
        "import time\n",
        "\n",
        "def replace(text):\n",
        "    time.sleep(135)\n",
        "    return text.replace('World', 'Google')\n",
        "\n",
        "gr.Interface(fn=replace, \n",
        "             inputs='textbox', \n",
        "             outputs='textbox').launch(share=True);\n",
        "\n",
        "\n",
        "\"\"\" Equivalent Code:\n",
        "gr.Interface(fn=replace,  \n",
        "             inputs=gr.inputs.Textbox(), \n",
        "             outputs=gr.outputs.Textbox()).launch();\n",
        "\"\"\";"
      ],
      "execution_count": null,
      "outputs": [
        {
          "output_type": "stream",
          "text": [
            "Colab notebook detected. To show errors in colab notebook, set `debug=True` in `launch()`\n",
            "This share link will expire in 24 hours. If you need a permanent link, visit: https://gradio.app/introducing-hosted (NEW!)\n",
            "Running on External URL: https://32075.gradio.app\n",
            "Interface loading below...\n"
          ],
          "name": "stdout"
        },
        {
          "output_type": "display_data",
          "data": {
            "text/html": [
              "\n",
              "        <iframe\n",
              "            width=\"1000\"\n",
              "            height=\"500\"\n",
              "            src=\"https://32075.gradio.app\"\n",
              "            frameborder=\"0\"\n",
              "            allowfullscreen\n",
              "        ></iframe>\n",
              "        "
            ],
            "text/plain": [
              "<IPython.lib.display.IFrame at 0x7f5a34375210>"
            ]
          },
          "metadata": {
            "tags": []
          }
        }
      ]
    },
    {
      "cell_type": "code",
      "metadata": {
        "colab": {
          "base_uri": "https://localhost:8080/",
          "height": 588
        },
        "id": "UJd9dF-Psqa-",
        "outputId": "894fbb96-4ff5-44e9-a5c0-662f429bf8bd"
      },
      "source": [
        "import cv2\n",
        "import numpy as np\n",
        "#import onnxruntime as ort\n",
        "from keras_preprocessing import image\n",
        "#from google.colab.patches import cv2_imshow\n",
        "from google.colab import files\n",
        "from io import BytesIO\n",
        "from PIL import Image\n",
        "from google.colab.patches import cv2_imshow\n",
        "'''\n",
        "uploaded = files.upload()\n",
        "im = Image.open(BytesIO(uploaded['eg.jpg']))\n",
        "import matplotlib.pyplot as plt\n",
        "plt.imshow(im)\n",
        "plt.show()\n",
        "frame = im\n",
        "'''\n",
        "\n",
        "def center_crop(frame):\n",
        "    h, w, _ = frame.shape\n",
        "    start = abs(h - w) // 2\n",
        "    if h > w:\n",
        "        return frame[start: start + w]\n",
        "    return frame[:, start: start + h]\n",
        "\n",
        "\n",
        "\n",
        "\n",
        "def main(im):\n",
        "    # constants\n",
        "  index_to_letter = list('ABCDEFGHIKLMNOPQRSTUVWXY')\n",
        "  mean = 0.485 * 255.\n",
        "  std = 0.229 * 255.\n",
        "\n",
        "    # create runnable session with exported model\n",
        "    #ort_session = ort.InferenceSession(\"signlanguage.onnx\")\n",
        "\n",
        "  #cap = cv2.VideoCapture(0)\n",
        "\n",
        "  #while True:\n",
        "        # Capture frame-by-frame\n",
        "    #ret, frame = cap.read()\n",
        "\n",
        "        # preprocess data\n",
        "  #frame = cv2.imread(\"/gdrive/MyDrive/ASL/eg.jpg\");\n",
        "  #im = cv2.imread(r'/gdrive/MyDrive/ASL/eg.jpg')\n",
        "  frame=image.img_to_array(im)\n",
        "  frame = center_crop(frame)\n",
        "  frame = cv2.cvtColor(frame, cv2.COLOR_BGR2GRAY)\n",
        "  x = cv2.resize(frame, (100, 100))\n",
        "  #x = (x - mean) / std\n",
        "  x = x.reshape(1,100,100,1).astype(np.float32)\n",
        "  print(x.shape)\n",
        "  y = model.predict(x)\n",
        "       # y = ort_session.run(None, {'input': x})[0]\n",
        "\n",
        "\n",
        "  index = np.argmax(y, axis=1)\n",
        "  letter = index_to_letter[int(index)]\n",
        "  print(letter)\n",
        "  #cv2.putText(frame, letter, (100, 100), cv2.FONT_HERSHEY_SIMPLEX, 2.0, (0, 255, 0), thickness=2)\n",
        "  #cv2_imshow(frame)\n",
        "\n",
        " \n",
        "  #cv2.waitKey(0)\n",
        "\n",
        "  return letter\n",
        "\n",
        "#webcam = gr.in.Webcam(shape=(500, 500))\n",
        "\n",
        "#webcam = gr.inputs.Webcam(shape=(200,200))\n",
        "im = gr.inputs.Image(label=\"Input Image\", source=\"webcam\")\n",
        "label = gr.outputs.Label()\n",
        "gr.Interface(fn=main, \n",
        "             inputs=im, \n",
        "             outputs=label).launch();"
      ],
      "execution_count": null,
      "outputs": [
        {
          "output_type": "stream",
          "text": [
            "Colab notebook detected. To show errors in colab notebook, set `debug=True` in `launch()`\n",
            "This share link will expire in 24 hours. If you need a permanent link, visit: https://gradio.app/introducing-hosted (NEW!)\n",
            "Running on External URL: https://43642.gradio.app\n",
            "Interface loading below...\n"
          ],
          "name": "stdout"
        },
        {
          "output_type": "display_data",
          "data": {
            "text/html": [
              "\n",
              "        <iframe\n",
              "            width=\"1000\"\n",
              "            height=\"500\"\n",
              "            src=\"https://43642.gradio.app\"\n",
              "            frameborder=\"0\"\n",
              "            allowfullscreen\n",
              "        ></iframe>\n",
              "        "
            ],
            "text/plain": [
              "<IPython.lib.display.IFrame at 0x7f5a3db51690>"
            ]
          },
          "metadata": {
            "tags": []
          }
        }
      ]
    },
    {
      "cell_type": "markdown",
      "metadata": {
        "id": "wLcFwSzD01Bb"
      },
      "source": [
        "**convert model to onnx**"
      ]
    },
    {
      "cell_type": "code",
      "metadata": {
        "id": "P44Ba8zR1SNy"
      },
      "source": [
        "pip install git+https://github.com/onnx/tensorflow-onnx\n"
      ],
      "execution_count": null,
      "outputs": []
    },
    {
      "cell_type": "code",
      "metadata": {
        "id": "Qv7QoUPh2BLm"
      },
      "source": [
        "pip install keras2onnx"
      ],
      "execution_count": null,
      "outputs": []
    },
    {
      "cell_type": "code",
      "metadata": {
        "id": "ZJ3MvqmN0gug"
      },
      "source": [
        "from tensorflow.python.keras import backend as K\n",
        "from tensorflow.python.keras.models import load_model\n",
        "import onnx\n",
        "import keras2onnx\n",
        "\n",
        "onnx_model_name = 'ASL.onnx'\n",
        "\n",
        "#model = load_model('model-resnet50-final.h5')\n",
        "onnx_model = keras2onnx.convert_keras(model, model.name)\n",
        "onnx.save_model(onnx_model, onnx_model_name)"
      ],
      "execution_count": null,
      "outputs": []
    },
    {
      "cell_type": "markdown",
      "metadata": {
        "id": "tMEm_T6N21E3"
      },
      "source": [
        ""
      ]
    },
    {
      "cell_type": "code",
      "metadata": {
        "id": "umnMEdajyUA8"
      },
      "source": [
        "import cv2\n",
        "import numpy as np\n",
        "#import onnxruntime as ort\n",
        "from keras_preprocessing import image\n",
        "#from google.colab.patches import cv2_imshow\n",
        "from google.colab import files\n",
        "from io import BytesIO\n",
        "from PIL import Image\n",
        "from google.colab.patches import cv2_imshow\n",
        "\n",
        "'''\n",
        "uploaded = files.upload()\n",
        "im = Image.open(BytesIO(uploaded['eg.jpg']))\n",
        "import matplotlib.pyplot as plt\n",
        "plt.imshow(im)\n",
        "plt.show()\n",
        "frame = im\n",
        "'''\n",
        "im = cv2.imread(r'/gdrive/MyDrive/ASL/eg.jpg')\n",
        "\n",
        "\n",
        "def center_crop(frame):\n",
        "    h, w, _ = frame.shape\n",
        "    start = abs(h - w) // 2\n",
        "    if h > w:\n",
        "        return frame[start: start + w]\n",
        "    return frame[:, start: start + h]\n",
        "\n",
        "\n",
        "def main():\n",
        "    # constants\n",
        "  index_to_letter = list('ABCDEFGHIKLMNOPQRSTUVWXY')\n",
        "  mean = 0.485 * 255.\n",
        "  std = 0.229 * 255.\n",
        "\n",
        "    # create runnable session with exported model\n",
        "    #ort_session = ort.InferenceSession(\"signlanguage.onnx\")\n",
        "\n",
        "  #cap = cv2.VideoCapture(0)\n",
        "\n",
        "  #while True:\n",
        "        # Capture frame-by-frame\n",
        "    #ret, frame = cap.read()\n",
        "\n",
        "        # preprocess data\n",
        "  #frame = cv2.imread(\"/gdrive/MyDrive/ASL/eg.jpg\");\n",
        "  frame=image.img_to_array(im)\n",
        "  frame = center_crop(frame)\n",
        "  frame = cv2.cvtColor(frame, cv2.COLOR_BGR2GRAY)\n",
        "  x = cv2.resize(frame, (28, 28))\n",
        "  #x = (x - mean) / std\n",
        "  x = x.reshape(1,28,28,1).astype(np.float32)\n",
        "  print(x.shape)\n",
        "  y = model.predict(x)\n",
        "       # y = ort_session.run(None, {'input': x})[0]\n",
        "\n",
        "\n",
        "  index = np.argmax(y, axis=1)\n",
        "  letter = index_to_letter[int(index)]\n",
        "\n",
        "  cv2.putText(frame, letter, (100, 100), cv2.FONT_HERSHEY_SIMPLEX, 2.0, (0, 255, 0), thickness=2)\n",
        "  cv2_imshow(frame)\n",
        "\n",
        "  #  if cv2.waitKey(1) & 0xFF == ord('q'):\n",
        "   #   break\n",
        "\n",
        "  #cap.release()\n",
        "  #cv2.destroyAllWindows()\n",
        "  cv2.waitKey(0)\n",
        "\n",
        "#if __name__ == '__main__':\n",
        "main()\n",
        "\n",
        "\n",
        "#from google.colab.patches import cv2_imshow\n",
        "#img = cv2.imread('https://drive.google.com/file/d/1bS6rNOCihkq7yYRtrhDP8B2mIqodTwLi/view?usp=sharing',cv2.IMREAD_UNCHANGED);\n",
        "#print(img)"
      ],
      "execution_count": null,
      "outputs": []
    },
    {
      "cell_type": "code",
      "metadata": {
        "id": "L45Bu5X-Lac0"
      },
      "source": [
        "print(im)\n",
        "im=image.img_to_array(im)\n",
        "print(im)"
      ],
      "execution_count": null,
      "outputs": []
    },
    {
      "cell_type": "code",
      "metadata": {
        "id": "CvcTQ6TrE-OA"
      },
      "source": [
        "from google.colab.patches import cv2_imshow"
      ],
      "execution_count": null,
      "outputs": []
    },
    {
      "cell_type": "code",
      "metadata": {
        "id": "3K6fYOmpE-OB"
      },
      "source": [
        "!curl -o logo.png https://colab.research.google.com/img/colab_favicon_256px.png\n",
        "import cv2\n",
        "img = cv2.imread('logo.png', cv2.IMREAD_UNCHANGED)\n",
        "cv2_imshow(img)"
      ],
      "execution_count": null,
      "outputs": []
    },
    {
      "cell_type": "code",
      "metadata": {
        "id": "E_9Zxvrd52FH"
      },
      "source": [
        "from IPython.display import display, Javascript\n",
        "from google.colab.output import eval_js\n",
        "from base64 import b64decode\n",
        "\n",
        "def take_photo(filename='photo.jpg', quality=0.8):\n",
        "  js = Javascript('''\n",
        "    async function takePhoto(quality) {\n",
        "      const div = document.createElement('div');\n",
        "      const capture = document.createElement('button');\n",
        "      capture.textContent = 'Capture';\n",
        "      div.appendChild(capture);\n",
        "\n",
        "      const video = document.createElement('video');\n",
        "      video.style.display = 'block';\n",
        "      const stream = await navigator.mediaDevices.getUserMedia({video: true});\n",
        "\n",
        "      document.body.appendChild(div);\n",
        "      div.appendChild(video);\n",
        "      video.srcObject = stream;\n",
        "      await video.play();\n",
        "\n",
        "      // Resize the output to fit the video element.\n",
        "      google.colab.output.setIframeHeight(document.documentElement.scrollHeight, true);\n",
        "\n",
        "      // Wait for Capture to be clicked.\n",
        "      await new Promise((resolve) => capture.onclick = resolve);\n",
        "\n",
        "      const canvas = document.createElement('canvas');\n",
        "      canvas.width = video.videoWidth;\n",
        "      canvas.height = video.videoHeight;\n",
        "      canvas.getContext('2d').drawImage(video, 0, 0);\n",
        "      stream.getVideoTracks()[0].stop();\n",
        "      div.remove();\n",
        "      return canvas.toDataURL('image/jpeg', quality);\n",
        "    }\n",
        "    ''')\n",
        "  display(js)\n",
        "  data = eval_js('takePhoto({})'.format(quality))\n",
        "  binary = b64decode(data.split(',')[1])\n",
        "  with open(filename, 'wb') as f:\n",
        "    f.write(binary)\n",
        "  return filename"
      ],
      "execution_count": null,
      "outputs": []
    },
    {
      "cell_type": "code",
      "metadata": {
        "colab": {
          "base_uri": "https://localhost:8080/",
          "height": 514
        },
        "id": "l6bPlEDC52FJ",
        "outputId": "3d40a6ec-3fb3-440b-90a3-208ace793a5c"
      },
      "source": [
        "from IPython.display import Image\n",
        "filename = []\n",
        "try:\n",
        "  filename = take_photo()\n",
        "  print('Saved to {}'.format(filename))\n",
        "  \n",
        "  # Show the image which was just taken.\n",
        "  display(Image(filename))\n",
        "except Exception as err:\n",
        "  # Errors will be thrown if the user does not have a webcam or if they do not\n",
        "  # grant the page permission to access it.\n",
        "  print(str(err))"
      ],
      "execution_count": null,
      "outputs": [
        {
          "output_type": "display_data",
          "data": {
            "application/javascript": [
              "\n",
              "    async function takePhoto(quality) {\n",
              "      const div = document.createElement('div');\n",
              "      const capture = document.createElement('button');\n",
              "      capture.textContent = 'Capture';\n",
              "      div.appendChild(capture);\n",
              "\n",
              "      const video = document.createElement('video');\n",
              "      video.style.display = 'block';\n",
              "      const stream = await navigator.mediaDevices.getUserMedia({video: true});\n",
              "\n",
              "      document.body.appendChild(div);\n",
              "      div.appendChild(video);\n",
              "      video.srcObject = stream;\n",
              "      await video.play();\n",
              "\n",
              "      // Resize the output to fit the video element.\n",
              "      google.colab.output.setIframeHeight(document.documentElement.scrollHeight, true);\n",
              "\n",
              "      // Wait for Capture to be clicked.\n",
              "      await new Promise((resolve) => capture.onclick = resolve);\n",
              "\n",
              "      const canvas = document.createElement('canvas');\n",
              "      canvas.width = video.videoWidth;\n",
              "      canvas.height = video.videoHeight;\n",
              "      canvas.getContext('2d').drawImage(video, 0, 0);\n",
              "      stream.getVideoTracks()[0].stop();\n",
              "      div.remove();\n",
              "      return canvas.toDataURL('image/jpeg', quality);\n",
              "    }\n",
              "    "
            ],
            "text/plain": [
              "<IPython.core.display.Javascript object>"
            ]
          },
          "metadata": {
            "tags": []
          }
        },
        {
          "output_type": "stream",
          "text": [
            "Saved to photo.jpg\n"
          ],
          "name": "stdout"
        },
        {
          "output_type": "display_data",
          "data": {
            "image/jpeg": "[encoded data removed]",
            "text/plain": [
              "<IPython.core.display.Image object>"
            ]
          },
          "metadata": {
            "tags": []
          }
        }
      ]
    },
    {
      "cell_type": "markdown",
      "metadata": {
        "id": "55fySPi1neq4"
      },
      "source": [
        ""
      ]
    },
    {
      "cell_type": "code",
      "metadata": {
        "id": "j3uWYYCjSPDN"
      },
      "source": [
        ""
      ],
      "execution_count": null,
      "outputs": []
    },
    {
      "cell_type": "code",
      "metadata": {
        "id": "0MIEL930SO_Y"
      },
      "source": [
        "import cv2\n",
        "import numpy as np\n",
        "#import onnxruntime as ort\n",
        "from keras_preprocessing import image\n",
        "#from google.colab.patches import cv2_imshow\n",
        "from google.colab import files\n",
        "from io import BytesIO\n",
        "from PIL import Image\n",
        "from google.colab.patches import cv2_imshow\n",
        "\n",
        "'''\n",
        "uploaded = files.upload()\n",
        "im = Image.open(BytesIO(uploaded['eg.jpg']))\n",
        "import matplotlib.pyplot as plt\n",
        "plt.imshow(im)\n",
        "plt.show()\n",
        "frame = im\n",
        "'''\n",
        "#im1 = cv2.imread(r'/content/drive/MyDrive/ASL/ss.jpg')\n",
        "\n",
        "\n",
        "\n",
        "\n",
        "def center_crop(frame):\n",
        "    h, w, _ = frame.shape\n",
        "    start = abs(h - w) // 2\n",
        "    if h > w:\n",
        "        return frame[start: start + w]\n",
        "    return frame[:, start: start + h]\n",
        "\n",
        "\n",
        "def main(im):\n",
        "    # constants\n",
        "  index_to_letter = list('ABCDEFGHIKLMNOPQRSTUVWXY')\n",
        "  mean = 0.485 * 255.\n",
        "  std = 0.229 * 255.\n",
        "\n",
        "    # create runnable session with exported model\n",
        "    #ort_session = ort.InferenceSession(\"signlanguage.onnx\")\n",
        "\n",
        "  #cap = cv2.VideoCapture(0)\n",
        "\n",
        "  #while True:\n",
        "        # Capture frame-by-frame\n",
        "    #ret, frame = cap.read()\n",
        "\n",
        "        # preprocess data\n",
        "  #frame = cv2.imread(\"/gdrive/MyDrive/ASL/eg.jpg\");\n",
        "  frame=image.img_to_array(im)\n",
        "  #frame=np.array(result)\n",
        "  #frame=result\n",
        "  frame = center_crop(frame)\n",
        "  frame = cv2.cvtColor(frame, cv2.COLOR_BGR2GRAY)\n",
        "  x = cv2.resize(frame, (100, 100))\n",
        "  x = (x - mean) / std\n",
        "  x = x.reshape(1,100,100,1).astype(np.float32)\n",
        "  print(x.shape)\n",
        "  y = model.predict(x)\n",
        "  def gen_image(image):\n",
        "    \"\"\"Return 28x28 image given grayscale values\"\"\"\n",
        "    pixels = image.reshape((100,100))\n",
        "    #pixels = image\n",
        "    plt.imshow(pixels, cmap='gray')\n",
        "    plt.show()\n",
        "  gen_image(x)\n",
        "       # y = ort_session.run(None, {'input': x})[0]\n",
        "\n",
        "\n",
        "  index = np.argmax(y, axis=1)\n",
        "  letter = index_to_letter[int(index)]\n",
        "\n",
        "  return letter\n",
        "#if __name__ == '__main__':\n",
        "\n",
        "\n",
        "#from google.colab.patches import cv2_imshow\n",
        "#img = cv2.imread('https://drive.google.com/file/d/1bS6rNOCihkq7yYRtrhDP8B2mIqodTwLi/view?usp=sharing',cv2.IMREAD_UNCHANGED);\n",
        "#print(img)"
      ],
      "execution_count": null,
      "outputs": []
    },
    {
      "cell_type": "code",
      "metadata": {
        "id": "GRZrexF7SO8z"
      },
      "source": [
        ""
      ],
      "execution_count": null,
      "outputs": []
    },
    {
      "cell_type": "code",
      "metadata": {
        "id": "PxyPuTvaSOyY"
      },
      "source": [
        ""
      ],
      "execution_count": null,
      "outputs": []
    },
    {
      "cell_type": "code",
      "metadata": {
        "id": "DGgJISxS5Stq"
      },
      "source": [
        "!pip install tensorflowjs "
      ],
      "execution_count": null,
      "outputs": []
    },
    {
      "cell_type": "code",
      "metadata": {
        "id": "Cwr2IDeY5ZvF"
      },
      "source": [
        "!tensorflowjs_converter --input_format keras model/"
      ],
      "execution_count": null,
      "outputs": []
    },
    {
      "cell_type": "code",
      "metadata": {
        "id": "41JM9d6-5lKI"
      },
      "source": [
        "<script src=\"https://cdn.jsdelivr.net/npm/@tensorflow/tfjs@latest\"> </script>\n"
      ],
      "execution_count": null,
      "outputs": []
    },
    {
      "cell_type": "code",
      "metadata": {
        "id": "Irb7uldoSM3L"
      },
      "source": [
        ""
      ],
      "execution_count": null,
      "outputs": []
    },
    {
      "cell_type": "code",
      "metadata": {
        "id": "-Kot3D2G9GOp",
        "colab": {
          "base_uri": "https://localhost:8080/"
        },
        "outputId": "cc9a79ed-dbae-481f-a893-fe16068ab873"
      },
      "source": [
        "!pip install streamlit"
      ],
      "execution_count": null,
      "outputs": [
        {
          "output_type": "stream",
          "text": [
            "Requirement already satisfied: streamlit in /usr/local/lib/python3.7/dist-packages (0.77.0)\n",
            "Requirement already satisfied: numpy in /usr/local/lib/python3.7/dist-packages (from streamlit) (1.19.5)\n",
            "Requirement already satisfied: pyarrow; python_version < \"3.9\" in /usr/local/lib/python3.7/dist-packages (from streamlit) (3.0.0)\n",
            "Requirement already satisfied: click>=7.0 in /usr/local/lib/python3.7/dist-packages (from streamlit) (7.1.2)\n",
            "Requirement already satisfied: altair>=3.2.0 in /usr/local/lib/python3.7/dist-packages (from streamlit) (4.1.0)\n",
            "Requirement already satisfied: pandas>=0.21.0 in /usr/local/lib/python3.7/dist-packages (from streamlit) (1.1.5)\n",
            "Requirement already satisfied: gitpython in /usr/local/lib/python3.7/dist-packages (from streamlit) (3.1.13)\n",
            "Requirement already satisfied: tornado>=5.0 in /usr/local/lib/python3.7/dist-packages (from streamlit) (5.1.1)\n",
            "Requirement already satisfied: tzlocal in /usr/local/lib/python3.7/dist-packages (from streamlit) (1.5.1)\n",
            "Requirement already satisfied: protobuf!=3.11,>=3.6.0 in /usr/local/lib/python3.7/dist-packages (from streamlit) (3.12.4)\n",
            "Requirement already satisfied: packaging in /usr/local/lib/python3.7/dist-packages (from streamlit) (20.9)\n",
            "Requirement already satisfied: pillow>=6.2.0 in /usr/local/lib/python3.7/dist-packages (from streamlit) (7.0.0)\n",
            "Requirement already satisfied: requests in /usr/local/lib/python3.7/dist-packages (from streamlit) (2.23.0)\n",
            "Requirement already satisfied: validators in /usr/local/lib/python3.7/dist-packages (from streamlit) (0.18.2)\n",
            "Requirement already satisfied: python-dateutil in /usr/local/lib/python3.7/dist-packages (from streamlit) (2.8.1)\n",
            "Requirement already satisfied: toml in /usr/local/lib/python3.7/dist-packages (from streamlit) (0.10.2)\n",
            "Requirement already satisfied: watchdog; platform_system != \"Darwin\" in /usr/local/lib/python3.7/dist-packages (from streamlit) (2.0.2)\n",
            "Requirement already satisfied: astor in /usr/local/lib/python3.7/dist-packages (from streamlit) (0.8.1)\n",
            "Requirement already satisfied: blinker in /usr/local/lib/python3.7/dist-packages (from streamlit) (1.4)\n",
            "Requirement already satisfied: base58 in /usr/local/lib/python3.7/dist-packages (from streamlit) (2.1.0)\n",
            "Requirement already satisfied: cachetools>=4.0 in /usr/local/lib/python3.7/dist-packages (from streamlit) (4.2.1)\n",
            "Requirement already satisfied: pydeck>=0.1.dev5 in /usr/local/lib/python3.7/dist-packages (from streamlit) (0.6.1)\n",
            "Requirement already satisfied: entrypoints in /usr/local/lib/python3.7/dist-packages (from altair>=3.2.0->streamlit) (0.3)\n",
            "Requirement already satisfied: jinja2 in /usr/local/lib/python3.7/dist-packages (from altair>=3.2.0->streamlit) (2.11.3)\n",
            "Requirement already satisfied: jsonschema in /usr/local/lib/python3.7/dist-packages (from altair>=3.2.0->streamlit) (2.6.0)\n",
            "Requirement already satisfied: toolz in /usr/local/lib/python3.7/dist-packages (from altair>=3.2.0->streamlit) (0.11.1)\n",
            "Requirement already satisfied: pytz>=2017.2 in /usr/local/lib/python3.7/dist-packages (from pandas>=0.21.0->streamlit) (2018.9)\n",
            "Requirement already satisfied: gitdb<5,>=4.0.1 in /usr/local/lib/python3.7/dist-packages (from gitpython->streamlit) (4.0.5)\n",
            "Requirement already satisfied: setuptools in /usr/local/lib/python3.7/dist-packages (from protobuf!=3.11,>=3.6.0->streamlit) (53.0.0)\n",
            "Requirement already satisfied: six>=1.9 in /usr/local/lib/python3.7/dist-packages (from protobuf!=3.11,>=3.6.0->streamlit) (1.15.0)\n",
            "Requirement already satisfied: pyparsing>=2.0.2 in /usr/local/lib/python3.7/dist-packages (from packaging->streamlit) (2.4.7)\n",
            "Requirement already satisfied: urllib3!=1.25.0,!=1.25.1,<1.26,>=1.21.1 in /usr/local/lib/python3.7/dist-packages (from requests->streamlit) (1.24.3)\n",
            "Requirement already satisfied: idna<3,>=2.5 in /usr/local/lib/python3.7/dist-packages (from requests->streamlit) (2.10)\n",
            "Requirement already satisfied: chardet<4,>=3.0.2 in /usr/local/lib/python3.7/dist-packages (from requests->streamlit) (3.0.4)\n",
            "Requirement already satisfied: certifi>=2017.4.17 in /usr/local/lib/python3.7/dist-packages (from requests->streamlit) (2020.12.5)\n",
            "Requirement already satisfied: decorator>=3.4.0 in /usr/local/lib/python3.7/dist-packages (from validators->streamlit) (4.4.2)\n",
            "Requirement already satisfied: ipywidgets>=7.0.0 in /usr/local/lib/python3.7/dist-packages (from pydeck>=0.1.dev5->streamlit) (7.6.3)\n",
            "Requirement already satisfied: traitlets>=4.3.2 in /usr/local/lib/python3.7/dist-packages (from pydeck>=0.1.dev5->streamlit) (5.0.5)\n",
            "Requirement already satisfied: ipykernel>=5.1.2; python_version >= \"3.4\" in /usr/local/lib/python3.7/dist-packages (from pydeck>=0.1.dev5->streamlit) (5.5.0)\n",
            "Requirement already satisfied: MarkupSafe>=0.23 in /usr/local/lib/python3.7/dist-packages (from jinja2->altair>=3.2.0->streamlit) (1.1.1)\n",
            "Requirement already satisfied: smmap<4,>=3.0.1 in /usr/local/lib/python3.7/dist-packages (from gitdb<5,>=4.0.1->gitpython->streamlit) (3.0.5)\n",
            "Requirement already satisfied: nbformat>=4.2.0 in /usr/local/lib/python3.7/dist-packages (from ipywidgets>=7.0.0->pydeck>=0.1.dev5->streamlit) (5.1.2)\n",
            "Requirement already satisfied: ipython>=4.0.0; python_version >= \"3.3\" in /usr/local/lib/python3.7/dist-packages (from ipywidgets>=7.0.0->pydeck>=0.1.dev5->streamlit) (5.5.0)\n",
            "Requirement already satisfied: jupyterlab-widgets>=1.0.0; python_version >= \"3.6\" in /usr/local/lib/python3.7/dist-packages (from ipywidgets>=7.0.0->pydeck>=0.1.dev5->streamlit) (1.0.0)\n",
            "Requirement already satisfied: widgetsnbextension~=3.5.0 in /usr/local/lib/python3.7/dist-packages (from ipywidgets>=7.0.0->pydeck>=0.1.dev5->streamlit) (3.5.1)\n",
            "Requirement already satisfied: ipython-genutils in /usr/local/lib/python3.7/dist-packages (from traitlets>=4.3.2->pydeck>=0.1.dev5->streamlit) (0.2.0)\n",
            "Requirement already satisfied: jupyter-client in /usr/local/lib/python3.7/dist-packages (from ipykernel>=5.1.2; python_version >= \"3.4\"->pydeck>=0.1.dev5->streamlit) (5.3.5)\n",
            "Requirement already satisfied: jupyter-core in /usr/local/lib/python3.7/dist-packages (from nbformat>=4.2.0->ipywidgets>=7.0.0->pydeck>=0.1.dev5->streamlit) (4.7.1)\n",
            "Requirement already satisfied: pickleshare in /usr/local/lib/python3.7/dist-packages (from ipython>=4.0.0; python_version >= \"3.3\"->ipywidgets>=7.0.0->pydeck>=0.1.dev5->streamlit) (0.7.5)\n",
            "Requirement already satisfied: pexpect; sys_platform != \"win32\" in /usr/local/lib/python3.7/dist-packages (from ipython>=4.0.0; python_version >= \"3.3\"->ipywidgets>=7.0.0->pydeck>=0.1.dev5->streamlit) (4.8.0)\n",
            "Requirement already satisfied: pygments in /usr/local/lib/python3.7/dist-packages (from ipython>=4.0.0; python_version >= \"3.3\"->ipywidgets>=7.0.0->pydeck>=0.1.dev5->streamlit) (2.6.1)\n",
            "Requirement already satisfied: prompt-toolkit<2.0.0,>=1.0.4 in /usr/local/lib/python3.7/dist-packages (from ipython>=4.0.0; python_version >= \"3.3\"->ipywidgets>=7.0.0->pydeck>=0.1.dev5->streamlit) (1.0.18)\n",
            "Requirement already satisfied: simplegeneric>0.8 in /usr/local/lib/python3.7/dist-packages (from ipython>=4.0.0; python_version >= \"3.3\"->ipywidgets>=7.0.0->pydeck>=0.1.dev5->streamlit) (0.8.1)\n",
            "Requirement already satisfied: notebook>=4.4.1 in /usr/local/lib/python3.7/dist-packages (from widgetsnbextension~=3.5.0->ipywidgets>=7.0.0->pydeck>=0.1.dev5->streamlit) (5.3.1)\n",
            "Requirement already satisfied: pyzmq>=13 in /usr/local/lib/python3.7/dist-packages (from jupyter-client->ipykernel>=5.1.2; python_version >= \"3.4\"->pydeck>=0.1.dev5->streamlit) (22.0.3)\n",
            "Requirement already satisfied: ptyprocess>=0.5 in /usr/local/lib/python3.7/dist-packages (from pexpect; sys_platform != \"win32\"->ipython>=4.0.0; python_version >= \"3.3\"->ipywidgets>=7.0.0->pydeck>=0.1.dev5->streamlit) (0.7.0)\n",
            "Requirement already satisfied: wcwidth in /usr/local/lib/python3.7/dist-packages (from prompt-toolkit<2.0.0,>=1.0.4->ipython>=4.0.0; python_version >= \"3.3\"->ipywidgets>=7.0.0->pydeck>=0.1.dev5->streamlit) (0.2.5)\n",
            "Requirement already satisfied: nbconvert in /usr/local/lib/python3.7/dist-packages (from notebook>=4.4.1->widgetsnbextension~=3.5.0->ipywidgets>=7.0.0->pydeck>=0.1.dev5->streamlit) (5.6.1)\n",
            "Requirement already satisfied: terminado>=0.8.1 in /usr/local/lib/python3.7/dist-packages (from notebook>=4.4.1->widgetsnbextension~=3.5.0->ipywidgets>=7.0.0->pydeck>=0.1.dev5->streamlit) (0.9.2)\n",
            "Requirement already satisfied: Send2Trash in /usr/local/lib/python3.7/dist-packages (from notebook>=4.4.1->widgetsnbextension~=3.5.0->ipywidgets>=7.0.0->pydeck>=0.1.dev5->streamlit) (1.5.0)\n",
            "Requirement already satisfied: pandocfilters>=1.4.1 in /usr/local/lib/python3.7/dist-packages (from nbconvert->notebook>=4.4.1->widgetsnbextension~=3.5.0->ipywidgets>=7.0.0->pydeck>=0.1.dev5->streamlit) (1.4.3)\n",
            "Requirement already satisfied: testpath in /usr/local/lib/python3.7/dist-packages (from nbconvert->notebook>=4.4.1->widgetsnbextension~=3.5.0->ipywidgets>=7.0.0->pydeck>=0.1.dev5->streamlit) (0.4.4)\n",
            "Requirement already satisfied: bleach in /usr/local/lib/python3.7/dist-packages (from nbconvert->notebook>=4.4.1->widgetsnbextension~=3.5.0->ipywidgets>=7.0.0->pydeck>=0.1.dev5->streamlit) (3.3.0)\n",
            "Requirement already satisfied: defusedxml in /usr/local/lib/python3.7/dist-packages (from nbconvert->notebook>=4.4.1->widgetsnbextension~=3.5.0->ipywidgets>=7.0.0->pydeck>=0.1.dev5->streamlit) (0.6.0)\n",
            "Requirement already satisfied: mistune<2,>=0.8.1 in /usr/local/lib/python3.7/dist-packages (from nbconvert->notebook>=4.4.1->widgetsnbextension~=3.5.0->ipywidgets>=7.0.0->pydeck>=0.1.dev5->streamlit) (0.8.4)\n",
            "Requirement already satisfied: webencodings in /usr/local/lib/python3.7/dist-packages (from bleach->nbconvert->notebook>=4.4.1->widgetsnbextension~=3.5.0->ipywidgets>=7.0.0->pydeck>=0.1.dev5->streamlit) (0.5.1)\n"
          ],
          "name": "stdout"
        }
      ]
    },
    {
      "cell_type": "code",
      "metadata": {
        "colab": {
          "base_uri": "https://localhost:8080/",
          "height": 162
        },
        "id": "OGeHlPJ8EAXg",
        "outputId": "78bbb6bf-8bae-4569-b1d4-ee556760d57e"
      },
      "source": [
        "python --version\n"
      ],
      "execution_count": null,
      "outputs": [
        {
          "output_type": "error",
          "ename": "NameError",
          "evalue": "ignored",
          "traceback": [
            "\u001b[0;31m---------------------------------------------------------------------------\u001b[0m",
            "\u001b[0;31mNameError\u001b[0m                                 Traceback (most recent call last)",
            "\u001b[0;32m<ipython-input-89-a4637bbefc43>\u001b[0m in \u001b[0;36m<module>\u001b[0;34m()\u001b[0m\n\u001b[0;32m----> 1\u001b[0;31m \u001b[0mpython\u001b[0m \u001b[0;34m-\u001b[0m\u001b[0;34m-\u001b[0m\u001b[0mversion\u001b[0m\u001b[0;34m\u001b[0m\u001b[0;34m\u001b[0m\u001b[0m\n\u001b[0m",
            "\u001b[0;31mNameError\u001b[0m: name 'python' is not defined"
          ]
        }
      ]
    },
    {
      "cell_type": "code",
      "metadata": {
        "colab": {
          "base_uri": "https://localhost:8080/",
          "height": 363
        },
        "id": "yp_t4QmZ8QNy",
        "outputId": "8fd382d7-bcc7-427b-c342-9740bedd653e"
      },
      "source": [
        "import streamlit as st\n",
        "def main1():\n",
        "  st.title(\"Sign Language Translator\")\n",
        "    \n",
        "  html_temp = \"\"\"\n",
        "    <div style=\"background-color:#025246 ;padding:10px\">\n",
        "    <h2 style=\"color:white;text-align:center;\">Sign Language Translator</h2>\n",
        "    </div>\n",
        "    \"\"\"\n",
        "  st.markdown(html_temp, unsafe_allow_html=True)\n",
        "\n",
        "    \n",
        "  image_file = st.file_uploader(\"Upload Image\", type=['jpg', 'png', 'jpeg'])\n",
        "  if image_file is not None:\n",
        "    our_image = Image.open(image_file)\n",
        "    st.text(\"Original Image\")\n",
        "    st.image(our_image)\n",
        "  if st.button(\"Recognise\"):\n",
        "    result= main(our_image)\n",
        "    st.text('Alphabet: {}'.format(result))\n",
        "\n",
        "main1()\n"
      ],
      "execution_count": null,
      "outputs": [
        {
          "output_type": "error",
          "ename": "ModuleNotFoundError",
          "evalue": "ignored",
          "traceback": [
            "\u001b[0;31m---------------------------------------------------------------------------\u001b[0m",
            "\u001b[0;31mModuleNotFoundError\u001b[0m                       Traceback (most recent call last)",
            "\u001b[0;32m<ipython-input-25-36a4e3c9f813>\u001b[0m in \u001b[0;36m<module>\u001b[0;34m()\u001b[0m\n\u001b[0;32m----> 1\u001b[0;31m \u001b[0;32mimport\u001b[0m \u001b[0mstreamlit\u001b[0m \u001b[0;32mas\u001b[0m \u001b[0mst\u001b[0m\u001b[0;34m\u001b[0m\u001b[0;34m\u001b[0m\u001b[0m\n\u001b[0m\u001b[1;32m      2\u001b[0m \u001b[0;32mdef\u001b[0m \u001b[0mmain1\u001b[0m\u001b[0;34m(\u001b[0m\u001b[0;34m)\u001b[0m\u001b[0;34m:\u001b[0m\u001b[0;34m\u001b[0m\u001b[0;34m\u001b[0m\u001b[0m\n\u001b[1;32m      3\u001b[0m   \u001b[0mst\u001b[0m\u001b[0;34m.\u001b[0m\u001b[0mtitle\u001b[0m\u001b[0;34m(\u001b[0m\u001b[0;34m\"Sign Language Translator\"\u001b[0m\u001b[0;34m)\u001b[0m\u001b[0;34m\u001b[0m\u001b[0;34m\u001b[0m\u001b[0m\n\u001b[1;32m      4\u001b[0m \u001b[0;34m\u001b[0m\u001b[0m\n\u001b[1;32m      5\u001b[0m   html_temp = \"\"\"\n",
            "\u001b[0;31mModuleNotFoundError\u001b[0m: No module named 'streamlit'",
            "",
            "\u001b[0;31m---------------------------------------------------------------------------\u001b[0;32m\nNOTE: If your import is failing due to a missing package, you can\nmanually install dependencies using either !pip or !apt.\n\nTo view examples of installing some common dependencies, click the\n\"Open Examples\" button below.\n\u001b[0;31m---------------------------------------------------------------------------\u001b[0m\n"
          ]
        }
      ]
    },
    {
      "cell_type": "markdown",
      "metadata": {
        "id": "7iMC9NK3SSnt"
      },
      "source": [
        "**flask**"
      ]
    },
    {
      "cell_type": "code",
      "metadata": {
        "colab": {
          "base_uri": "https://localhost:8080/"
        },
        "id": "wgT3q6WDUvtt",
        "outputId": "39cfe956-4fc3-4395-df7b-2f38c86caccb"
      },
      "source": [
        "!pip install flask-ngrok"
      ],
      "execution_count": null,
      "outputs": [
        {
          "output_type": "stream",
          "text": [
            "Collecting flask-ngrok\n",
            "  Downloading https://files.pythonhosted.org/packages/af/6c/f54cb686ad1129e27d125d182f90f52b32f284e6c8df58c1bae54fa1adbc/flask_ngrok-0.0.25-py3-none-any.whl\n",
            "Requirement already satisfied: requests in /usr/local/lib/python3.7/dist-packages (from flask-ngrok) (2.23.0)\n",
            "Requirement already satisfied: Flask>=0.8 in /usr/local/lib/python3.7/dist-packages (from flask-ngrok) (1.1.2)\n",
            "Requirement already satisfied: urllib3!=1.25.0,!=1.25.1,<1.26,>=1.21.1 in /usr/local/lib/python3.7/dist-packages (from requests->flask-ngrok) (1.24.3)\n",
            "Requirement already satisfied: certifi>=2017.4.17 in /usr/local/lib/python3.7/dist-packages (from requests->flask-ngrok) (2020.12.5)\n",
            "Requirement already satisfied: chardet<4,>=3.0.2 in /usr/local/lib/python3.7/dist-packages (from requests->flask-ngrok) (3.0.4)\n",
            "Requirement already satisfied: idna<3,>=2.5 in /usr/local/lib/python3.7/dist-packages (from requests->flask-ngrok) (2.10)\n",
            "Requirement already satisfied: Werkzeug>=0.15 in /usr/local/lib/python3.7/dist-packages (from Flask>=0.8->flask-ngrok) (1.0.1)\n",
            "Requirement already satisfied: itsdangerous>=0.24 in /usr/local/lib/python3.7/dist-packages (from Flask>=0.8->flask-ngrok) (1.1.0)\n",
            "Requirement already satisfied: click>=5.1 in /usr/local/lib/python3.7/dist-packages (from Flask>=0.8->flask-ngrok) (7.1.2)\n",
            "Requirement already satisfied: Jinja2>=2.10.1 in /usr/local/lib/python3.7/dist-packages (from Flask>=0.8->flask-ngrok) (2.11.3)\n",
            "Requirement already satisfied: MarkupSafe>=0.23 in /usr/local/lib/python3.7/dist-packages (from Jinja2>=2.10.1->Flask>=0.8->flask-ngrok) (1.1.1)\n",
            "Installing collected packages: flask-ngrok\n",
            "Successfully installed flask-ngrok-0.0.25\n"
          ],
          "name": "stdout"
        }
      ]
    },
    {
      "cell_type": "code",
      "metadata": {
        "id": "otF-iVtaYqPM"
      },
      "source": [
        "from IPython.display import HTML"
      ],
      "execution_count": null,
      "outputs": []
    },
    {
      "cell_type": "code",
      "metadata": {
        "id": "SNknrt_08P81",
        "colab": {
          "base_uri": "https://localhost:8080/"
        },
        "outputId": "1e98cf3c-0469-4aa3-8499-ad356bb05af7"
      },
      "source": [
        "from flask_ngrok import run_with_ngrok\n",
        "from flask import Flask, request, jsonify, render_template\n",
        "app = Flask(__name__)\n",
        "run_with_ngrok(app)\n",
        "@app.route('/content/drive/MyDrive/ASL')\n",
        "def home():\n",
        "    return render_template('/content/drive/MyDrive/ASL/index.html')\n",
        "\n",
        "\n",
        "\n",
        "app.run()\n"
      ],
      "execution_count": null,
      "outputs": [
        {
          "output_type": "stream",
          "text": [
            " * Serving Flask app \"__main__\" (lazy loading)\n",
            " * Environment: production\n",
            "\u001b[31m   WARNING: This is a development server. Do not use it in a production deployment.\u001b[0m\n",
            "\u001b[2m   Use a production WSGI server instead.\u001b[0m\n",
            " * Debug mode: off\n"
          ],
          "name": "stdout"
        },
        {
          "output_type": "stream",
          "text": [
            " * Running on http://127.0.0.1:5000/ (Press CTRL+C to quit)\n"
          ],
          "name": "stderr"
        },
        {
          "output_type": "stream",
          "text": [
            " * Running on http://b8828d21f6cd.ngrok.io\n",
            " * Traffic stats available on http://127.0.0.1:4040\n"
          ],
          "name": "stdout"
        },
        {
          "output_type": "stream",
          "text": [
            "127.0.0.1 - - [27/Feb/2021 11:57:13] \"\u001b[33mGET / HTTP/1.1\u001b[0m\" 404 -\n",
            "127.0.0.1 - - [27/Feb/2021 11:57:14] \"\u001b[33mGET /favicon.ico HTTP/1.1\u001b[0m\" 404 -\n",
            "127.0.0.1 - - [27/Feb/2021 11:57:35] \"\u001b[33mGET / HTTP/1.1\u001b[0m\" 404 -\n",
            "127.0.0.1 - - [27/Feb/2021 12:06:32] \"\u001b[33mGET / HTTP/1.1\u001b[0m\" 404 -\n"
          ],
          "name": "stderr"
        }
      ]
    },
    {
      "cell_type": "code",
      "metadata": {
        "id": "3zn4Cp8qSVeE"
      },
      "source": [
        ""
      ],
      "execution_count": null,
      "outputs": []
    },
    {
      "cell_type": "code",
      "metadata": {
        "colab": {
          "base_uri": "https://localhost:8080/",
          "height": 487
        },
        "id": "KBkTtremF32y",
        "outputId": "4a0cdd9e-52f4-4651-ab26-28580642d558"
      },
      "source": [
        "from sklearn.metrics import confusion_matrix\n",
        "results = model.predict(X_test2) # predict test labels\n",
        "Y_pred_classes = np.argmax(results, axis = 1) # Convert predictions classes to one hot vectors \n",
        "Y_true = np.argmax(Y_test,axis = 1) # Convert validation observations to one hot vectors\n",
        "\n",
        "# Create confusion matrix\n",
        "confusion_mtx = confusion_matrix(Y_true, Y_pred_classes) \n",
        "\n",
        "# Print confusion matrix\n",
        "fig = plt.figure(figsize=(10,8))\n",
        "ax1 = fig.add_subplot()\n",
        "sns.heatmap(confusion_mtx, annot=True, fmt=\"d\");\n",
        "labels=['A','B','C','D','E','F','G','H','I','J','K','L','M','N','O','P','Q','R',\\\n",
        "             'S','T','U','V','W','X','Y','Z']\n",
        "ax1.xaxis.set_ticklabels(labels); ax1.yaxis.set_ticklabels(labels);"
      ],
      "execution_count": null,
      "outputs": [
        {
          "output_type": "display_data",
          "data": {
            "image/png": "[encoded data removed]",
            "text/plain": [
              "<Figure size 720x576 with 2 Axes>"
            ]
          },
          "metadata": {
            "tags": [],
            "needs_background": "light"
          }
        }
      ]
    },
    {
      "cell_type": "code",
      "metadata": {
        "id": "3zyjkwfzF8oq"
      },
      "source": [
        "from keras import models\n",
        "layer_outputs = [layer.output for layer in model.layers[:10]] # Get outputs of top 10 layers\n",
        "activation_model = models.Model(inputs=model.input, outputs=layer_outputs) # Model returns outputs given inputs"
      ],
      "execution_count": null,
      "outputs": []
    },
    {
      "cell_type": "code",
      "metadata": {
        "id": "fFXNLZCuF_3a"
      },
      "source": [
        "from keras.preprocessing import image\n",
        "pix = np.array(X_train.iloc[0]).reshape((28,28)) # reshape input to 28x28\n",
        "img_tensor = image.img_to_array(pix) # convert image to numpy array\n",
        "img_tensor = np.expand_dims(img_tensor, axis=0)\n",
        "img_tensor /= 255. # normalize pixels\n",
        "activations = activation_model.predict(img_tensor) # Returns a list Numpy arrays w/one array per layer activation"
      ],
      "execution_count": null,
      "outputs": []
    },
    {
      "cell_type": "code",
      "metadata": {
        "colab": {
          "base_uri": "https://localhost:8080/"
        },
        "id": "RwHER1U3GD5h",
        "outputId": "62e83b0c-76c0-4404-afe2-6ac2230ad6f2"
      },
      "source": [
        "layer_names = []\n",
        "for layer in model.layers[:10]:\n",
        "    layer_names.append(layer.name) # Names of the layers\n",
        "    \n",
        "images_per_row = 16\n",
        "\n",
        "for layer_name, layer_activation in zip(layer_names, activations): # Displays the feature maps\n",
        "    n_features = layer_activation.shape[-1] # Number of features in the feature map\n",
        "    size = layer_activation.shape[1] #The feature map has shape (1, size, size, n_features).\n",
        "    n_cols = n_features // images_per_row # Tiles the activation channels in this matrix\n",
        "    display_grid = np.zeros((size * n_cols, images_per_row * size))\n",
        "    for col in range(n_cols): # Create grid showing the filters\n",
        "        for row in range(images_per_row):\n",
        "            channel_image = layer_activation[0,:, :, col * images_per_row + row]\n",
        "            channel_image -= channel_image.mean() # Post-processes the feature\n",
        "            channel_image /= channel_image.std()\n",
        "            channel_image *= 64\n",
        "            channel_image += 128\n",
        "            channel_image = np.clip(channel_image, 0, 255).astype('uint8')\n",
        "            display_grid[col * size : (col + 1) * size, # Displays the grid\n",
        "                         row * size : (row + 1) * size] = channel_image\n",
        "    scale = 1. / size\n",
        "    plt.figure(figsize=(scale * display_grid.shape[1],\n",
        "                        scale * display_grid.shape[0]))\n",
        "    plt.title(layer_name)\n",
        "    plt.grid(False)\n",
        "    plt.imshow(display_grid, aspect='auto', cmap='gray')"
      ],
      "execution_count": null,
      "outputs": [
        {
          "output_type": "stream",
          "text": [
            "/usr/local/lib/python3.6/dist-packages/ipykernel_launcher.py:16: RuntimeWarning: invalid value encountered in true_divide\n",
            "  app.launch_new_instance()\n"
          ],
          "name": "stderr"
        }
      ]
    }
  ]
}